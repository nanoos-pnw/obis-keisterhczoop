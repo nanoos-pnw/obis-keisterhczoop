{
 "cells": [
  {
   "cell_type": "markdown",
   "id": "5b4a8fe4-af33-4283-b286-e684e61f86a0",
   "metadata": {},
   "source": [
    "# DwC eMOFs. Keister Zooplankton Hood Canal 2012-13 data\n",
    "\n",
    "University of Washington Pelagic Hypoxia Hood Canal project, Zooplankton dataset.\n",
    "\n",
    "2022-1-12"
   ]
  },
  {
   "cell_type": "markdown",
   "id": "cbb0b7e2-a146-4b46-9cbe-4d7444091400",
   "metadata": {},
   "source": [
    "eMoF: Extended Measurement or Fact\n",
    "\n",
    "**TODO:**\n",
    "- DONE. Need to carry out a manual validation of the resulting emof table, specially for abundance. I'm seeing some repeated adjacent abundance values that are suspicious\n",
    "- consider other eMoF's to include? eg: day vs night, and other event-level metadata\n",
    "- consider rounding off abundance values to, say, 2-3 significant digits after decimal point\n",
    "- sex and life stage from `life_history_stage`\n",
    "    - Add emof records here, in addition to the `sex` and `lifeStage` columns added to the occurrence table?\n",
    "    - sex vocabulary: http://vocab.nerc.ac.uk/collection/S10/current/\n",
    "    - life stage vocabulary: http://vocab.nerc.ac.uk/collection/S11/current/"
   ]
  },
  {
   "cell_type": "code",
   "execution_count": 1,
   "id": "17bb67ab-2ea0-4ccd-a770-f7646434350f",
   "metadata": {},
   "outputs": [],
   "source": [
    "from datetime import datetime, timedelta, timezone\n",
    "from pathlib import Path\n",
    "\n",
    "import numpy as np\n",
    "import pandas as pd"
   ]
  },
  {
   "cell_type": "code",
   "execution_count": 2,
   "id": "e4450c4d-f57a-436f-b2a0-aa697c562bb1",
   "metadata": {},
   "outputs": [],
   "source": [
    "data_pth = Path(\".\")"
   ]
  },
  {
   "cell_type": "markdown",
   "id": "9803c80f-c40b-466e-8803-40bd3b014060",
   "metadata": {
    "tags": []
   },
   "source": [
    "## Process JSON file containing common mappings and strings"
   ]
  },
  {
   "cell_type": "code",
   "execution_count": 3,
   "id": "b26c0ebd-adec-438b-be4d-02d29a50ecfa",
   "metadata": {},
   "outputs": [],
   "source": [
    "with open(data_pth / 'common_mappings.json') as f:\n",
    "    common_mappings = json.load(f)"
   ]
  },
  {
   "cell_type": "code",
   "execution_count": 4,
   "id": "8f1e3d67-0afd-4aad-8726-c96cfca29ff7",
   "metadata": {},
   "outputs": [],
   "source": [
    "DatasetCode = common_mappings['datasetcode']\n",
    "net_tow = common_mappings['net_tow']\n",
    "\n",
    "iso8601_format = common_mappings['iso8601_format']"
   ]
  },
  {
   "cell_type": "markdown",
   "id": "2a9761d2-a10a-4635-86e9-53ef8f17e48a",
   "metadata": {},
   "source": [
    "## Pre-process data from csv for Event table"
   ]
  },
  {
   "cell_type": "markdown",
   "id": "dbeed0f9-cd16-45c1-9cd7-e1f76b479e3c",
   "metadata": {
    "tags": []
   },
   "source": [
    "### Read the csv file"
   ]
  },
  {
   "cell_type": "code",
   "execution_count": 5,
   "id": "2f553ec6-03b3-4e7f-9b17-646e41acfd25",
   "metadata": {},
   "outputs": [],
   "source": [
    "sourcecsvdata_pth = data_pth / \"sourcedata\" / \"bcodmo_dataset_682074_data.csv\""
   ]
  },
  {
   "cell_type": "markdown",
   "id": "e2ba2076-4b83-43c2-ba64-96b731529954",
   "metadata": {},
   "source": [
    "`usecols` defines the columns that will be kept and the order in which they'll be organized"
   ]
  },
  {
   "cell_type": "code",
   "execution_count": 6,
   "id": "3d6eaa8f-3742-4fc3-a4fb-06f6f9a597f2",
   "metadata": {},
   "outputs": [],
   "source": [
    "# I doubt I'll need any of the datetime columns here\n",
    "usecols = [\n",
    "    'sample_code', 'station', \n",
    "    'date', 'time_start', 'time', 'day_night', \n",
    "    'mesh_size', 'FWC_DS', \n",
    "    'species', 'life_history_stage', 'density'\n",
    "]\n",
    "\n",
    "emofsource_df = pd.read_csv(\n",
    "    sourcecsvdata_pth, \n",
    "    skiprows=[1], \n",
    "    parse_dates=['time'],\n",
    "    usecols=usecols\n",
    ")[usecols]"
   ]
  },
  {
   "cell_type": "code",
   "execution_count": 7,
   "id": "6dcc6d95-6c55-49ad-bbdd-6ae50ee78324",
   "metadata": {},
   "outputs": [
    {
     "data": {
      "text/plain": [
       "6884"
      ]
     },
     "execution_count": 7,
     "metadata": {},
     "output_type": "execute_result"
    }
   ],
   "source": [
    "len(emofsource_df)"
   ]
  },
  {
   "cell_type": "code",
   "execution_count": 8,
   "id": "41cfa16c-b46b-4843-adbb-afffb60a1fb2",
   "metadata": {},
   "outputs": [
    {
     "data": {
      "text/html": [
       "<div>\n",
       "<style scoped>\n",
       "    .dataframe tbody tr th:only-of-type {\n",
       "        vertical-align: middle;\n",
       "    }\n",
       "\n",
       "    .dataframe tbody tr th {\n",
       "        vertical-align: top;\n",
       "    }\n",
       "\n",
       "    .dataframe thead th {\n",
       "        text-align: right;\n",
       "    }\n",
       "</style>\n",
       "<table border=\"1\" class=\"dataframe\">\n",
       "  <thead>\n",
       "    <tr style=\"text-align: right;\">\n",
       "      <th></th>\n",
       "      <th>sample_code</th>\n",
       "      <th>station</th>\n",
       "      <th>date</th>\n",
       "      <th>time_start</th>\n",
       "      <th>time</th>\n",
       "      <th>day_night</th>\n",
       "      <th>mesh_size</th>\n",
       "      <th>FWC_DS</th>\n",
       "      <th>species</th>\n",
       "      <th>life_history_stage</th>\n",
       "      <th>density</th>\n",
       "    </tr>\n",
       "  </thead>\n",
       "  <tbody>\n",
       "    <tr>\n",
       "      <th>0</th>\n",
       "      <td>20131003DBDm2_200</td>\n",
       "      <td>DB</td>\n",
       "      <td>20131003</td>\n",
       "      <td>14:11</td>\n",
       "      <td>2013-10-03 14:11:00+00:00</td>\n",
       "      <td>Day</td>\n",
       "      <td>200</td>\n",
       "      <td>DS</td>\n",
       "      <td>ACARTIA</td>\n",
       "      <td>3;_CIII</td>\n",
       "      <td>6.395349</td>\n",
       "    </tr>\n",
       "    <tr>\n",
       "      <th>1</th>\n",
       "      <td>20130906DBiDm1_200</td>\n",
       "      <td>DB</td>\n",
       "      <td>20130906</td>\n",
       "      <td>16:17</td>\n",
       "      <td>2013-09-06 16:17:00+00:00</td>\n",
       "      <td>Day</td>\n",
       "      <td>200</td>\n",
       "      <td>FWC</td>\n",
       "      <td>ACARTIA</td>\n",
       "      <td>5;_CV</td>\n",
       "      <td>38.759690</td>\n",
       "    </tr>\n",
       "    <tr>\n",
       "      <th>2</th>\n",
       "      <td>20131003DBDm1_200</td>\n",
       "      <td>DB</td>\n",
       "      <td>20131003</td>\n",
       "      <td>NaN</td>\n",
       "      <td>NaT</td>\n",
       "      <td>Day</td>\n",
       "      <td>200</td>\n",
       "      <td>FWC</td>\n",
       "      <td>ACARTIA</td>\n",
       "      <td>Female;_Adult</td>\n",
       "      <td>0.384615</td>\n",
       "    </tr>\n",
       "    <tr>\n",
       "      <th>3</th>\n",
       "      <td>20131003DBDm1_200</td>\n",
       "      <td>DB</td>\n",
       "      <td>20131003</td>\n",
       "      <td>NaN</td>\n",
       "      <td>NaT</td>\n",
       "      <td>Day</td>\n",
       "      <td>200</td>\n",
       "      <td>FWC</td>\n",
       "      <td>ACARTIA</td>\n",
       "      <td>Male;_Adult</td>\n",
       "      <td>1.538462</td>\n",
       "    </tr>\n",
       "    <tr>\n",
       "      <th>4</th>\n",
       "      <td>20120614DBDm3_200</td>\n",
       "      <td>DB</td>\n",
       "      <td>20120614</td>\n",
       "      <td>17:25</td>\n",
       "      <td>2012-06-14 17:25:00+00:00</td>\n",
       "      <td>Day</td>\n",
       "      <td>200</td>\n",
       "      <td>DS</td>\n",
       "      <td>ACARTIA_CLAUSI</td>\n",
       "      <td>Female;_Adult</td>\n",
       "      <td>21.052632</td>\n",
       "    </tr>\n",
       "  </tbody>\n",
       "</table>\n",
       "</div>"
      ],
      "text/plain": [
       "          sample_code station      date time_start                      time  \\\n",
       "0   20131003DBDm2_200      DB  20131003      14:11 2013-10-03 14:11:00+00:00   \n",
       "1  20130906DBiDm1_200      DB  20130906      16:17 2013-09-06 16:17:00+00:00   \n",
       "2   20131003DBDm1_200      DB  20131003        NaN                       NaT   \n",
       "3   20131003DBDm1_200      DB  20131003        NaN                       NaT   \n",
       "4   20120614DBDm3_200      DB  20120614      17:25 2012-06-14 17:25:00+00:00   \n",
       "\n",
       "  day_night  mesh_size FWC_DS         species life_history_stage    density  \n",
       "0       Day        200     DS         ACARTIA            3;_CIII   6.395349  \n",
       "1       Day        200    FWC         ACARTIA              5;_CV  38.759690  \n",
       "2       Day        200    FWC         ACARTIA      Female;_Adult   0.384615  \n",
       "3       Day        200    FWC         ACARTIA        Male;_Adult   1.538462  \n",
       "4       Day        200     DS  ACARTIA_CLAUSI      Female;_Adult  21.052632  "
      ]
     },
     "execution_count": 8,
     "metadata": {},
     "output_type": "execute_result"
    }
   ],
   "source": [
    "emofsource_df.head()"
   ]
  },
  {
   "cell_type": "markdown",
   "id": "dde6e90d-b424-4802-9f9d-13389f8eae30",
   "metadata": {},
   "source": [
    "## Read dwcEvent and dwcOccurrence csv's"
   ]
  },
  {
   "cell_type": "code",
   "execution_count": 9,
   "id": "9e258123-8c6c-4351-a0dd-55ff6e8c846f",
   "metadata": {},
   "outputs": [],
   "source": [
    "dwcevent_df = pd.read_csv(\n",
    "    data_pth / \"aligned_csvs\" / \"DwC_event.csv\",\n",
    "    parse_dates=['eventDate'],\n",
    "    usecols=['eventID', 'parentEventID', 'eventDate']\n",
    ")\n",
    "\n",
    "dwcoccurrence_df = pd.read_csv(\n",
    "    data_pth / \"aligned_csvs\" / \"DwC_occurrence.csv\",\n",
    "    usecols=['occurrenceID', 'eventID', 'verbatimIdentification']\n",
    ")\n",
    "\n",
    "occurrence_vs_life_history_stage = pd.read_csv(\n",
    "    data_pth / \"intermediate_DwC_occurrence_life_history_stage.csv\"\n",
    ")"
   ]
  },
  {
   "cell_type": "markdown",
   "id": "7decf3c6-b8ac-4997-a0fe-a4e4306a4bed",
   "metadata": {},
   "source": [
    "Add `life_history_stage` to the occurrence dataframe, to enable the eMoF data processing steps used here."
   ]
  },
  {
   "cell_type": "code",
   "execution_count": 10,
   "id": "33a01c90-4f66-48d8-bcca-bff2b2ef4f30",
   "metadata": {},
   "outputs": [],
   "source": [
    "dwcoccurrence_df = dwcoccurrence_df.merge(occurrence_vs_life_history_stage, on='occurrenceID')"
   ]
  },
  {
   "cell_type": "markdown",
   "id": "695013e2-da23-4bfd-9e09-41ac06b07b65",
   "metadata": {},
   "source": [
    "## Create empty eMoF dataframe"
   ]
  },
  {
   "cell_type": "code",
   "execution_count": 11,
   "id": "48a89608-e2b4-4284-b238-4fd5e10bbc8e",
   "metadata": {},
   "outputs": [],
   "source": [
    "# Won't use measurementID, per Abby's explanation on Slack\n",
    "emof_cols_dtypes = np.dtype(\n",
    "    [\n",
    "        ('eventID', str),\n",
    "        ('occurrenceID', str), \n",
    "        # --- temporary, for validation\n",
    "        # ('life_history_stage', str),\n",
    "        # ('verbatimIdentification', str),\n",
    "        # -------------------------------\n",
    "        ('measurementType', str),\n",
    "        ('measurementTypeID', str), \n",
    "        ('measurementValue', str),\n",
    "        ('measurementValueID', str),\n",
    "        ('measurementAccuracy', str),\n",
    "        ('measurementUnit', str),\n",
    "        ('measurementUnitID', str),\n",
    "        ('measurementDeterminedDate', str),\n",
    "        ('measurementDeterminedBy', str), \n",
    "        ('measurementMethod', str),\n",
    "        ('measurementRemarks', str)\n",
    "    ]\n",
    ")"
   ]
  },
  {
   "cell_type": "code",
   "execution_count": 12,
   "id": "54768e1d-08e2-47a8-9030-e170c4a3d9fc",
   "metadata": {},
   "outputs": [],
   "source": [
    "emof_df = pd.DataFrame(np.empty(0, dtype=emof_cols_dtypes))"
   ]
  },
  {
   "cell_type": "markdown",
   "id": "d1bd676e-c2ae-4f4f-baa6-2721aa7cd545",
   "metadata": {},
   "source": [
    "## MoF's associated with an event rather than an occurrence\n",
    "\n",
    "These will have no `occcurrenceID` entry"
   ]
  },
  {
   "cell_type": "markdown",
   "id": "963b7aed-65aa-4e42-be8c-c1a5981dc62c",
   "metadata": {},
   "source": [
    "### Associated with sample events"
   ]
  },
  {
   "cell_type": "code",
   "execution_count": 13,
   "id": "cb2b6e12-80fd-4c23-b60a-ce7419095c4a",
   "metadata": {},
   "outputs": [],
   "source": [
    "emofsource_samples_df = dwcevent_df.merge(\n",
    "    emofsource_df[['sample_code', 'mesh_size', 'FWC_DS']], \n",
    "    how='inner',\n",
    "    left_on='eventID',\n",
    "    right_on='sample_code'\n",
    ")\n",
    "\n",
    "emofsource_samples_df = (\n",
    "    emofsource_samples_df\n",
    "    .drop_duplicates()\n",
    "    .drop(columns='sample_code')\n",
    "    .sort_values(by='eventID')\n",
    "    .reset_index(drop=True)\n",
    ")"
   ]
  },
  {
   "cell_type": "code",
   "execution_count": 14,
   "id": "79fc6bf2-9c29-4c93-9557-625c75726d82",
   "metadata": {},
   "outputs": [
    {
     "data": {
      "text/plain": [
       "271"
      ]
     },
     "execution_count": 14,
     "metadata": {},
     "output_type": "execute_result"
    }
   ],
   "source": [
    "len(emofsource_samples_df)"
   ]
  },
  {
   "cell_type": "code",
   "execution_count": 15,
   "id": "81a521ee-6267-4333-b619-14460dd8511c",
   "metadata": {},
   "outputs": [
    {
     "data": {
      "text/html": [
       "<div>\n",
       "<style scoped>\n",
       "    .dataframe tbody tr th:only-of-type {\n",
       "        vertical-align: middle;\n",
       "    }\n",
       "\n",
       "    .dataframe tbody tr th {\n",
       "        vertical-align: top;\n",
       "    }\n",
       "\n",
       "    .dataframe thead th {\n",
       "        text-align: right;\n",
       "    }\n",
       "</style>\n",
       "<table border=\"1\" class=\"dataframe\">\n",
       "  <thead>\n",
       "    <tr style=\"text-align: right;\">\n",
       "      <th></th>\n",
       "      <th>eventID</th>\n",
       "      <th>parentEventID</th>\n",
       "      <th>eventDate</th>\n",
       "      <th>mesh_size</th>\n",
       "      <th>FWC_DS</th>\n",
       "    </tr>\n",
       "  </thead>\n",
       "  <tbody>\n",
       "    <tr>\n",
       "      <th>0</th>\n",
       "      <td>20120611UNDm1_200</td>\n",
       "      <td>UWPHHCZoop_CB975-20120611UND</td>\n",
       "      <td>2012-06-11 14:10:00+00:00</td>\n",
       "      <td>200</td>\n",
       "      <td>DS</td>\n",
       "    </tr>\n",
       "    <tr>\n",
       "      <th>1</th>\n",
       "      <td>20120611UNDm1_335</td>\n",
       "      <td>UWPHHCZoop_CB975-20120611UND</td>\n",
       "      <td>2012-06-11 15:50:00+00:00</td>\n",
       "      <td>335</td>\n",
       "      <td>DS</td>\n",
       "    </tr>\n",
       "    <tr>\n",
       "      <th>2</th>\n",
       "      <td>20120611UNDm2_200</td>\n",
       "      <td>UWPHHCZoop_CB975-20120611UND</td>\n",
       "      <td>2012-06-11 16:53:00+00:00</td>\n",
       "      <td>200</td>\n",
       "      <td>DS</td>\n",
       "    </tr>\n",
       "    <tr>\n",
       "      <th>3</th>\n",
       "      <td>20120611UNDm2_335</td>\n",
       "      <td>UWPHHCZoop_CB975-20120611UND</td>\n",
       "      <td>2012-06-11 15:50:00+00:00</td>\n",
       "      <td>335</td>\n",
       "      <td>DS</td>\n",
       "    </tr>\n",
       "    <tr>\n",
       "      <th>4</th>\n",
       "      <td>20120611UNDm3_200</td>\n",
       "      <td>UWPHHCZoop_CB975-20120611UND</td>\n",
       "      <td>2012-06-11 23:10:00+00:00</td>\n",
       "      <td>200</td>\n",
       "      <td>DS</td>\n",
       "    </tr>\n",
       "  </tbody>\n",
       "</table>\n",
       "</div>"
      ],
      "text/plain": [
       "             eventID                 parentEventID                 eventDate  \\\n",
       "0  20120611UNDm1_200  UWPHHCZoop_CB975-20120611UND 2012-06-11 14:10:00+00:00   \n",
       "1  20120611UNDm1_335  UWPHHCZoop_CB975-20120611UND 2012-06-11 15:50:00+00:00   \n",
       "2  20120611UNDm2_200  UWPHHCZoop_CB975-20120611UND 2012-06-11 16:53:00+00:00   \n",
       "3  20120611UNDm2_335  UWPHHCZoop_CB975-20120611UND 2012-06-11 15:50:00+00:00   \n",
       "4  20120611UNDm3_200  UWPHHCZoop_CB975-20120611UND 2012-06-11 23:10:00+00:00   \n",
       "\n",
       "   mesh_size FWC_DS  \n",
       "0        200     DS  \n",
       "1        335     DS  \n",
       "2        200     DS  \n",
       "3        335     DS  \n",
       "4        200     DS  "
      ]
     },
     "execution_count": 15,
     "metadata": {},
     "output_type": "execute_result"
    }
   ],
   "source": [
    "emofsource_samples_df.head()"
   ]
  },
  {
   "cell_type": "markdown",
   "id": "81872b5f-d6ac-434b-bbf5-8324e45c9d92",
   "metadata": {},
   "source": [
    "#### multinet sampling"
   ]
  },
  {
   "cell_type": "code",
   "execution_count": 16,
   "id": "44598a79-1fb2-4c16-966a-9ef2a2975e6e",
   "metadata": {},
   "outputs": [],
   "source": [
    "multinet_emof_df = emofsource_samples_df.copy()"
   ]
  },
  {
   "cell_type": "code",
   "execution_count": 17,
   "id": "40762d03-56e0-471f-a555-191b6bd5cbfb",
   "metadata": {},
   "outputs": [],
   "source": [
    "multinet_emof_df['measurementType'] = \"multinet\"\n",
    "multinet_emof_df['measurementTypeID'] = \"http://vocab.nerc.ac.uk/collection/L05/current/68/\"\n",
    "multinet_emof_df['measurementValue'] = 'Hydro-bios 5-net'"
   ]
  },
  {
   "cell_type": "code",
   "execution_count": 18,
   "id": "2cdd533b-b9d0-4337-bc78-64030917e8b7",
   "metadata": {},
   "outputs": [
    {
     "data": {
      "text/plain": [
       "271"
      ]
     },
     "execution_count": 18,
     "metadata": {},
     "output_type": "execute_result"
    }
   ],
   "source": [
    "len(multinet_emof_df)"
   ]
  },
  {
   "cell_type": "markdown",
   "id": "7d7e2afe-ebb0-4a7e-8f41-36d1e43f5967",
   "metadata": {},
   "source": [
    "Populate (append to) the `emof_df` table with the emof records."
   ]
  },
  {
   "cell_type": "code",
   "execution_count": 19,
   "id": "bf615525-9586-400c-8631-b4b66af6a4da",
   "metadata": {},
   "outputs": [],
   "source": [
    "emof_df = emof_df.append(\n",
    "    multinet_emof_df[['eventID', \n",
    "                      'measurementType', 'measurementTypeID', 'measurementValue']], \n",
    "    ignore_index=True\n",
    ")"
   ]
  },
  {
   "cell_type": "code",
   "execution_count": 20,
   "id": "c0038833-5082-49e5-8cb1-3e4d218dabaa",
   "metadata": {},
   "outputs": [
    {
     "data": {
      "text/plain": [
       "271"
      ]
     },
     "execution_count": 20,
     "metadata": {},
     "output_type": "execute_result"
    }
   ],
   "source": [
    "len(emof_df)"
   ]
  },
  {
   "cell_type": "markdown",
   "id": "8764c877-3ebb-4acc-b85c-4ed5f16124af",
   "metadata": {},
   "source": [
    "#### depth stratified vs full water column sampling"
   ]
  },
  {
   "cell_type": "code",
   "execution_count": 21,
   "id": "d9432b5c-9110-441b-b470-71a2675518a3",
   "metadata": {},
   "outputs": [],
   "source": [
    "fwcds_emof_df = emofsource_samples_df.copy()"
   ]
  },
  {
   "cell_type": "code",
   "execution_count": 22,
   "id": "24af868c-a358-49bb-a3d9-401808b1cbfd",
   "metadata": {},
   "outputs": [],
   "source": [
    "fwcds_emof_df['measurementType'] = \"Sampling method\"\n",
    "fwcds_emof_df['measurementTypeID'] = \"http://vocab.nerc.ac.uk/collection/Q01/current/Q0100003/\"\n",
    "fwcds_emof_df['measurementValue'] = fwcds_emof_df['FWC_DS'].apply(lambda fwc_ds: net_tow[fwc_ds])"
   ]
  },
  {
   "cell_type": "code",
   "execution_count": 23,
   "id": "6917aa21-9464-4f31-8455-eb028498ca65",
   "metadata": {},
   "outputs": [
    {
     "data": {
      "text/plain": [
       "271"
      ]
     },
     "execution_count": 23,
     "metadata": {},
     "output_type": "execute_result"
    }
   ],
   "source": [
    "len(fwcds_emof_df)"
   ]
  },
  {
   "cell_type": "markdown",
   "id": "00ee8643-4970-4d75-9d02-7fc6d108ef25",
   "metadata": {},
   "source": [
    "Populate (append to) the `emof_df` table with the emof records."
   ]
  },
  {
   "cell_type": "code",
   "execution_count": 24,
   "id": "0c9ea01f-2d6c-4fac-a03f-b1addff4fecf",
   "metadata": {},
   "outputs": [],
   "source": [
    "emof_df = emof_df.append(\n",
    "    fwcds_emof_df[['eventID', \n",
    "                   'measurementType', 'measurementTypeID', 'measurementValue']], \n",
    "    ignore_index=True\n",
    ")"
   ]
  },
  {
   "cell_type": "code",
   "execution_count": 25,
   "id": "5b8ef1c2-8ca0-4403-a6dd-a7a757217da7",
   "metadata": {},
   "outputs": [
    {
     "data": {
      "text/plain": [
       "542"
      ]
     },
     "execution_count": 25,
     "metadata": {},
     "output_type": "execute_result"
    }
   ],
   "source": [
    "len(emof_df)"
   ]
  },
  {
   "cell_type": "code",
   "execution_count": 26,
   "id": "af9675d2-b876-4b3d-9abd-a865f286559b",
   "metadata": {},
   "outputs": [
    {
     "data": {
      "text/html": [
       "<div>\n",
       "<style scoped>\n",
       "    .dataframe tbody tr th:only-of-type {\n",
       "        vertical-align: middle;\n",
       "    }\n",
       "\n",
       "    .dataframe tbody tr th {\n",
       "        vertical-align: top;\n",
       "    }\n",
       "\n",
       "    .dataframe thead th {\n",
       "        text-align: right;\n",
       "    }\n",
       "</style>\n",
       "<table border=\"1\" class=\"dataframe\">\n",
       "  <thead>\n",
       "    <tr style=\"text-align: right;\">\n",
       "      <th></th>\n",
       "      <th>eventID</th>\n",
       "      <th>occurrenceID</th>\n",
       "      <th>measurementType</th>\n",
       "      <th>measurementTypeID</th>\n",
       "      <th>measurementValue</th>\n",
       "      <th>measurementValueID</th>\n",
       "      <th>measurementAccuracy</th>\n",
       "      <th>measurementUnit</th>\n",
       "      <th>measurementUnitID</th>\n",
       "      <th>measurementDeterminedDate</th>\n",
       "      <th>measurementDeterminedBy</th>\n",
       "      <th>measurementMethod</th>\n",
       "      <th>measurementRemarks</th>\n",
       "    </tr>\n",
       "  </thead>\n",
       "  <tbody>\n",
       "    <tr>\n",
       "      <th>0</th>\n",
       "      <td>20120611UNDm1_200</td>\n",
       "      <td>NaN</td>\n",
       "      <td>multinet</td>\n",
       "      <td>http://vocab.nerc.ac.uk/collection/L05/current...</td>\n",
       "      <td>Hydro-bios 5-net</td>\n",
       "      <td>NaN</td>\n",
       "      <td>NaN</td>\n",
       "      <td>NaN</td>\n",
       "      <td>NaN</td>\n",
       "      <td>NaN</td>\n",
       "      <td>NaN</td>\n",
       "      <td>NaN</td>\n",
       "      <td>NaN</td>\n",
       "    </tr>\n",
       "    <tr>\n",
       "      <th>1</th>\n",
       "      <td>20120611UNDm1_335</td>\n",
       "      <td>NaN</td>\n",
       "      <td>multinet</td>\n",
       "      <td>http://vocab.nerc.ac.uk/collection/L05/current...</td>\n",
       "      <td>Hydro-bios 5-net</td>\n",
       "      <td>NaN</td>\n",
       "      <td>NaN</td>\n",
       "      <td>NaN</td>\n",
       "      <td>NaN</td>\n",
       "      <td>NaN</td>\n",
       "      <td>NaN</td>\n",
       "      <td>NaN</td>\n",
       "      <td>NaN</td>\n",
       "    </tr>\n",
       "    <tr>\n",
       "      <th>2</th>\n",
       "      <td>20120611UNDm2_200</td>\n",
       "      <td>NaN</td>\n",
       "      <td>multinet</td>\n",
       "      <td>http://vocab.nerc.ac.uk/collection/L05/current...</td>\n",
       "      <td>Hydro-bios 5-net</td>\n",
       "      <td>NaN</td>\n",
       "      <td>NaN</td>\n",
       "      <td>NaN</td>\n",
       "      <td>NaN</td>\n",
       "      <td>NaN</td>\n",
       "      <td>NaN</td>\n",
       "      <td>NaN</td>\n",
       "      <td>NaN</td>\n",
       "    </tr>\n",
       "    <tr>\n",
       "      <th>3</th>\n",
       "      <td>20120611UNDm2_335</td>\n",
       "      <td>NaN</td>\n",
       "      <td>multinet</td>\n",
       "      <td>http://vocab.nerc.ac.uk/collection/L05/current...</td>\n",
       "      <td>Hydro-bios 5-net</td>\n",
       "      <td>NaN</td>\n",
       "      <td>NaN</td>\n",
       "      <td>NaN</td>\n",
       "      <td>NaN</td>\n",
       "      <td>NaN</td>\n",
       "      <td>NaN</td>\n",
       "      <td>NaN</td>\n",
       "      <td>NaN</td>\n",
       "    </tr>\n",
       "    <tr>\n",
       "      <th>4</th>\n",
       "      <td>20120611UNDm3_200</td>\n",
       "      <td>NaN</td>\n",
       "      <td>multinet</td>\n",
       "      <td>http://vocab.nerc.ac.uk/collection/L05/current...</td>\n",
       "      <td>Hydro-bios 5-net</td>\n",
       "      <td>NaN</td>\n",
       "      <td>NaN</td>\n",
       "      <td>NaN</td>\n",
       "      <td>NaN</td>\n",
       "      <td>NaN</td>\n",
       "      <td>NaN</td>\n",
       "      <td>NaN</td>\n",
       "      <td>NaN</td>\n",
       "    </tr>\n",
       "    <tr>\n",
       "      <th>5</th>\n",
       "      <td>20120611UNDm3_335</td>\n",
       "      <td>NaN</td>\n",
       "      <td>multinet</td>\n",
       "      <td>http://vocab.nerc.ac.uk/collection/L05/current...</td>\n",
       "      <td>Hydro-bios 5-net</td>\n",
       "      <td>NaN</td>\n",
       "      <td>NaN</td>\n",
       "      <td>NaN</td>\n",
       "      <td>NaN</td>\n",
       "      <td>NaN</td>\n",
       "      <td>NaN</td>\n",
       "      <td>NaN</td>\n",
       "      <td>NaN</td>\n",
       "    </tr>\n",
       "    <tr>\n",
       "      <th>6</th>\n",
       "      <td>20120611UNDm4_200</td>\n",
       "      <td>NaN</td>\n",
       "      <td>multinet</td>\n",
       "      <td>http://vocab.nerc.ac.uk/collection/L05/current...</td>\n",
       "      <td>Hydro-bios 5-net</td>\n",
       "      <td>NaN</td>\n",
       "      <td>NaN</td>\n",
       "      <td>NaN</td>\n",
       "      <td>NaN</td>\n",
       "      <td>NaN</td>\n",
       "      <td>NaN</td>\n",
       "      <td>NaN</td>\n",
       "      <td>NaN</td>\n",
       "    </tr>\n",
       "    <tr>\n",
       "      <th>7</th>\n",
       "      <td>20120611UNNm1_200</td>\n",
       "      <td>NaN</td>\n",
       "      <td>multinet</td>\n",
       "      <td>http://vocab.nerc.ac.uk/collection/L05/current...</td>\n",
       "      <td>Hydro-bios 5-net</td>\n",
       "      <td>NaN</td>\n",
       "      <td>NaN</td>\n",
       "      <td>NaN</td>\n",
       "      <td>NaN</td>\n",
       "      <td>NaN</td>\n",
       "      <td>NaN</td>\n",
       "      <td>NaN</td>\n",
       "      <td>NaN</td>\n",
       "    </tr>\n",
       "    <tr>\n",
       "      <th>8</th>\n",
       "      <td>20120611UNNm1_335</td>\n",
       "      <td>NaN</td>\n",
       "      <td>multinet</td>\n",
       "      <td>http://vocab.nerc.ac.uk/collection/L05/current...</td>\n",
       "      <td>Hydro-bios 5-net</td>\n",
       "      <td>NaN</td>\n",
       "      <td>NaN</td>\n",
       "      <td>NaN</td>\n",
       "      <td>NaN</td>\n",
       "      <td>NaN</td>\n",
       "      <td>NaN</td>\n",
       "      <td>NaN</td>\n",
       "      <td>NaN</td>\n",
       "    </tr>\n",
       "    <tr>\n",
       "      <th>9</th>\n",
       "      <td>20120611UNNm2_200</td>\n",
       "      <td>NaN</td>\n",
       "      <td>multinet</td>\n",
       "      <td>http://vocab.nerc.ac.uk/collection/L05/current...</td>\n",
       "      <td>Hydro-bios 5-net</td>\n",
       "      <td>NaN</td>\n",
       "      <td>NaN</td>\n",
       "      <td>NaN</td>\n",
       "      <td>NaN</td>\n",
       "      <td>NaN</td>\n",
       "      <td>NaN</td>\n",
       "      <td>NaN</td>\n",
       "      <td>NaN</td>\n",
       "    </tr>\n",
       "  </tbody>\n",
       "</table>\n",
       "</div>"
      ],
      "text/plain": [
       "             eventID occurrenceID measurementType  \\\n",
       "0  20120611UNDm1_200          NaN        multinet   \n",
       "1  20120611UNDm1_335          NaN        multinet   \n",
       "2  20120611UNDm2_200          NaN        multinet   \n",
       "3  20120611UNDm2_335          NaN        multinet   \n",
       "4  20120611UNDm3_200          NaN        multinet   \n",
       "5  20120611UNDm3_335          NaN        multinet   \n",
       "6  20120611UNDm4_200          NaN        multinet   \n",
       "7  20120611UNNm1_200          NaN        multinet   \n",
       "8  20120611UNNm1_335          NaN        multinet   \n",
       "9  20120611UNNm2_200          NaN        multinet   \n",
       "\n",
       "                                   measurementTypeID  measurementValue  \\\n",
       "0  http://vocab.nerc.ac.uk/collection/L05/current...  Hydro-bios 5-net   \n",
       "1  http://vocab.nerc.ac.uk/collection/L05/current...  Hydro-bios 5-net   \n",
       "2  http://vocab.nerc.ac.uk/collection/L05/current...  Hydro-bios 5-net   \n",
       "3  http://vocab.nerc.ac.uk/collection/L05/current...  Hydro-bios 5-net   \n",
       "4  http://vocab.nerc.ac.uk/collection/L05/current...  Hydro-bios 5-net   \n",
       "5  http://vocab.nerc.ac.uk/collection/L05/current...  Hydro-bios 5-net   \n",
       "6  http://vocab.nerc.ac.uk/collection/L05/current...  Hydro-bios 5-net   \n",
       "7  http://vocab.nerc.ac.uk/collection/L05/current...  Hydro-bios 5-net   \n",
       "8  http://vocab.nerc.ac.uk/collection/L05/current...  Hydro-bios 5-net   \n",
       "9  http://vocab.nerc.ac.uk/collection/L05/current...  Hydro-bios 5-net   \n",
       "\n",
       "  measurementValueID measurementAccuracy measurementUnit measurementUnitID  \\\n",
       "0                NaN                 NaN             NaN               NaN   \n",
       "1                NaN                 NaN             NaN               NaN   \n",
       "2                NaN                 NaN             NaN               NaN   \n",
       "3                NaN                 NaN             NaN               NaN   \n",
       "4                NaN                 NaN             NaN               NaN   \n",
       "5                NaN                 NaN             NaN               NaN   \n",
       "6                NaN                 NaN             NaN               NaN   \n",
       "7                NaN                 NaN             NaN               NaN   \n",
       "8                NaN                 NaN             NaN               NaN   \n",
       "9                NaN                 NaN             NaN               NaN   \n",
       "\n",
       "  measurementDeterminedDate measurementDeterminedBy measurementMethod  \\\n",
       "0                       NaN                     NaN               NaN   \n",
       "1                       NaN                     NaN               NaN   \n",
       "2                       NaN                     NaN               NaN   \n",
       "3                       NaN                     NaN               NaN   \n",
       "4                       NaN                     NaN               NaN   \n",
       "5                       NaN                     NaN               NaN   \n",
       "6                       NaN                     NaN               NaN   \n",
       "7                       NaN                     NaN               NaN   \n",
       "8                       NaN                     NaN               NaN   \n",
       "9                       NaN                     NaN               NaN   \n",
       "\n",
       "  measurementRemarks  \n",
       "0                NaN  \n",
       "1                NaN  \n",
       "2                NaN  \n",
       "3                NaN  \n",
       "4                NaN  \n",
       "5                NaN  \n",
       "6                NaN  \n",
       "7                NaN  \n",
       "8                NaN  \n",
       "9                NaN  "
      ]
     },
     "execution_count": 26,
     "metadata": {},
     "output_type": "execute_result"
    }
   ],
   "source": [
    "emof_df.head(10)"
   ]
  },
  {
   "cell_type": "markdown",
   "id": "07415627-c903-4463-85aa-476385fadde3",
   "metadata": {},
   "source": [
    "#### mesh size"
   ]
  },
  {
   "cell_type": "code",
   "execution_count": 27,
   "id": "2469b3b4-7447-44d4-ab0c-93994cb12a01",
   "metadata": {},
   "outputs": [],
   "source": [
    "mesh_emof_df = emofsource_samples_df.copy()"
   ]
  },
  {
   "cell_type": "code",
   "execution_count": 28,
   "id": "1b681d71-d5fc-452c-b4d2-0223d0ae1c21",
   "metadata": {},
   "outputs": [],
   "source": [
    "mesh_emof_df['measurementType'] = \"Sampling net mesh size\"\n",
    "mesh_emof_df['measurementTypeID'] = \"http://vocab.nerc.ac.uk/collection/Q01/current/Q0100015/\"\n",
    "mesh_emof_df['measurementUnit'] = \"Micrometres (microns)\"\n",
    "mesh_emof_df['measurementUnitID'] = \"http://vocab.nerc.ac.uk/collection/P06/current/UMIC/\"\n",
    "\n",
    "mesh_emof_df.rename(columns={'mesh_size':'measurementValue'}, inplace=True)"
   ]
  },
  {
   "cell_type": "code",
   "execution_count": 29,
   "id": "b0eeb244-ca17-4661-9cfc-22482cb8c356",
   "metadata": {},
   "outputs": [
    {
     "data": {
      "text/plain": [
       "271"
      ]
     },
     "execution_count": 29,
     "metadata": {},
     "output_type": "execute_result"
    }
   ],
   "source": [
    "len(mesh_emof_df)"
   ]
  },
  {
   "cell_type": "markdown",
   "id": "683c474e-9d30-4fc5-8d80-9ae5f6799bc4",
   "metadata": {},
   "source": [
    "Populate (append to) the `emof_df` table with the emof records."
   ]
  },
  {
   "cell_type": "code",
   "execution_count": 30,
   "id": "b58595ac-9a3c-4018-9b2c-27af6c6e732c",
   "metadata": {},
   "outputs": [],
   "source": [
    "emof_df = emof_df.append(\n",
    "    mesh_emof_df[['eventID', \n",
    "                  'measurementType', 'measurementTypeID', 'measurementValue', \n",
    "                  'measurementUnit', 'measurementUnitID']], \n",
    "    ignore_index=True\n",
    ")"
   ]
  },
  {
   "cell_type": "code",
   "execution_count": 31,
   "id": "50ba8fa0-423f-4a1b-988d-12e9a9ca9785",
   "metadata": {},
   "outputs": [
    {
     "data": {
      "text/plain": [
       "813"
      ]
     },
     "execution_count": 31,
     "metadata": {},
     "output_type": "execute_result"
    }
   ],
   "source": [
    "len(emof_df)"
   ]
  },
  {
   "cell_type": "code",
   "execution_count": 32,
   "id": "f3efdb1d-4ba5-4feb-a712-f5eb38d95151",
   "metadata": {},
   "outputs": [
    {
     "data": {
      "text/html": [
       "<div>\n",
       "<style scoped>\n",
       "    .dataframe tbody tr th:only-of-type {\n",
       "        vertical-align: middle;\n",
       "    }\n",
       "\n",
       "    .dataframe tbody tr th {\n",
       "        vertical-align: top;\n",
       "    }\n",
       "\n",
       "    .dataframe thead th {\n",
       "        text-align: right;\n",
       "    }\n",
       "</style>\n",
       "<table border=\"1\" class=\"dataframe\">\n",
       "  <thead>\n",
       "    <tr style=\"text-align: right;\">\n",
       "      <th></th>\n",
       "      <th>eventID</th>\n",
       "      <th>occurrenceID</th>\n",
       "      <th>measurementType</th>\n",
       "      <th>measurementTypeID</th>\n",
       "      <th>measurementValue</th>\n",
       "      <th>measurementValueID</th>\n",
       "      <th>measurementAccuracy</th>\n",
       "      <th>measurementUnit</th>\n",
       "      <th>measurementUnitID</th>\n",
       "      <th>measurementDeterminedDate</th>\n",
       "      <th>measurementDeterminedBy</th>\n",
       "      <th>measurementMethod</th>\n",
       "      <th>measurementRemarks</th>\n",
       "    </tr>\n",
       "  </thead>\n",
       "  <tbody>\n",
       "    <tr>\n",
       "      <th>803</th>\n",
       "      <td>20131003DBDm3_200</td>\n",
       "      <td>NaN</td>\n",
       "      <td>Sampling net mesh size</td>\n",
       "      <td>http://vocab.nerc.ac.uk/collection/Q01/current...</td>\n",
       "      <td>200</td>\n",
       "      <td>NaN</td>\n",
       "      <td>NaN</td>\n",
       "      <td>Micrometres (microns)</td>\n",
       "      <td>http://vocab.nerc.ac.uk/collection/P06/current...</td>\n",
       "      <td>NaN</td>\n",
       "      <td>NaN</td>\n",
       "      <td>NaN</td>\n",
       "      <td>NaN</td>\n",
       "    </tr>\n",
       "    <tr>\n",
       "      <th>804</th>\n",
       "      <td>20131003DBDm3_335</td>\n",
       "      <td>NaN</td>\n",
       "      <td>Sampling net mesh size</td>\n",
       "      <td>http://vocab.nerc.ac.uk/collection/Q01/current...</td>\n",
       "      <td>335</td>\n",
       "      <td>NaN</td>\n",
       "      <td>NaN</td>\n",
       "      <td>Micrometres (microns)</td>\n",
       "      <td>http://vocab.nerc.ac.uk/collection/P06/current...</td>\n",
       "      <td>NaN</td>\n",
       "      <td>NaN</td>\n",
       "      <td>NaN</td>\n",
       "      <td>NaN</td>\n",
       "    </tr>\n",
       "    <tr>\n",
       "      <th>805</th>\n",
       "      <td>20131003DBDm4_200</td>\n",
       "      <td>NaN</td>\n",
       "      <td>Sampling net mesh size</td>\n",
       "      <td>http://vocab.nerc.ac.uk/collection/Q01/current...</td>\n",
       "      <td>200</td>\n",
       "      <td>NaN</td>\n",
       "      <td>NaN</td>\n",
       "      <td>Micrometres (microns)</td>\n",
       "      <td>http://vocab.nerc.ac.uk/collection/P06/current...</td>\n",
       "      <td>NaN</td>\n",
       "      <td>NaN</td>\n",
       "      <td>NaN</td>\n",
       "      <td>NaN</td>\n",
       "    </tr>\n",
       "    <tr>\n",
       "      <th>806</th>\n",
       "      <td>20131003DBDm4_335</td>\n",
       "      <td>NaN</td>\n",
       "      <td>Sampling net mesh size</td>\n",
       "      <td>http://vocab.nerc.ac.uk/collection/Q01/current...</td>\n",
       "      <td>335</td>\n",
       "      <td>NaN</td>\n",
       "      <td>NaN</td>\n",
       "      <td>Micrometres (microns)</td>\n",
       "      <td>http://vocab.nerc.ac.uk/collection/P06/current...</td>\n",
       "      <td>NaN</td>\n",
       "      <td>NaN</td>\n",
       "      <td>NaN</td>\n",
       "      <td>NaN</td>\n",
       "    </tr>\n",
       "    <tr>\n",
       "      <th>807</th>\n",
       "      <td>20131003DBDm5_200</td>\n",
       "      <td>NaN</td>\n",
       "      <td>Sampling net mesh size</td>\n",
       "      <td>http://vocab.nerc.ac.uk/collection/Q01/current...</td>\n",
       "      <td>200</td>\n",
       "      <td>NaN</td>\n",
       "      <td>NaN</td>\n",
       "      <td>Micrometres (microns)</td>\n",
       "      <td>http://vocab.nerc.ac.uk/collection/P06/current...</td>\n",
       "      <td>NaN</td>\n",
       "      <td>NaN</td>\n",
       "      <td>NaN</td>\n",
       "      <td>NaN</td>\n",
       "    </tr>\n",
       "    <tr>\n",
       "      <th>808</th>\n",
       "      <td>20131003DBDm5_335</td>\n",
       "      <td>NaN</td>\n",
       "      <td>Sampling net mesh size</td>\n",
       "      <td>http://vocab.nerc.ac.uk/collection/Q01/current...</td>\n",
       "      <td>335</td>\n",
       "      <td>NaN</td>\n",
       "      <td>NaN</td>\n",
       "      <td>Micrometres (microns)</td>\n",
       "      <td>http://vocab.nerc.ac.uk/collection/P06/current...</td>\n",
       "      <td>NaN</td>\n",
       "      <td>NaN</td>\n",
       "      <td>NaN</td>\n",
       "      <td>NaN</td>\n",
       "    </tr>\n",
       "    <tr>\n",
       "      <th>809</th>\n",
       "      <td>20131003DBNm1_335</td>\n",
       "      <td>NaN</td>\n",
       "      <td>Sampling net mesh size</td>\n",
       "      <td>http://vocab.nerc.ac.uk/collection/Q01/current...</td>\n",
       "      <td>335</td>\n",
       "      <td>NaN</td>\n",
       "      <td>NaN</td>\n",
       "      <td>Micrometres (microns)</td>\n",
       "      <td>http://vocab.nerc.ac.uk/collection/P06/current...</td>\n",
       "      <td>NaN</td>\n",
       "      <td>NaN</td>\n",
       "      <td>NaN</td>\n",
       "      <td>NaN</td>\n",
       "    </tr>\n",
       "    <tr>\n",
       "      <th>810</th>\n",
       "      <td>20131003DBNm2_335</td>\n",
       "      <td>NaN</td>\n",
       "      <td>Sampling net mesh size</td>\n",
       "      <td>http://vocab.nerc.ac.uk/collection/Q01/current...</td>\n",
       "      <td>335</td>\n",
       "      <td>NaN</td>\n",
       "      <td>NaN</td>\n",
       "      <td>Micrometres (microns)</td>\n",
       "      <td>http://vocab.nerc.ac.uk/collection/P06/current...</td>\n",
       "      <td>NaN</td>\n",
       "      <td>NaN</td>\n",
       "      <td>NaN</td>\n",
       "      <td>NaN</td>\n",
       "    </tr>\n",
       "    <tr>\n",
       "      <th>811</th>\n",
       "      <td>20131003DBNm3_335</td>\n",
       "      <td>NaN</td>\n",
       "      <td>Sampling net mesh size</td>\n",
       "      <td>http://vocab.nerc.ac.uk/collection/Q01/current...</td>\n",
       "      <td>335</td>\n",
       "      <td>NaN</td>\n",
       "      <td>NaN</td>\n",
       "      <td>Micrometres (microns)</td>\n",
       "      <td>http://vocab.nerc.ac.uk/collection/P06/current...</td>\n",
       "      <td>NaN</td>\n",
       "      <td>NaN</td>\n",
       "      <td>NaN</td>\n",
       "      <td>NaN</td>\n",
       "    </tr>\n",
       "    <tr>\n",
       "      <th>812</th>\n",
       "      <td>20131003DBNm4_335</td>\n",
       "      <td>NaN</td>\n",
       "      <td>Sampling net mesh size</td>\n",
       "      <td>http://vocab.nerc.ac.uk/collection/Q01/current...</td>\n",
       "      <td>335</td>\n",
       "      <td>NaN</td>\n",
       "      <td>NaN</td>\n",
       "      <td>Micrometres (microns)</td>\n",
       "      <td>http://vocab.nerc.ac.uk/collection/P06/current...</td>\n",
       "      <td>NaN</td>\n",
       "      <td>NaN</td>\n",
       "      <td>NaN</td>\n",
       "      <td>NaN</td>\n",
       "    </tr>\n",
       "  </tbody>\n",
       "</table>\n",
       "</div>"
      ],
      "text/plain": [
       "               eventID occurrenceID         measurementType  \\\n",
       "803  20131003DBDm3_200          NaN  Sampling net mesh size   \n",
       "804  20131003DBDm3_335          NaN  Sampling net mesh size   \n",
       "805  20131003DBDm4_200          NaN  Sampling net mesh size   \n",
       "806  20131003DBDm4_335          NaN  Sampling net mesh size   \n",
       "807  20131003DBDm5_200          NaN  Sampling net mesh size   \n",
       "808  20131003DBDm5_335          NaN  Sampling net mesh size   \n",
       "809  20131003DBNm1_335          NaN  Sampling net mesh size   \n",
       "810  20131003DBNm2_335          NaN  Sampling net mesh size   \n",
       "811  20131003DBNm3_335          NaN  Sampling net mesh size   \n",
       "812  20131003DBNm4_335          NaN  Sampling net mesh size   \n",
       "\n",
       "                                     measurementTypeID measurementValue  \\\n",
       "803  http://vocab.nerc.ac.uk/collection/Q01/current...              200   \n",
       "804  http://vocab.nerc.ac.uk/collection/Q01/current...              335   \n",
       "805  http://vocab.nerc.ac.uk/collection/Q01/current...              200   \n",
       "806  http://vocab.nerc.ac.uk/collection/Q01/current...              335   \n",
       "807  http://vocab.nerc.ac.uk/collection/Q01/current...              200   \n",
       "808  http://vocab.nerc.ac.uk/collection/Q01/current...              335   \n",
       "809  http://vocab.nerc.ac.uk/collection/Q01/current...              335   \n",
       "810  http://vocab.nerc.ac.uk/collection/Q01/current...              335   \n",
       "811  http://vocab.nerc.ac.uk/collection/Q01/current...              335   \n",
       "812  http://vocab.nerc.ac.uk/collection/Q01/current...              335   \n",
       "\n",
       "    measurementValueID measurementAccuracy        measurementUnit  \\\n",
       "803                NaN                 NaN  Micrometres (microns)   \n",
       "804                NaN                 NaN  Micrometres (microns)   \n",
       "805                NaN                 NaN  Micrometres (microns)   \n",
       "806                NaN                 NaN  Micrometres (microns)   \n",
       "807                NaN                 NaN  Micrometres (microns)   \n",
       "808                NaN                 NaN  Micrometres (microns)   \n",
       "809                NaN                 NaN  Micrometres (microns)   \n",
       "810                NaN                 NaN  Micrometres (microns)   \n",
       "811                NaN                 NaN  Micrometres (microns)   \n",
       "812                NaN                 NaN  Micrometres (microns)   \n",
       "\n",
       "                                     measurementUnitID  \\\n",
       "803  http://vocab.nerc.ac.uk/collection/P06/current...   \n",
       "804  http://vocab.nerc.ac.uk/collection/P06/current...   \n",
       "805  http://vocab.nerc.ac.uk/collection/P06/current...   \n",
       "806  http://vocab.nerc.ac.uk/collection/P06/current...   \n",
       "807  http://vocab.nerc.ac.uk/collection/P06/current...   \n",
       "808  http://vocab.nerc.ac.uk/collection/P06/current...   \n",
       "809  http://vocab.nerc.ac.uk/collection/P06/current...   \n",
       "810  http://vocab.nerc.ac.uk/collection/P06/current...   \n",
       "811  http://vocab.nerc.ac.uk/collection/P06/current...   \n",
       "812  http://vocab.nerc.ac.uk/collection/P06/current...   \n",
       "\n",
       "    measurementDeterminedDate measurementDeterminedBy measurementMethod  \\\n",
       "803                       NaN                     NaN               NaN   \n",
       "804                       NaN                     NaN               NaN   \n",
       "805                       NaN                     NaN               NaN   \n",
       "806                       NaN                     NaN               NaN   \n",
       "807                       NaN                     NaN               NaN   \n",
       "808                       NaN                     NaN               NaN   \n",
       "809                       NaN                     NaN               NaN   \n",
       "810                       NaN                     NaN               NaN   \n",
       "811                       NaN                     NaN               NaN   \n",
       "812                       NaN                     NaN               NaN   \n",
       "\n",
       "    measurementRemarks  \n",
       "803                NaN  \n",
       "804                NaN  \n",
       "805                NaN  \n",
       "806                NaN  \n",
       "807                NaN  \n",
       "808                NaN  \n",
       "809                NaN  \n",
       "810                NaN  \n",
       "811                NaN  \n",
       "812                NaN  "
      ]
     },
     "execution_count": 32,
     "metadata": {},
     "output_type": "execute_result"
    }
   ],
   "source": [
    "emof_df.tail(10)"
   ]
  },
  {
   "cell_type": "markdown",
   "id": "418c84bc-c41d-478e-bd35-070e15183897",
   "metadata": {},
   "source": [
    "## MoF's associated with exactly one occurrence\n",
    "\n",
    "These will have an `occcurrenceID` entry.\n",
    "\n",
    "We'll have to preserve the original `life_history_stage` strings in the occurrence csv table, in order to be able to properly merge the occurrence table with `emofsource_df`. Do this maybe by adding a `occurrenceRemarks` column, or by keeping a `life_history_stage` column that will be dropped in a later stage"
   ]
  },
  {
   "cell_type": "code",
   "execution_count": 33,
   "id": "8294799e-273b-438e-b403-f03a6697ef90",
   "metadata": {},
   "outputs": [],
   "source": [
    "emofsource_samplesoccur_df = (\n",
    "    dwcevent_df\n",
    "    .merge(\n",
    "        emofsource_df[['sample_code', 'species', 'life_history_stage', 'density']], \n",
    "        how='inner',\n",
    "        left_on='eventID',\n",
    "        right_on='sample_code'\n",
    "    )\n",
    "    .merge(\n",
    "        dwcoccurrence_df,\n",
    "        how='inner',\n",
    "        left_on=['eventID', 'species', 'life_history_stage'],\n",
    "        right_on=['eventID', 'verbatimIdentification', 'life_history_stage']\n",
    "    )\n",
    ")\n",
    "\n",
    "emofsource_samplesoccur_df = (\n",
    "    emofsource_samplesoccur_df\n",
    "    .drop_duplicates()\n",
    "    .drop(columns=['sample_code', 'parentEventID', 'species'])\n",
    "    .sort_values(by='eventID')\n",
    "    .reset_index(drop=True)\n",
    ")"
   ]
  },
  {
   "cell_type": "code",
   "execution_count": 34,
   "id": "bbf38777-2fbd-4c4a-ba0e-70f2851e5cfb",
   "metadata": {},
   "outputs": [
    {
     "data": {
      "text/plain": [
       "6732"
      ]
     },
     "execution_count": 34,
     "metadata": {},
     "output_type": "execute_result"
    }
   ],
   "source": [
    "len(emofsource_samplesoccur_df)"
   ]
  },
  {
   "cell_type": "markdown",
   "id": "568c476a-7abe-4b7d-b937-995d20319895",
   "metadata": {},
   "source": [
    "**TODO/NOTE:** This is 30 greater than the 6702 occurrences found in `dwcoccurrence_df`. Will need to investigate."
   ]
  },
  {
   "cell_type": "code",
   "execution_count": 35,
   "id": "d82f7375-3d0e-450d-8dcf-c8b4dda37eb3",
   "metadata": {},
   "outputs": [
    {
     "data": {
      "text/html": [
       "<div>\n",
       "<style scoped>\n",
       "    .dataframe tbody tr th:only-of-type {\n",
       "        vertical-align: middle;\n",
       "    }\n",
       "\n",
       "    .dataframe tbody tr th {\n",
       "        vertical-align: top;\n",
       "    }\n",
       "\n",
       "    .dataframe thead th {\n",
       "        text-align: right;\n",
       "    }\n",
       "</style>\n",
       "<table border=\"1\" class=\"dataframe\">\n",
       "  <thead>\n",
       "    <tr style=\"text-align: right;\">\n",
       "      <th></th>\n",
       "      <th>eventID</th>\n",
       "      <th>eventDate</th>\n",
       "      <th>life_history_stage</th>\n",
       "      <th>density</th>\n",
       "      <th>occurrenceID</th>\n",
       "      <th>verbatimIdentification</th>\n",
       "    </tr>\n",
       "  </thead>\n",
       "  <tbody>\n",
       "    <tr>\n",
       "      <th>0</th>\n",
       "      <td>20120611UNDm1_200</td>\n",
       "      <td>2012-06-11 14:10:00+00:00</td>\n",
       "      <td>Female;_Adult</td>\n",
       "      <td>47.567568</td>\n",
       "      <td>bba937ac-f6b5-4b35-a513-7852052b537c</td>\n",
       "      <td>ACARTIA_CLAUSI</td>\n",
       "    </tr>\n",
       "    <tr>\n",
       "      <th>1</th>\n",
       "      <td>20120611UNDm1_200</td>\n",
       "      <td>2012-06-11 14:10:00+00:00</td>\n",
       "      <td>1;_CI</td>\n",
       "      <td>17.830630</td>\n",
       "      <td>40f95f0a-f09c-4818-b4ac-902248eb5e15</td>\n",
       "      <td>METRIDIA_PACIFICA</td>\n",
       "    </tr>\n",
       "    <tr>\n",
       "      <th>2</th>\n",
       "      <td>20120611UNDm1_200</td>\n",
       "      <td>2012-06-11 14:10:00+00:00</td>\n",
       "      <td>3;_CIII</td>\n",
       "      <td>79.279279</td>\n",
       "      <td>8c567fcc-1b40-4bed-b0ce-a194f28de203</td>\n",
       "      <td>METRIDIA_PACIFICA</td>\n",
       "    </tr>\n",
       "    <tr>\n",
       "      <th>3</th>\n",
       "      <td>20120611UNDm1_200</td>\n",
       "      <td>2012-06-11 14:10:00+00:00</td>\n",
       "      <td>4;_CIV</td>\n",
       "      <td>71.668470</td>\n",
       "      <td>98e2624c-958b-4883-991c-d4fdd9dda392</td>\n",
       "      <td>METRIDIA_PACIFICA</td>\n",
       "    </tr>\n",
       "    <tr>\n",
       "      <th>4</th>\n",
       "      <td>20120611UNDm1_200</td>\n",
       "      <td>2012-06-11 14:10:00+00:00</td>\n",
       "      <td>5;_CV</td>\n",
       "      <td>53.953154</td>\n",
       "      <td>ce0d446b-c723-4ad1-b967-1dbbcfccc886</td>\n",
       "      <td>METRIDIA_PACIFICA</td>\n",
       "    </tr>\n",
       "  </tbody>\n",
       "</table>\n",
       "</div>"
      ],
      "text/plain": [
       "             eventID                 eventDate life_history_stage    density  \\\n",
       "0  20120611UNDm1_200 2012-06-11 14:10:00+00:00      Female;_Adult  47.567568   \n",
       "1  20120611UNDm1_200 2012-06-11 14:10:00+00:00              1;_CI  17.830630   \n",
       "2  20120611UNDm1_200 2012-06-11 14:10:00+00:00            3;_CIII  79.279279   \n",
       "3  20120611UNDm1_200 2012-06-11 14:10:00+00:00             4;_CIV  71.668470   \n",
       "4  20120611UNDm1_200 2012-06-11 14:10:00+00:00              5;_CV  53.953154   \n",
       "\n",
       "                           occurrenceID verbatimIdentification  \n",
       "0  bba937ac-f6b5-4b35-a513-7852052b537c         ACARTIA_CLAUSI  \n",
       "1  40f95f0a-f09c-4818-b4ac-902248eb5e15      METRIDIA_PACIFICA  \n",
       "2  8c567fcc-1b40-4bed-b0ce-a194f28de203      METRIDIA_PACIFICA  \n",
       "3  98e2624c-958b-4883-991c-d4fdd9dda392      METRIDIA_PACIFICA  \n",
       "4  ce0d446b-c723-4ad1-b967-1dbbcfccc886      METRIDIA_PACIFICA  "
      ]
     },
     "execution_count": 35,
     "metadata": {},
     "output_type": "execute_result"
    }
   ],
   "source": [
    "emofsource_samplesoccur_df.head()"
   ]
  },
  {
   "cell_type": "markdown",
   "id": "fcf2f771-6bc3-4631-914c-dd217426e3a0",
   "metadata": {},
   "source": [
    "### density / abundance"
   ]
  },
  {
   "cell_type": "code",
   "execution_count": 36,
   "id": "ac1f5904-77d5-4468-ae7a-b5bd1e725b3e",
   "metadata": {},
   "outputs": [],
   "source": [
    "abundance_emof_df = emofsource_samplesoccur_df.copy()"
   ]
  },
  {
   "cell_type": "code",
   "execution_count": 37,
   "id": "9bdec3d4-553a-4b70-a4ac-ca2823013317",
   "metadata": {},
   "outputs": [],
   "source": [
    "abundance_emof_df['measurementType'] = \"Abundance of biological entity specified elsewhere per unit volume of the water body\"\n",
    "abundance_emof_df['measurementTypeID'] = \"http://vocab.nerc.ac.uk/collection/P01/current/SDBIOL01/\"\n",
    "abundance_emof_df['measurementUnit'] = \"Number per cubic metre\"\n",
    "abundance_emof_df['measurementUnitID'] = \"http://vocab.nerc.ac.uk/collection/P06/current/UPMM\"\n",
    "\n",
    "abundance_emof_df.rename(columns={'density':'measurementValue'}, inplace=True)"
   ]
  },
  {
   "cell_type": "markdown",
   "id": "9d9f781f-5c84-4a64-a3b1-17ced2aed81a",
   "metadata": {},
   "source": [
    "Populate (append to) the `emof_df` table with the emof records."
   ]
  },
  {
   "cell_type": "code",
   "execution_count": 38,
   "id": "51dfcd81-b30b-41a5-8e73-ef1d4baa14bb",
   "metadata": {},
   "outputs": [],
   "source": [
    "emof_df = emof_df.append(\n",
    "    abundance_emof_df[['eventID', 'occurrenceID',\n",
    "                       # 'life_history_stage', 'verbatimIdentification', # --- temporary, for validation\n",
    "                       'measurementType', 'measurementTypeID', 'measurementValue', \n",
    "                       'measurementUnit', 'measurementUnitID']], \n",
    "    ignore_index=True\n",
    ")"
   ]
  },
  {
   "cell_type": "code",
   "execution_count": 39,
   "id": "ad45fb21-5bfa-426a-8f87-709db99201e7",
   "metadata": {},
   "outputs": [
    {
     "data": {
      "text/plain": [
       "7545"
      ]
     },
     "execution_count": 39,
     "metadata": {},
     "output_type": "execute_result"
    }
   ],
   "source": [
    "len(emof_df)"
   ]
  },
  {
   "cell_type": "code",
   "execution_count": 40,
   "id": "a78cd501-fe5a-43fa-b762-ce4c2f68857e",
   "metadata": {},
   "outputs": [
    {
     "data": {
      "text/html": [
       "<div>\n",
       "<style scoped>\n",
       "    .dataframe tbody tr th:only-of-type {\n",
       "        vertical-align: middle;\n",
       "    }\n",
       "\n",
       "    .dataframe tbody tr th {\n",
       "        vertical-align: top;\n",
       "    }\n",
       "\n",
       "    .dataframe thead th {\n",
       "        text-align: right;\n",
       "    }\n",
       "</style>\n",
       "<table border=\"1\" class=\"dataframe\">\n",
       "  <thead>\n",
       "    <tr style=\"text-align: right;\">\n",
       "      <th></th>\n",
       "      <th>eventID</th>\n",
       "      <th>occurrenceID</th>\n",
       "      <th>measurementType</th>\n",
       "      <th>measurementTypeID</th>\n",
       "      <th>measurementValue</th>\n",
       "      <th>measurementValueID</th>\n",
       "      <th>measurementAccuracy</th>\n",
       "      <th>measurementUnit</th>\n",
       "      <th>measurementUnitID</th>\n",
       "      <th>measurementDeterminedDate</th>\n",
       "      <th>measurementDeterminedBy</th>\n",
       "      <th>measurementMethod</th>\n",
       "      <th>measurementRemarks</th>\n",
       "    </tr>\n",
       "  </thead>\n",
       "  <tbody>\n",
       "    <tr>\n",
       "      <th>7535</th>\n",
       "      <td>20131003DBNm4_335</td>\n",
       "      <td>0fe107b7-f8fc-4731-af71-b2026821c6a2</td>\n",
       "      <td>Abundance of biological entity specified elsew...</td>\n",
       "      <td>http://vocab.nerc.ac.uk/collection/P01/current...</td>\n",
       "      <td>0.190476</td>\n",
       "      <td>NaN</td>\n",
       "      <td>NaN</td>\n",
       "      <td>Number per cubic metre</td>\n",
       "      <td>http://vocab.nerc.ac.uk/collection/P06/current...</td>\n",
       "      <td>NaN</td>\n",
       "      <td>NaN</td>\n",
       "      <td>NaN</td>\n",
       "      <td>NaN</td>\n",
       "    </tr>\n",
       "    <tr>\n",
       "      <th>7536</th>\n",
       "      <td>20131003DBNm4_335</td>\n",
       "      <td>7e702b1a-19e4-42f2-852b-a7a1209e4b49</td>\n",
       "      <td>Abundance of biological entity specified elsew...</td>\n",
       "      <td>http://vocab.nerc.ac.uk/collection/P01/current...</td>\n",
       "      <td>0.190476</td>\n",
       "      <td>NaN</td>\n",
       "      <td>NaN</td>\n",
       "      <td>Number per cubic metre</td>\n",
       "      <td>http://vocab.nerc.ac.uk/collection/P06/current...</td>\n",
       "      <td>NaN</td>\n",
       "      <td>NaN</td>\n",
       "      <td>NaN</td>\n",
       "      <td>NaN</td>\n",
       "    </tr>\n",
       "    <tr>\n",
       "      <th>7537</th>\n",
       "      <td>20131003DBNm4_335</td>\n",
       "      <td>178ac23d-241b-4e12-8a29-39edd9f77eda</td>\n",
       "      <td>Abundance of biological entity specified elsew...</td>\n",
       "      <td>http://vocab.nerc.ac.uk/collection/P01/current...</td>\n",
       "      <td>1.904762</td>\n",
       "      <td>NaN</td>\n",
       "      <td>NaN</td>\n",
       "      <td>Number per cubic metre</td>\n",
       "      <td>http://vocab.nerc.ac.uk/collection/P06/current...</td>\n",
       "      <td>NaN</td>\n",
       "      <td>NaN</td>\n",
       "      <td>NaN</td>\n",
       "      <td>NaN</td>\n",
       "    </tr>\n",
       "    <tr>\n",
       "      <th>7538</th>\n",
       "      <td>20131003DBNm4_335</td>\n",
       "      <td>489a2657-c674-4832-82cf-e163f729973c</td>\n",
       "      <td>Abundance of biological entity specified elsew...</td>\n",
       "      <td>http://vocab.nerc.ac.uk/collection/P01/current...</td>\n",
       "      <td>5.904762</td>\n",
       "      <td>NaN</td>\n",
       "      <td>NaN</td>\n",
       "      <td>Number per cubic metre</td>\n",
       "      <td>http://vocab.nerc.ac.uk/collection/P06/current...</td>\n",
       "      <td>NaN</td>\n",
       "      <td>NaN</td>\n",
       "      <td>NaN</td>\n",
       "      <td>NaN</td>\n",
       "    </tr>\n",
       "    <tr>\n",
       "      <th>7539</th>\n",
       "      <td>20131003DBNm4_335</td>\n",
       "      <td>38342ad4-61c2-444b-99a1-a9c967f076fb</td>\n",
       "      <td>Abundance of biological entity specified elsew...</td>\n",
       "      <td>http://vocab.nerc.ac.uk/collection/P01/current...</td>\n",
       "      <td>2.095238</td>\n",
       "      <td>NaN</td>\n",
       "      <td>NaN</td>\n",
       "      <td>Number per cubic metre</td>\n",
       "      <td>http://vocab.nerc.ac.uk/collection/P06/current...</td>\n",
       "      <td>NaN</td>\n",
       "      <td>NaN</td>\n",
       "      <td>NaN</td>\n",
       "      <td>NaN</td>\n",
       "    </tr>\n",
       "    <tr>\n",
       "      <th>7540</th>\n",
       "      <td>20131003DBNm4_335</td>\n",
       "      <td>d9de87b9-a779-48f9-83a5-ebb26b30a7ed</td>\n",
       "      <td>Abundance of biological entity specified elsew...</td>\n",
       "      <td>http://vocab.nerc.ac.uk/collection/P01/current...</td>\n",
       "      <td>0.380952</td>\n",
       "      <td>NaN</td>\n",
       "      <td>NaN</td>\n",
       "      <td>Number per cubic metre</td>\n",
       "      <td>http://vocab.nerc.ac.uk/collection/P06/current...</td>\n",
       "      <td>NaN</td>\n",
       "      <td>NaN</td>\n",
       "      <td>NaN</td>\n",
       "      <td>NaN</td>\n",
       "    </tr>\n",
       "    <tr>\n",
       "      <th>7541</th>\n",
       "      <td>20131003DBNm4_335</td>\n",
       "      <td>b7f84115-55a3-4d86-aaf0-2ec2b8efcb9d</td>\n",
       "      <td>Abundance of biological entity specified elsew...</td>\n",
       "      <td>http://vocab.nerc.ac.uk/collection/P01/current...</td>\n",
       "      <td>4.190476</td>\n",
       "      <td>NaN</td>\n",
       "      <td>NaN</td>\n",
       "      <td>Number per cubic metre</td>\n",
       "      <td>http://vocab.nerc.ac.uk/collection/P06/current...</td>\n",
       "      <td>NaN</td>\n",
       "      <td>NaN</td>\n",
       "      <td>NaN</td>\n",
       "      <td>NaN</td>\n",
       "    </tr>\n",
       "    <tr>\n",
       "      <th>7542</th>\n",
       "      <td>20131003DBNm4_335</td>\n",
       "      <td>b8261dab-9919-4bba-8d65-d99b73fc2a44</td>\n",
       "      <td>Abundance of biological entity specified elsew...</td>\n",
       "      <td>http://vocab.nerc.ac.uk/collection/P01/current...</td>\n",
       "      <td>0.190476</td>\n",
       "      <td>NaN</td>\n",
       "      <td>NaN</td>\n",
       "      <td>Number per cubic metre</td>\n",
       "      <td>http://vocab.nerc.ac.uk/collection/P06/current...</td>\n",
       "      <td>NaN</td>\n",
       "      <td>NaN</td>\n",
       "      <td>NaN</td>\n",
       "      <td>NaN</td>\n",
       "    </tr>\n",
       "    <tr>\n",
       "      <th>7543</th>\n",
       "      <td>20131003DBNm4_335</td>\n",
       "      <td>f311e43b-74cb-42bc-be8c-3aa57588e973</td>\n",
       "      <td>Abundance of biological entity specified elsew...</td>\n",
       "      <td>http://vocab.nerc.ac.uk/collection/P01/current...</td>\n",
       "      <td>0.190476</td>\n",
       "      <td>NaN</td>\n",
       "      <td>NaN</td>\n",
       "      <td>Number per cubic metre</td>\n",
       "      <td>http://vocab.nerc.ac.uk/collection/P06/current...</td>\n",
       "      <td>NaN</td>\n",
       "      <td>NaN</td>\n",
       "      <td>NaN</td>\n",
       "      <td>NaN</td>\n",
       "    </tr>\n",
       "    <tr>\n",
       "      <th>7544</th>\n",
       "      <td>20131003DBNm4_335</td>\n",
       "      <td>1650ee8c-3d25-4592-bdba-72da2a58f43e</td>\n",
       "      <td>Abundance of biological entity specified elsew...</td>\n",
       "      <td>http://vocab.nerc.ac.uk/collection/P01/current...</td>\n",
       "      <td>0.190476</td>\n",
       "      <td>NaN</td>\n",
       "      <td>NaN</td>\n",
       "      <td>Number per cubic metre</td>\n",
       "      <td>http://vocab.nerc.ac.uk/collection/P06/current...</td>\n",
       "      <td>NaN</td>\n",
       "      <td>NaN</td>\n",
       "      <td>NaN</td>\n",
       "      <td>NaN</td>\n",
       "    </tr>\n",
       "  </tbody>\n",
       "</table>\n",
       "</div>"
      ],
      "text/plain": [
       "                eventID                          occurrenceID  \\\n",
       "7535  20131003DBNm4_335  0fe107b7-f8fc-4731-af71-b2026821c6a2   \n",
       "7536  20131003DBNm4_335  7e702b1a-19e4-42f2-852b-a7a1209e4b49   \n",
       "7537  20131003DBNm4_335  178ac23d-241b-4e12-8a29-39edd9f77eda   \n",
       "7538  20131003DBNm4_335  489a2657-c674-4832-82cf-e163f729973c   \n",
       "7539  20131003DBNm4_335  38342ad4-61c2-444b-99a1-a9c967f076fb   \n",
       "7540  20131003DBNm4_335  d9de87b9-a779-48f9-83a5-ebb26b30a7ed   \n",
       "7541  20131003DBNm4_335  b7f84115-55a3-4d86-aaf0-2ec2b8efcb9d   \n",
       "7542  20131003DBNm4_335  b8261dab-9919-4bba-8d65-d99b73fc2a44   \n",
       "7543  20131003DBNm4_335  f311e43b-74cb-42bc-be8c-3aa57588e973   \n",
       "7544  20131003DBNm4_335  1650ee8c-3d25-4592-bdba-72da2a58f43e   \n",
       "\n",
       "                                        measurementType  \\\n",
       "7535  Abundance of biological entity specified elsew...   \n",
       "7536  Abundance of biological entity specified elsew...   \n",
       "7537  Abundance of biological entity specified elsew...   \n",
       "7538  Abundance of biological entity specified elsew...   \n",
       "7539  Abundance of biological entity specified elsew...   \n",
       "7540  Abundance of biological entity specified elsew...   \n",
       "7541  Abundance of biological entity specified elsew...   \n",
       "7542  Abundance of biological entity specified elsew...   \n",
       "7543  Abundance of biological entity specified elsew...   \n",
       "7544  Abundance of biological entity specified elsew...   \n",
       "\n",
       "                                      measurementTypeID measurementValue  \\\n",
       "7535  http://vocab.nerc.ac.uk/collection/P01/current...         0.190476   \n",
       "7536  http://vocab.nerc.ac.uk/collection/P01/current...         0.190476   \n",
       "7537  http://vocab.nerc.ac.uk/collection/P01/current...         1.904762   \n",
       "7538  http://vocab.nerc.ac.uk/collection/P01/current...         5.904762   \n",
       "7539  http://vocab.nerc.ac.uk/collection/P01/current...         2.095238   \n",
       "7540  http://vocab.nerc.ac.uk/collection/P01/current...         0.380952   \n",
       "7541  http://vocab.nerc.ac.uk/collection/P01/current...         4.190476   \n",
       "7542  http://vocab.nerc.ac.uk/collection/P01/current...         0.190476   \n",
       "7543  http://vocab.nerc.ac.uk/collection/P01/current...         0.190476   \n",
       "7544  http://vocab.nerc.ac.uk/collection/P01/current...         0.190476   \n",
       "\n",
       "     measurementValueID measurementAccuracy         measurementUnit  \\\n",
       "7535                NaN                 NaN  Number per cubic metre   \n",
       "7536                NaN                 NaN  Number per cubic metre   \n",
       "7537                NaN                 NaN  Number per cubic metre   \n",
       "7538                NaN                 NaN  Number per cubic metre   \n",
       "7539                NaN                 NaN  Number per cubic metre   \n",
       "7540                NaN                 NaN  Number per cubic metre   \n",
       "7541                NaN                 NaN  Number per cubic metre   \n",
       "7542                NaN                 NaN  Number per cubic metre   \n",
       "7543                NaN                 NaN  Number per cubic metre   \n",
       "7544                NaN                 NaN  Number per cubic metre   \n",
       "\n",
       "                                      measurementUnitID  \\\n",
       "7535  http://vocab.nerc.ac.uk/collection/P06/current...   \n",
       "7536  http://vocab.nerc.ac.uk/collection/P06/current...   \n",
       "7537  http://vocab.nerc.ac.uk/collection/P06/current...   \n",
       "7538  http://vocab.nerc.ac.uk/collection/P06/current...   \n",
       "7539  http://vocab.nerc.ac.uk/collection/P06/current...   \n",
       "7540  http://vocab.nerc.ac.uk/collection/P06/current...   \n",
       "7541  http://vocab.nerc.ac.uk/collection/P06/current...   \n",
       "7542  http://vocab.nerc.ac.uk/collection/P06/current...   \n",
       "7543  http://vocab.nerc.ac.uk/collection/P06/current...   \n",
       "7544  http://vocab.nerc.ac.uk/collection/P06/current...   \n",
       "\n",
       "     measurementDeterminedDate measurementDeterminedBy measurementMethod  \\\n",
       "7535                       NaN                     NaN               NaN   \n",
       "7536                       NaN                     NaN               NaN   \n",
       "7537                       NaN                     NaN               NaN   \n",
       "7538                       NaN                     NaN               NaN   \n",
       "7539                       NaN                     NaN               NaN   \n",
       "7540                       NaN                     NaN               NaN   \n",
       "7541                       NaN                     NaN               NaN   \n",
       "7542                       NaN                     NaN               NaN   \n",
       "7543                       NaN                     NaN               NaN   \n",
       "7544                       NaN                     NaN               NaN   \n",
       "\n",
       "     measurementRemarks  \n",
       "7535                NaN  \n",
       "7536                NaN  \n",
       "7537                NaN  \n",
       "7538                NaN  \n",
       "7539                NaN  \n",
       "7540                NaN  \n",
       "7541                NaN  \n",
       "7542                NaN  \n",
       "7543                NaN  \n",
       "7544                NaN  "
      ]
     },
     "execution_count": 40,
     "metadata": {},
     "output_type": "execute_result"
    }
   ],
   "source": [
    "emof_df.tail(10)"
   ]
  },
  {
   "cell_type": "markdown",
   "id": "8b375f70-6590-4392-a786-73c06eeb60ce",
   "metadata": {},
   "source": [
    "## Export `emof_df` to csv"
   ]
  },
  {
   "cell_type": "code",
   "execution_count": 41,
   "id": "70674193-4e84-4b23-bd53-c80e926e2463",
   "metadata": {},
   "outputs": [
    {
     "data": {
      "text/plain": [
       "Abundance of biological entity specified elsewhere per unit volume of the water body    6732\n",
       "multinet                                                                                 271\n",
       "Sampling method                                                                          271\n",
       "Sampling net mesh size                                                                   271\n",
       "Name: measurementType, dtype: int64"
      ]
     },
     "execution_count": 41,
     "metadata": {},
     "output_type": "execute_result"
    }
   ],
   "source": [
    "emof_df.measurementType.value_counts()"
   ]
  },
  {
   "cell_type": "code",
   "execution_count": 42,
   "id": "cda40074-95e7-465b-a81b-e35387d4f715",
   "metadata": {},
   "outputs": [],
   "source": [
    "emof_df.to_csv(data_pth / 'aligned_csvs' / 'DwC_emof.csv', index=False)"
   ]
  },
  {
   "cell_type": "markdown",
   "id": "2c309aac-9033-4aa9-8864-84b26ea530c6",
   "metadata": {},
   "source": [
    "## Package versions"
   ]
  },
  {
   "cell_type": "code",
   "execution_count": 43,
   "id": "a78b77d4-afa6-4103-b940-5ee73846b80b",
   "metadata": {},
   "outputs": [
    {
     "name": "stdout",
     "output_type": "stream",
     "text": [
      "2022-01-13 02:51:59.258003 +00:00\n",
      "pandas: 1.3.5\n"
     ]
    }
   ],
   "source": [
    "print(\n",
    "    f\"{datetime.utcnow()} +00:00\\n\"\n",
    "    f\"pandas: {pd.__version__}\"\n",
    ")"
   ]
  },
  {
   "cell_type": "code",
   "execution_count": null,
   "id": "f53cb074-dca2-4e0c-86dd-fd71f77a2e9f",
   "metadata": {},
   "outputs": [],
   "source": []
  }
 ],
 "metadata": {
  "kernelspec": {
   "display_name": "Python [conda env:nanoos_bio]",
   "language": "python",
   "name": "conda-env-nanoos_bio-py"
  },
  "language_info": {
   "codemirror_mode": {
    "name": "ipython",
    "version": 3
   },
   "file_extension": ".py",
   "mimetype": "text/x-python",
   "name": "python",
   "nbconvert_exporter": "python",
   "pygments_lexer": "ipython3",
   "version": "3.9.9"
  }
 },
 "nbformat": 4,
 "nbformat_minor": 5
}
