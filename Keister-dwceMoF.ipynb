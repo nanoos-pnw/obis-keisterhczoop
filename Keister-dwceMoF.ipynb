{
 "cells": [
  {
   "cell_type": "markdown",
   "id": "aa11e022-7206-48f9-aecd-cdcd789b9b20",
   "metadata": {},
   "source": [
    "# DwC eMOFs. Keister Zooplankton Hood Canal 2012-13 data\n",
    "\n",
    "University of Washington Pelagic Hypoxia Hood Canal project, Zooplankton dataset.   \n",
    "Alignment of dataset to Darwin Core (DwC) for NANOOS, https://www.nanoos.org. This data alignment work, including this Jupyter notebook, are described in the GitHub repository https://github.com/nanoos-pnw/obis-keisterhczoop. See [notebooks-notes.md](https://github.com/nanoos-pnw/obis-keisterhczoop/blob/main/notebooks-notes.md) and [README.md](https://github.com/nanoos-pnw/obis-keisterhczoop/blob/main/README.md).   \n",
    "\n",
    "Emilio Mayorga, https://github.com/emiliom"
   ]
  },
  {
   "cell_type": "markdown",
   "id": "68537864-0dc5-45a4-aea3-4d4275d79a64",
   "metadata": {},
   "source": [
    "## Goals and scope of this notebook\n",
    "\n",
    "Parse the source data and combine it with `common_mappings.json`, the previously generated DwC event and occurrence csv files, and the `intermediate_DwC_occurrence_life_history_stage.csv` file created in the notebook `Keister-dwcOccurrence.ipynb` to create the DwC \"Extended Measurement or Fact\" (eMoF) file `DwC_emof.csv`. This file contains four types of eMoF information, referenced to standard vocabularies:\n",
    "- Description of the multinet sampling platform\n",
    "- Assignment of the water column sampling scheme\n",
    "- Assignment of the sample mesh size\n",
    "- Matchup of the sample density (abundance per unit volume) to the `OccurrenceID` from the DwC occurrence table\n",
    "\n",
    "The DwC eMoF table is populated sequentially for each of these eMoF types, in that order. Columns are populated differently depending on the eMoF type."
   ]
  },
  {
   "cell_type": "markdown",
   "id": "02559765-c141-40f0-a6b3-1eb0d2ea2a2a",
   "metadata": {},
   "source": [
    "## Settings"
   ]
  },
  {
   "cell_type": "code",
   "execution_count": 1,
   "id": "17bb67ab-2ea0-4ccd-a770-f7646434350f",
   "metadata": {},
   "outputs": [],
   "source": [
    "from datetime import datetime, timedelta, timezone\n",
    "from pathlib import Path\n",
    "\n",
    "import numpy as np\n",
    "import pandas as pd\n",
    "\n",
    "from data_preprocess import read_and_parse_sourcedata"
   ]
  },
  {
   "cell_type": "code",
   "execution_count": 2,
   "id": "e4450c4d-f57a-436f-b2a0-aa697c562bb1",
   "metadata": {},
   "outputs": [],
   "source": [
    "data_pth = Path(\".\")"
   ]
  },
  {
   "cell_type": "markdown",
   "id": "bf4c34ac-ab2d-4c5a-825a-14958cd004fd",
   "metadata": {},
   "source": [
    "Set to `True` when debugging. `csv` ﬁles will not be exported when `debug_no_csvexport = True`"
   ]
  },
  {
   "cell_type": "code",
   "execution_count": 3,
   "id": "ac24f23b-44e8-4a19-b396-b331b668d15c",
   "metadata": {},
   "outputs": [],
   "source": [
    "debug_no_csvexport = False"
   ]
  },
  {
   "cell_type": "markdown",
   "id": "9803c80f-c40b-466e-8803-40bd3b014060",
   "metadata": {
    "tags": []
   },
   "source": [
    "## Process JSON file containing common mappings and strings"
   ]
  },
  {
   "cell_type": "code",
   "execution_count": 4,
   "id": "b26c0ebd-adec-438b-be4d-02d29a50ecfa",
   "metadata": {},
   "outputs": [],
   "source": [
    "with open(data_pth / 'common_mappings.json') as f:\n",
    "    common_mappings = json.load(f)"
   ]
  },
  {
   "cell_type": "code",
   "execution_count": 5,
   "id": "8f1e3d67-0afd-4aad-8726-c96cfca29ff7",
   "metadata": {},
   "outputs": [],
   "source": [
    "DatasetCode = common_mappings['datasetcode']\n",
    "net_tow = common_mappings['net_tow']\n",
    "\n",
    "iso8601_format = common_mappings['iso8601_format']"
   ]
  },
  {
   "cell_type": "markdown",
   "id": "2a9761d2-a10a-4635-86e9-53ef8f17e48a",
   "metadata": {},
   "source": [
    "## Pre-process data from csv for Event table"
   ]
  },
  {
   "cell_type": "markdown",
   "id": "1e4040c6-0226-4336-a469-1d0fa5016f75",
   "metadata": {
    "tags": []
   },
   "source": [
    "### Read the pre-processed csv file"
   ]
  },
  {
   "cell_type": "markdown",
   "id": "f3a79d80-345d-4920-a964-cccd64517731",
   "metadata": {},
   "source": [
    "`usecols` defines the columns that will be kept and the order in which they'll be organized"
   ]
  },
  {
   "cell_type": "code",
   "execution_count": 6,
   "id": "b35069bd-3a64-4ca8-a65a-b09c12cd5666",
   "metadata": {},
   "outputs": [],
   "source": [
    "# I doubt I'll need any of the datetime columns here\n",
    "usecols = [\n",
    "    'sample_code', 'station', \n",
    "    # 'date', 'time_start', 'time', 'day_night', \n",
    "    'mesh_size', 'FWC_DS', \n",
    "    'species', 'life_history_stage', 'density'\n",
    "]\n",
    "\n",
    "emofsource_df = read_and_parse_sourcedata()[usecols]"
   ]
  },
  {
   "cell_type": "code",
   "execution_count": 7,
   "id": "6dcc6d95-6c55-49ad-bbdd-6ae50ee78324",
   "metadata": {},
   "outputs": [
    {
     "data": {
      "text/plain": [
       "6867"
      ]
     },
     "execution_count": 7,
     "metadata": {},
     "output_type": "execute_result"
    }
   ],
   "source": [
    "len(emofsource_df)"
   ]
  },
  {
   "cell_type": "code",
   "execution_count": 8,
   "id": "41cfa16c-b46b-4843-adbb-afffb60a1fb2",
   "metadata": {},
   "outputs": [
    {
     "data": {
      "text/html": [
       "<div>\n",
       "<style scoped>\n",
       "    .dataframe tbody tr th:only-of-type {\n",
       "        vertical-align: middle;\n",
       "    }\n",
       "\n",
       "    .dataframe tbody tr th {\n",
       "        vertical-align: top;\n",
       "    }\n",
       "\n",
       "    .dataframe thead th {\n",
       "        text-align: right;\n",
       "    }\n",
       "</style>\n",
       "<table border=\"1\" class=\"dataframe\">\n",
       "  <thead>\n",
       "    <tr style=\"text-align: right;\">\n",
       "      <th></th>\n",
       "      <th>sample_code</th>\n",
       "      <th>station</th>\n",
       "      <th>mesh_size</th>\n",
       "      <th>FWC_DS</th>\n",
       "      <th>species</th>\n",
       "      <th>life_history_stage</th>\n",
       "      <th>density</th>\n",
       "    </tr>\n",
       "  </thead>\n",
       "  <tbody>\n",
       "    <tr>\n",
       "      <th>0</th>\n",
       "      <td>20131003DBDm2_200</td>\n",
       "      <td>DB</td>\n",
       "      <td>200</td>\n",
       "      <td>DS</td>\n",
       "      <td>ACARTIA</td>\n",
       "      <td>3;_CIII</td>\n",
       "      <td>6.395349</td>\n",
       "    </tr>\n",
       "    <tr>\n",
       "      <th>1</th>\n",
       "      <td>20130906DBiDm1_200</td>\n",
       "      <td>DB</td>\n",
       "      <td>200</td>\n",
       "      <td>FWC</td>\n",
       "      <td>ACARTIA</td>\n",
       "      <td>5;_CV</td>\n",
       "      <td>38.759690</td>\n",
       "    </tr>\n",
       "    <tr>\n",
       "      <th>2</th>\n",
       "      <td>20131003DBDm1_200</td>\n",
       "      <td>DB</td>\n",
       "      <td>200</td>\n",
       "      <td>FWC</td>\n",
       "      <td>ACARTIA</td>\n",
       "      <td>Female;_Adult</td>\n",
       "      <td>0.384615</td>\n",
       "    </tr>\n",
       "    <tr>\n",
       "      <th>3</th>\n",
       "      <td>20131003DBDm1_200</td>\n",
       "      <td>DB</td>\n",
       "      <td>200</td>\n",
       "      <td>FWC</td>\n",
       "      <td>ACARTIA</td>\n",
       "      <td>Male;_Adult</td>\n",
       "      <td>1.538462</td>\n",
       "    </tr>\n",
       "    <tr>\n",
       "      <th>4</th>\n",
       "      <td>20120614DBDm3_200</td>\n",
       "      <td>DB</td>\n",
       "      <td>200</td>\n",
       "      <td>DS</td>\n",
       "      <td>ACARTIA_CLAUSI</td>\n",
       "      <td>Female;_Adult</td>\n",
       "      <td>21.052632</td>\n",
       "    </tr>\n",
       "  </tbody>\n",
       "</table>\n",
       "</div>"
      ],
      "text/plain": [
       "          sample_code station  mesh_size FWC_DS         species  \\\n",
       "0   20131003DBDm2_200      DB        200     DS         ACARTIA   \n",
       "1  20130906DBiDm1_200      DB        200    FWC         ACARTIA   \n",
       "2   20131003DBDm1_200      DB        200    FWC         ACARTIA   \n",
       "3   20131003DBDm1_200      DB        200    FWC         ACARTIA   \n",
       "4   20120614DBDm3_200      DB        200     DS  ACARTIA_CLAUSI   \n",
       "\n",
       "  life_history_stage    density  \n",
       "0            3;_CIII   6.395349  \n",
       "1              5;_CV  38.759690  \n",
       "2      Female;_Adult   0.384615  \n",
       "3        Male;_Adult   1.538462  \n",
       "4      Female;_Adult  21.052632  "
      ]
     },
     "execution_count": 8,
     "metadata": {},
     "output_type": "execute_result"
    }
   ],
   "source": [
    "emofsource_df.head()"
   ]
  },
  {
   "cell_type": "markdown",
   "id": "dde6e90d-b424-4802-9f9d-13389f8eae30",
   "metadata": {},
   "source": [
    "## Read dwcEvent and dwcOccurrence csv's"
   ]
  },
  {
   "cell_type": "code",
   "execution_count": 9,
   "id": "9e258123-8c6c-4351-a0dd-55ff6e8c846f",
   "metadata": {},
   "outputs": [],
   "source": [
    "dwcevent_df = pd.read_csv(\n",
    "    data_pth / \"aligned_csvs\" / \"DwC_event.csv\",\n",
    "    parse_dates=['eventDate'],\n",
    "    usecols=['eventID', 'parentEventID', 'eventDate']\n",
    ")\n",
    "\n",
    "dwcoccurrence_df = pd.read_csv(\n",
    "    data_pth / \"aligned_csvs\" / \"DwC_occurrence.csv\",\n",
    "    usecols=['occurrenceID', 'eventID', 'verbatimIdentification']\n",
    ")\n",
    "\n",
    "occurrence_vs_life_history_stage = pd.read_csv(\n",
    "    data_pth / \"intermediate_DwC_occurrence_life_history_stage.csv\"\n",
    ")"
   ]
  },
  {
   "cell_type": "markdown",
   "id": "7decf3c6-b8ac-4997-a0fe-a4e4306a4bed",
   "metadata": {},
   "source": [
    "Add `life_history_stage` to the occurrence dataframe, to enable the eMoF data processing steps used here."
   ]
  },
  {
   "cell_type": "code",
   "execution_count": 10,
   "id": "33a01c90-4f66-48d8-bcca-bff2b2ef4f30",
   "metadata": {},
   "outputs": [],
   "source": [
    "dwcoccurrence_df = dwcoccurrence_df.merge(occurrence_vs_life_history_stage, on='occurrenceID')"
   ]
  },
  {
   "cell_type": "markdown",
   "id": "695013e2-da23-4bfd-9e09-41ac06b07b65",
   "metadata": {},
   "source": [
    "## Create empty eMoF dataframe"
   ]
  },
  {
   "cell_type": "code",
   "execution_count": 11,
   "id": "48a89608-e2b4-4284-b238-4fd5e10bbc8e",
   "metadata": {},
   "outputs": [],
   "source": [
    "# Won't use measurementID, per Abby's explanation on Slack\n",
    "emof_cols_dtypes = np.dtype(\n",
    "    [\n",
    "        ('eventID', str),\n",
    "        ('occurrenceID', str), \n",
    "        # --- temporary, for validation\n",
    "        # ('life_history_stage', str),\n",
    "        # ('verbatimIdentification', str),\n",
    "        # ---- below, commented out columns not used\n",
    "        ('measurementType', str),\n",
    "        ('measurementTypeID', str), \n",
    "        ('measurementValue', str),\n",
    "        ('measurementValueID', str),\n",
    "        # ('measurementAccuracy', str),\n",
    "        ('measurementUnit', str),\n",
    "        ('measurementUnitID', str),\n",
    "        # ('measurementDeterminedDate', str),\n",
    "        # ('measurementDeterminedBy', str), \n",
    "        # ('measurementMethod', str),\n",
    "        # ('measurementRemarks', str)\n",
    "    ]\n",
    ")"
   ]
  },
  {
   "cell_type": "code",
   "execution_count": 12,
   "id": "54768e1d-08e2-47a8-9030-e170c4a3d9fc",
   "metadata": {},
   "outputs": [],
   "source": [
    "emof_df = pd.DataFrame(np.empty(0, dtype=emof_cols_dtypes))"
   ]
  },
  {
   "cell_type": "markdown",
   "id": "d1bd676e-c2ae-4f4f-baa6-2721aa7cd545",
   "metadata": {},
   "source": [
    "## MoF's associated with an event rather than an occurrence\n",
    "\n",
    "These will have no `occcurrenceID` entry"
   ]
  },
  {
   "cell_type": "markdown",
   "id": "963b7aed-65aa-4e42-be8c-c1a5981dc62c",
   "metadata": {},
   "source": [
    "### Associated with sample events"
   ]
  },
  {
   "cell_type": "code",
   "execution_count": 13,
   "id": "cb2b6e12-80fd-4c23-b60a-ce7419095c4a",
   "metadata": {},
   "outputs": [],
   "source": [
    "emofsource_samples_df = dwcevent_df.merge(\n",
    "    emofsource_df[['sample_code', 'mesh_size', 'FWC_DS']], \n",
    "    how='inner',\n",
    "    left_on='eventID',\n",
    "    right_on='sample_code'\n",
    ")\n",
    "\n",
    "emofsource_samples_df = (\n",
    "    emofsource_samples_df\n",
    "    .drop_duplicates()\n",
    "    .drop(columns='sample_code')\n",
    "    .sort_values(by='eventID')\n",
    "    .reset_index(drop=True)\n",
    ")"
   ]
  },
  {
   "cell_type": "code",
   "execution_count": 14,
   "id": "79fc6bf2-9c29-4c93-9557-625c75726d82",
   "metadata": {},
   "outputs": [
    {
     "data": {
      "text/plain": [
       "271"
      ]
     },
     "execution_count": 14,
     "metadata": {},
     "output_type": "execute_result"
    }
   ],
   "source": [
    "len(emofsource_samples_df)"
   ]
  },
  {
   "cell_type": "code",
   "execution_count": 15,
   "id": "81a521ee-6267-4333-b619-14460dd8511c",
   "metadata": {},
   "outputs": [
    {
     "data": {
      "text/html": [
       "<div>\n",
       "<style scoped>\n",
       "    .dataframe tbody tr th:only-of-type {\n",
       "        vertical-align: middle;\n",
       "    }\n",
       "\n",
       "    .dataframe tbody tr th {\n",
       "        vertical-align: top;\n",
       "    }\n",
       "\n",
       "    .dataframe thead th {\n",
       "        text-align: right;\n",
       "    }\n",
       "</style>\n",
       "<table border=\"1\" class=\"dataframe\">\n",
       "  <thead>\n",
       "    <tr style=\"text-align: right;\">\n",
       "      <th></th>\n",
       "      <th>eventID</th>\n",
       "      <th>parentEventID</th>\n",
       "      <th>eventDate</th>\n",
       "      <th>mesh_size</th>\n",
       "      <th>FWC_DS</th>\n",
       "    </tr>\n",
       "  </thead>\n",
       "  <tbody>\n",
       "    <tr>\n",
       "      <th>0</th>\n",
       "      <td>20120611UNDm1_200</td>\n",
       "      <td>UWPHHCZoop_CB975-20120611UND</td>\n",
       "      <td>2012-06-11 14:10:00-07:00</td>\n",
       "      <td>200</td>\n",
       "      <td>DS</td>\n",
       "    </tr>\n",
       "    <tr>\n",
       "      <th>1</th>\n",
       "      <td>20120611UNDm1_335</td>\n",
       "      <td>UWPHHCZoop_CB975-20120611UND</td>\n",
       "      <td>2012-06-11 15:50:00-07:00</td>\n",
       "      <td>335</td>\n",
       "      <td>DS</td>\n",
       "    </tr>\n",
       "    <tr>\n",
       "      <th>2</th>\n",
       "      <td>20120611UNDm2_200</td>\n",
       "      <td>UWPHHCZoop_CB975-20120611UND</td>\n",
       "      <td>2012-06-11 16:53:00-07:00</td>\n",
       "      <td>200</td>\n",
       "      <td>DS</td>\n",
       "    </tr>\n",
       "    <tr>\n",
       "      <th>3</th>\n",
       "      <td>20120611UNDm2_335</td>\n",
       "      <td>UWPHHCZoop_CB975-20120611UND</td>\n",
       "      <td>2012-06-11 15:50:00-07:00</td>\n",
       "      <td>335</td>\n",
       "      <td>DS</td>\n",
       "    </tr>\n",
       "    <tr>\n",
       "      <th>4</th>\n",
       "      <td>20120611UNDm3_200</td>\n",
       "      <td>UWPHHCZoop_CB975-20120611UND</td>\n",
       "      <td>2012-06-11 23:10:00-07:00</td>\n",
       "      <td>200</td>\n",
       "      <td>DS</td>\n",
       "    </tr>\n",
       "  </tbody>\n",
       "</table>\n",
       "</div>"
      ],
      "text/plain": [
       "             eventID                 parentEventID                 eventDate  \\\n",
       "0  20120611UNDm1_200  UWPHHCZoop_CB975-20120611UND 2012-06-11 14:10:00-07:00   \n",
       "1  20120611UNDm1_335  UWPHHCZoop_CB975-20120611UND 2012-06-11 15:50:00-07:00   \n",
       "2  20120611UNDm2_200  UWPHHCZoop_CB975-20120611UND 2012-06-11 16:53:00-07:00   \n",
       "3  20120611UNDm2_335  UWPHHCZoop_CB975-20120611UND 2012-06-11 15:50:00-07:00   \n",
       "4  20120611UNDm3_200  UWPHHCZoop_CB975-20120611UND 2012-06-11 23:10:00-07:00   \n",
       "\n",
       "   mesh_size FWC_DS  \n",
       "0        200     DS  \n",
       "1        335     DS  \n",
       "2        200     DS  \n",
       "3        335     DS  \n",
       "4        200     DS  "
      ]
     },
     "execution_count": 15,
     "metadata": {},
     "output_type": "execute_result"
    }
   ],
   "source": [
    "emofsource_samples_df.head()"
   ]
  },
  {
   "cell_type": "markdown",
   "id": "81872b5f-d6ac-434b-bbf5-8324e45c9d92",
   "metadata": {},
   "source": [
    "#### multinet sampling"
   ]
  },
  {
   "cell_type": "code",
   "execution_count": 16,
   "id": "44598a79-1fb2-4c16-966a-9ef2a2975e6e",
   "metadata": {},
   "outputs": [],
   "source": [
    "multinet_emof_df = emofsource_samples_df.copy()"
   ]
  },
  {
   "cell_type": "code",
   "execution_count": 17,
   "id": "40762d03-56e0-471f-a555-191b6bd5cbfb",
   "metadata": {},
   "outputs": [],
   "source": [
    "multinet_emof_df['measurementType'] = \"multinet\"\n",
    "multinet_emof_df['measurementTypeID'] = \"http://vocab.nerc.ac.uk/collection/L05/current/68/\"\n",
    "multinet_emof_df['measurementValue'] = 'Hydro-bios 5-net'"
   ]
  },
  {
   "cell_type": "code",
   "execution_count": 18,
   "id": "2cdd533b-b9d0-4337-bc78-64030917e8b7",
   "metadata": {},
   "outputs": [
    {
     "data": {
      "text/plain": [
       "271"
      ]
     },
     "execution_count": 18,
     "metadata": {},
     "output_type": "execute_result"
    }
   ],
   "source": [
    "len(multinet_emof_df)"
   ]
  },
  {
   "cell_type": "markdown",
   "id": "7d7e2afe-ebb0-4a7e-8f41-36d1e43f5967",
   "metadata": {},
   "source": [
    "Populate (append to) the `emof_df` table with the emof records."
   ]
  },
  {
   "cell_type": "code",
   "execution_count": 19,
   "id": "bf615525-9586-400c-8631-b4b66af6a4da",
   "metadata": {},
   "outputs": [],
   "source": [
    "emof_df = pd.concat(\n",
    "    [\n",
    "        emof_df,\n",
    "        multinet_emof_df[['eventID', 'measurementType', 'measurementTypeID', 'measurementValue']]\n",
    "    ],\n",
    "    ignore_index=True\n",
    ")"
   ]
  },
  {
   "cell_type": "code",
   "execution_count": 20,
   "id": "c0038833-5082-49e5-8cb1-3e4d218dabaa",
   "metadata": {},
   "outputs": [
    {
     "data": {
      "text/plain": [
       "271"
      ]
     },
     "execution_count": 20,
     "metadata": {},
     "output_type": "execute_result"
    }
   ],
   "source": [
    "len(emof_df)"
   ]
  },
  {
   "cell_type": "markdown",
   "id": "8764c877-3ebb-4acc-b85c-4ed5f16124af",
   "metadata": {},
   "source": [
    "#### depth stratified vs full water column sampling"
   ]
  },
  {
   "cell_type": "code",
   "execution_count": 21,
   "id": "d9432b5c-9110-441b-b470-71a2675518a3",
   "metadata": {},
   "outputs": [],
   "source": [
    "fwcds_emof_df = emofsource_samples_df.copy()"
   ]
  },
  {
   "cell_type": "code",
   "execution_count": 22,
   "id": "24af868c-a358-49bb-a3d9-401808b1cbfd",
   "metadata": {},
   "outputs": [],
   "source": [
    "fwcds_emof_df['measurementType'] = \"Sampling method\"\n",
    "fwcds_emof_df['measurementTypeID'] = \"http://vocab.nerc.ac.uk/collection/Q01/current/Q0100003/\"\n",
    "fwcds_emof_df['measurementValue'] = fwcds_emof_df['FWC_DS'].apply(lambda fwc_ds: net_tow[fwc_ds])"
   ]
  },
  {
   "cell_type": "code",
   "execution_count": 23,
   "id": "6917aa21-9464-4f31-8455-eb028498ca65",
   "metadata": {},
   "outputs": [
    {
     "data": {
      "text/plain": [
       "271"
      ]
     },
     "execution_count": 23,
     "metadata": {},
     "output_type": "execute_result"
    }
   ],
   "source": [
    "len(fwcds_emof_df)"
   ]
  },
  {
   "cell_type": "markdown",
   "id": "00ee8643-4970-4d75-9d02-7fc6d108ef25",
   "metadata": {},
   "source": [
    "Populate (append to) the `emof_df` table with the emof records."
   ]
  },
  {
   "cell_type": "code",
   "execution_count": 24,
   "id": "0c9ea01f-2d6c-4fac-a03f-b1addff4fecf",
   "metadata": {},
   "outputs": [],
   "source": [
    "emof_df = pd.concat(\n",
    "    [\n",
    "        emof_df,\n",
    "        fwcds_emof_df[['eventID', 'measurementType', 'measurementTypeID', 'measurementValue']], \n",
    "    ],\n",
    "    ignore_index=True\n",
    ")"
   ]
  },
  {
   "cell_type": "code",
   "execution_count": 25,
   "id": "5b8ef1c2-8ca0-4403-a6dd-a7a757217da7",
   "metadata": {},
   "outputs": [
    {
     "data": {
      "text/plain": [
       "542"
      ]
     },
     "execution_count": 25,
     "metadata": {},
     "output_type": "execute_result"
    }
   ],
   "source": [
    "len(emof_df)"
   ]
  },
  {
   "cell_type": "code",
   "execution_count": 26,
   "id": "af9675d2-b876-4b3d-9abd-a865f286559b",
   "metadata": {},
   "outputs": [
    {
     "data": {
      "text/html": [
       "<div>\n",
       "<style scoped>\n",
       "    .dataframe tbody tr th:only-of-type {\n",
       "        vertical-align: middle;\n",
       "    }\n",
       "\n",
       "    .dataframe tbody tr th {\n",
       "        vertical-align: top;\n",
       "    }\n",
       "\n",
       "    .dataframe thead th {\n",
       "        text-align: right;\n",
       "    }\n",
       "</style>\n",
       "<table border=\"1\" class=\"dataframe\">\n",
       "  <thead>\n",
       "    <tr style=\"text-align: right;\">\n",
       "      <th></th>\n",
       "      <th>eventID</th>\n",
       "      <th>occurrenceID</th>\n",
       "      <th>measurementType</th>\n",
       "      <th>measurementTypeID</th>\n",
       "      <th>measurementValue</th>\n",
       "      <th>measurementValueID</th>\n",
       "      <th>measurementUnit</th>\n",
       "      <th>measurementUnitID</th>\n",
       "    </tr>\n",
       "  </thead>\n",
       "  <tbody>\n",
       "    <tr>\n",
       "      <th>0</th>\n",
       "      <td>20120611UNDm1_200</td>\n",
       "      <td>NaN</td>\n",
       "      <td>multinet</td>\n",
       "      <td>http://vocab.nerc.ac.uk/collection/L05/current...</td>\n",
       "      <td>Hydro-bios 5-net</td>\n",
       "      <td>NaN</td>\n",
       "      <td>NaN</td>\n",
       "      <td>NaN</td>\n",
       "    </tr>\n",
       "    <tr>\n",
       "      <th>1</th>\n",
       "      <td>20120611UNDm1_335</td>\n",
       "      <td>NaN</td>\n",
       "      <td>multinet</td>\n",
       "      <td>http://vocab.nerc.ac.uk/collection/L05/current...</td>\n",
       "      <td>Hydro-bios 5-net</td>\n",
       "      <td>NaN</td>\n",
       "      <td>NaN</td>\n",
       "      <td>NaN</td>\n",
       "    </tr>\n",
       "    <tr>\n",
       "      <th>2</th>\n",
       "      <td>20120611UNDm2_200</td>\n",
       "      <td>NaN</td>\n",
       "      <td>multinet</td>\n",
       "      <td>http://vocab.nerc.ac.uk/collection/L05/current...</td>\n",
       "      <td>Hydro-bios 5-net</td>\n",
       "      <td>NaN</td>\n",
       "      <td>NaN</td>\n",
       "      <td>NaN</td>\n",
       "    </tr>\n",
       "    <tr>\n",
       "      <th>3</th>\n",
       "      <td>20120611UNDm2_335</td>\n",
       "      <td>NaN</td>\n",
       "      <td>multinet</td>\n",
       "      <td>http://vocab.nerc.ac.uk/collection/L05/current...</td>\n",
       "      <td>Hydro-bios 5-net</td>\n",
       "      <td>NaN</td>\n",
       "      <td>NaN</td>\n",
       "      <td>NaN</td>\n",
       "    </tr>\n",
       "    <tr>\n",
       "      <th>4</th>\n",
       "      <td>20120611UNDm3_200</td>\n",
       "      <td>NaN</td>\n",
       "      <td>multinet</td>\n",
       "      <td>http://vocab.nerc.ac.uk/collection/L05/current...</td>\n",
       "      <td>Hydro-bios 5-net</td>\n",
       "      <td>NaN</td>\n",
       "      <td>NaN</td>\n",
       "      <td>NaN</td>\n",
       "    </tr>\n",
       "    <tr>\n",
       "      <th>5</th>\n",
       "      <td>20120611UNDm3_335</td>\n",
       "      <td>NaN</td>\n",
       "      <td>multinet</td>\n",
       "      <td>http://vocab.nerc.ac.uk/collection/L05/current...</td>\n",
       "      <td>Hydro-bios 5-net</td>\n",
       "      <td>NaN</td>\n",
       "      <td>NaN</td>\n",
       "      <td>NaN</td>\n",
       "    </tr>\n",
       "    <tr>\n",
       "      <th>6</th>\n",
       "      <td>20120611UNDm4_200</td>\n",
       "      <td>NaN</td>\n",
       "      <td>multinet</td>\n",
       "      <td>http://vocab.nerc.ac.uk/collection/L05/current...</td>\n",
       "      <td>Hydro-bios 5-net</td>\n",
       "      <td>NaN</td>\n",
       "      <td>NaN</td>\n",
       "      <td>NaN</td>\n",
       "    </tr>\n",
       "    <tr>\n",
       "      <th>7</th>\n",
       "      <td>20120611UNNm1_200</td>\n",
       "      <td>NaN</td>\n",
       "      <td>multinet</td>\n",
       "      <td>http://vocab.nerc.ac.uk/collection/L05/current...</td>\n",
       "      <td>Hydro-bios 5-net</td>\n",
       "      <td>NaN</td>\n",
       "      <td>NaN</td>\n",
       "      <td>NaN</td>\n",
       "    </tr>\n",
       "    <tr>\n",
       "      <th>8</th>\n",
       "      <td>20120611UNNm1_335</td>\n",
       "      <td>NaN</td>\n",
       "      <td>multinet</td>\n",
       "      <td>http://vocab.nerc.ac.uk/collection/L05/current...</td>\n",
       "      <td>Hydro-bios 5-net</td>\n",
       "      <td>NaN</td>\n",
       "      <td>NaN</td>\n",
       "      <td>NaN</td>\n",
       "    </tr>\n",
       "    <tr>\n",
       "      <th>9</th>\n",
       "      <td>20120611UNNm2_200</td>\n",
       "      <td>NaN</td>\n",
       "      <td>multinet</td>\n",
       "      <td>http://vocab.nerc.ac.uk/collection/L05/current...</td>\n",
       "      <td>Hydro-bios 5-net</td>\n",
       "      <td>NaN</td>\n",
       "      <td>NaN</td>\n",
       "      <td>NaN</td>\n",
       "    </tr>\n",
       "  </tbody>\n",
       "</table>\n",
       "</div>"
      ],
      "text/plain": [
       "             eventID occurrenceID measurementType  \\\n",
       "0  20120611UNDm1_200          NaN        multinet   \n",
       "1  20120611UNDm1_335          NaN        multinet   \n",
       "2  20120611UNDm2_200          NaN        multinet   \n",
       "3  20120611UNDm2_335          NaN        multinet   \n",
       "4  20120611UNDm3_200          NaN        multinet   \n",
       "5  20120611UNDm3_335          NaN        multinet   \n",
       "6  20120611UNDm4_200          NaN        multinet   \n",
       "7  20120611UNNm1_200          NaN        multinet   \n",
       "8  20120611UNNm1_335          NaN        multinet   \n",
       "9  20120611UNNm2_200          NaN        multinet   \n",
       "\n",
       "                                   measurementTypeID  measurementValue  \\\n",
       "0  http://vocab.nerc.ac.uk/collection/L05/current...  Hydro-bios 5-net   \n",
       "1  http://vocab.nerc.ac.uk/collection/L05/current...  Hydro-bios 5-net   \n",
       "2  http://vocab.nerc.ac.uk/collection/L05/current...  Hydro-bios 5-net   \n",
       "3  http://vocab.nerc.ac.uk/collection/L05/current...  Hydro-bios 5-net   \n",
       "4  http://vocab.nerc.ac.uk/collection/L05/current...  Hydro-bios 5-net   \n",
       "5  http://vocab.nerc.ac.uk/collection/L05/current...  Hydro-bios 5-net   \n",
       "6  http://vocab.nerc.ac.uk/collection/L05/current...  Hydro-bios 5-net   \n",
       "7  http://vocab.nerc.ac.uk/collection/L05/current...  Hydro-bios 5-net   \n",
       "8  http://vocab.nerc.ac.uk/collection/L05/current...  Hydro-bios 5-net   \n",
       "9  http://vocab.nerc.ac.uk/collection/L05/current...  Hydro-bios 5-net   \n",
       "\n",
       "  measurementValueID measurementUnit measurementUnitID  \n",
       "0                NaN             NaN               NaN  \n",
       "1                NaN             NaN               NaN  \n",
       "2                NaN             NaN               NaN  \n",
       "3                NaN             NaN               NaN  \n",
       "4                NaN             NaN               NaN  \n",
       "5                NaN             NaN               NaN  \n",
       "6                NaN             NaN               NaN  \n",
       "7                NaN             NaN               NaN  \n",
       "8                NaN             NaN               NaN  \n",
       "9                NaN             NaN               NaN  "
      ]
     },
     "execution_count": 26,
     "metadata": {},
     "output_type": "execute_result"
    }
   ],
   "source": [
    "emof_df.head(10)"
   ]
  },
  {
   "cell_type": "markdown",
   "id": "07415627-c903-4463-85aa-476385fadde3",
   "metadata": {},
   "source": [
    "#### mesh size"
   ]
  },
  {
   "cell_type": "code",
   "execution_count": 27,
   "id": "2469b3b4-7447-44d4-ab0c-93994cb12a01",
   "metadata": {},
   "outputs": [],
   "source": [
    "mesh_emof_df = emofsource_samples_df.copy()"
   ]
  },
  {
   "cell_type": "code",
   "execution_count": 28,
   "id": "1b681d71-d5fc-452c-b4d2-0223d0ae1c21",
   "metadata": {},
   "outputs": [],
   "source": [
    "mesh_emof_df['measurementType'] = \"Sampling net mesh size\"\n",
    "mesh_emof_df['measurementTypeID'] = \"http://vocab.nerc.ac.uk/collection/Q01/current/Q0100015/\"\n",
    "mesh_emof_df['measurementUnit'] = \"Micrometres (microns)\"\n",
    "mesh_emof_df['measurementUnitID'] = \"http://vocab.nerc.ac.uk/collection/P06/current/UMIC/\"\n",
    "\n",
    "mesh_emof_df.rename(columns={'mesh_size':'measurementValue'}, inplace=True)"
   ]
  },
  {
   "cell_type": "code",
   "execution_count": 29,
   "id": "b0eeb244-ca17-4661-9cfc-22482cb8c356",
   "metadata": {},
   "outputs": [
    {
     "data": {
      "text/plain": [
       "271"
      ]
     },
     "execution_count": 29,
     "metadata": {},
     "output_type": "execute_result"
    }
   ],
   "source": [
    "len(mesh_emof_df)"
   ]
  },
  {
   "cell_type": "markdown",
   "id": "683c474e-9d30-4fc5-8d80-9ae5f6799bc4",
   "metadata": {},
   "source": [
    "Populate (append to) the `emof_df` table with the emof records."
   ]
  },
  {
   "cell_type": "code",
   "execution_count": 30,
   "id": "b58595ac-9a3c-4018-9b2c-27af6c6e732c",
   "metadata": {},
   "outputs": [],
   "source": [
    "emof_df = pd.concat(\n",
    "    [\n",
    "        emof_df,\n",
    "        mesh_emof_df[[\n",
    "            'eventID', \n",
    "            'measurementType', 'measurementTypeID', 'measurementValue', \n",
    "            'measurementUnit', 'measurementUnitID'\n",
    "        ]]\n",
    "    ],\n",
    "    ignore_index=True\n",
    ")"
   ]
  },
  {
   "cell_type": "code",
   "execution_count": 31,
   "id": "50ba8fa0-423f-4a1b-988d-12e9a9ca9785",
   "metadata": {},
   "outputs": [
    {
     "data": {
      "text/plain": [
       "813"
      ]
     },
     "execution_count": 31,
     "metadata": {},
     "output_type": "execute_result"
    }
   ],
   "source": [
    "len(emof_df)"
   ]
  },
  {
   "cell_type": "code",
   "execution_count": 32,
   "id": "f3efdb1d-4ba5-4feb-a712-f5eb38d95151",
   "metadata": {},
   "outputs": [
    {
     "data": {
      "text/html": [
       "<div>\n",
       "<style scoped>\n",
       "    .dataframe tbody tr th:only-of-type {\n",
       "        vertical-align: middle;\n",
       "    }\n",
       "\n",
       "    .dataframe tbody tr th {\n",
       "        vertical-align: top;\n",
       "    }\n",
       "\n",
       "    .dataframe thead th {\n",
       "        text-align: right;\n",
       "    }\n",
       "</style>\n",
       "<table border=\"1\" class=\"dataframe\">\n",
       "  <thead>\n",
       "    <tr style=\"text-align: right;\">\n",
       "      <th></th>\n",
       "      <th>eventID</th>\n",
       "      <th>occurrenceID</th>\n",
       "      <th>measurementType</th>\n",
       "      <th>measurementTypeID</th>\n",
       "      <th>measurementValue</th>\n",
       "      <th>measurementValueID</th>\n",
       "      <th>measurementUnit</th>\n",
       "      <th>measurementUnitID</th>\n",
       "    </tr>\n",
       "  </thead>\n",
       "  <tbody>\n",
       "    <tr>\n",
       "      <th>803</th>\n",
       "      <td>20131003DBDm3_200</td>\n",
       "      <td>NaN</td>\n",
       "      <td>Sampling net mesh size</td>\n",
       "      <td>http://vocab.nerc.ac.uk/collection/Q01/current...</td>\n",
       "      <td>200</td>\n",
       "      <td>NaN</td>\n",
       "      <td>Micrometres (microns)</td>\n",
       "      <td>http://vocab.nerc.ac.uk/collection/P06/current...</td>\n",
       "    </tr>\n",
       "    <tr>\n",
       "      <th>804</th>\n",
       "      <td>20131003DBDm3_335</td>\n",
       "      <td>NaN</td>\n",
       "      <td>Sampling net mesh size</td>\n",
       "      <td>http://vocab.nerc.ac.uk/collection/Q01/current...</td>\n",
       "      <td>335</td>\n",
       "      <td>NaN</td>\n",
       "      <td>Micrometres (microns)</td>\n",
       "      <td>http://vocab.nerc.ac.uk/collection/P06/current...</td>\n",
       "    </tr>\n",
       "    <tr>\n",
       "      <th>805</th>\n",
       "      <td>20131003DBDm4_200</td>\n",
       "      <td>NaN</td>\n",
       "      <td>Sampling net mesh size</td>\n",
       "      <td>http://vocab.nerc.ac.uk/collection/Q01/current...</td>\n",
       "      <td>200</td>\n",
       "      <td>NaN</td>\n",
       "      <td>Micrometres (microns)</td>\n",
       "      <td>http://vocab.nerc.ac.uk/collection/P06/current...</td>\n",
       "    </tr>\n",
       "    <tr>\n",
       "      <th>806</th>\n",
       "      <td>20131003DBDm4_335</td>\n",
       "      <td>NaN</td>\n",
       "      <td>Sampling net mesh size</td>\n",
       "      <td>http://vocab.nerc.ac.uk/collection/Q01/current...</td>\n",
       "      <td>335</td>\n",
       "      <td>NaN</td>\n",
       "      <td>Micrometres (microns)</td>\n",
       "      <td>http://vocab.nerc.ac.uk/collection/P06/current...</td>\n",
       "    </tr>\n",
       "    <tr>\n",
       "      <th>807</th>\n",
       "      <td>20131003DBDm5_200</td>\n",
       "      <td>NaN</td>\n",
       "      <td>Sampling net mesh size</td>\n",
       "      <td>http://vocab.nerc.ac.uk/collection/Q01/current...</td>\n",
       "      <td>200</td>\n",
       "      <td>NaN</td>\n",
       "      <td>Micrometres (microns)</td>\n",
       "      <td>http://vocab.nerc.ac.uk/collection/P06/current...</td>\n",
       "    </tr>\n",
       "    <tr>\n",
       "      <th>808</th>\n",
       "      <td>20131003DBDm5_335</td>\n",
       "      <td>NaN</td>\n",
       "      <td>Sampling net mesh size</td>\n",
       "      <td>http://vocab.nerc.ac.uk/collection/Q01/current...</td>\n",
       "      <td>335</td>\n",
       "      <td>NaN</td>\n",
       "      <td>Micrometres (microns)</td>\n",
       "      <td>http://vocab.nerc.ac.uk/collection/P06/current...</td>\n",
       "    </tr>\n",
       "    <tr>\n",
       "      <th>809</th>\n",
       "      <td>20131003DBNm1_335</td>\n",
       "      <td>NaN</td>\n",
       "      <td>Sampling net mesh size</td>\n",
       "      <td>http://vocab.nerc.ac.uk/collection/Q01/current...</td>\n",
       "      <td>335</td>\n",
       "      <td>NaN</td>\n",
       "      <td>Micrometres (microns)</td>\n",
       "      <td>http://vocab.nerc.ac.uk/collection/P06/current...</td>\n",
       "    </tr>\n",
       "    <tr>\n",
       "      <th>810</th>\n",
       "      <td>20131003DBNm2_335</td>\n",
       "      <td>NaN</td>\n",
       "      <td>Sampling net mesh size</td>\n",
       "      <td>http://vocab.nerc.ac.uk/collection/Q01/current...</td>\n",
       "      <td>335</td>\n",
       "      <td>NaN</td>\n",
       "      <td>Micrometres (microns)</td>\n",
       "      <td>http://vocab.nerc.ac.uk/collection/P06/current...</td>\n",
       "    </tr>\n",
       "    <tr>\n",
       "      <th>811</th>\n",
       "      <td>20131003DBNm3_335</td>\n",
       "      <td>NaN</td>\n",
       "      <td>Sampling net mesh size</td>\n",
       "      <td>http://vocab.nerc.ac.uk/collection/Q01/current...</td>\n",
       "      <td>335</td>\n",
       "      <td>NaN</td>\n",
       "      <td>Micrometres (microns)</td>\n",
       "      <td>http://vocab.nerc.ac.uk/collection/P06/current...</td>\n",
       "    </tr>\n",
       "    <tr>\n",
       "      <th>812</th>\n",
       "      <td>20131003DBNm4_335</td>\n",
       "      <td>NaN</td>\n",
       "      <td>Sampling net mesh size</td>\n",
       "      <td>http://vocab.nerc.ac.uk/collection/Q01/current...</td>\n",
       "      <td>335</td>\n",
       "      <td>NaN</td>\n",
       "      <td>Micrometres (microns)</td>\n",
       "      <td>http://vocab.nerc.ac.uk/collection/P06/current...</td>\n",
       "    </tr>\n",
       "  </tbody>\n",
       "</table>\n",
       "</div>"
      ],
      "text/plain": [
       "               eventID occurrenceID         measurementType  \\\n",
       "803  20131003DBDm3_200          NaN  Sampling net mesh size   \n",
       "804  20131003DBDm3_335          NaN  Sampling net mesh size   \n",
       "805  20131003DBDm4_200          NaN  Sampling net mesh size   \n",
       "806  20131003DBDm4_335          NaN  Sampling net mesh size   \n",
       "807  20131003DBDm5_200          NaN  Sampling net mesh size   \n",
       "808  20131003DBDm5_335          NaN  Sampling net mesh size   \n",
       "809  20131003DBNm1_335          NaN  Sampling net mesh size   \n",
       "810  20131003DBNm2_335          NaN  Sampling net mesh size   \n",
       "811  20131003DBNm3_335          NaN  Sampling net mesh size   \n",
       "812  20131003DBNm4_335          NaN  Sampling net mesh size   \n",
       "\n",
       "                                     measurementTypeID measurementValue  \\\n",
       "803  http://vocab.nerc.ac.uk/collection/Q01/current...              200   \n",
       "804  http://vocab.nerc.ac.uk/collection/Q01/current...              335   \n",
       "805  http://vocab.nerc.ac.uk/collection/Q01/current...              200   \n",
       "806  http://vocab.nerc.ac.uk/collection/Q01/current...              335   \n",
       "807  http://vocab.nerc.ac.uk/collection/Q01/current...              200   \n",
       "808  http://vocab.nerc.ac.uk/collection/Q01/current...              335   \n",
       "809  http://vocab.nerc.ac.uk/collection/Q01/current...              335   \n",
       "810  http://vocab.nerc.ac.uk/collection/Q01/current...              335   \n",
       "811  http://vocab.nerc.ac.uk/collection/Q01/current...              335   \n",
       "812  http://vocab.nerc.ac.uk/collection/Q01/current...              335   \n",
       "\n",
       "    measurementValueID        measurementUnit  \\\n",
       "803                NaN  Micrometres (microns)   \n",
       "804                NaN  Micrometres (microns)   \n",
       "805                NaN  Micrometres (microns)   \n",
       "806                NaN  Micrometres (microns)   \n",
       "807                NaN  Micrometres (microns)   \n",
       "808                NaN  Micrometres (microns)   \n",
       "809                NaN  Micrometres (microns)   \n",
       "810                NaN  Micrometres (microns)   \n",
       "811                NaN  Micrometres (microns)   \n",
       "812                NaN  Micrometres (microns)   \n",
       "\n",
       "                                     measurementUnitID  \n",
       "803  http://vocab.nerc.ac.uk/collection/P06/current...  \n",
       "804  http://vocab.nerc.ac.uk/collection/P06/current...  \n",
       "805  http://vocab.nerc.ac.uk/collection/P06/current...  \n",
       "806  http://vocab.nerc.ac.uk/collection/P06/current...  \n",
       "807  http://vocab.nerc.ac.uk/collection/P06/current...  \n",
       "808  http://vocab.nerc.ac.uk/collection/P06/current...  \n",
       "809  http://vocab.nerc.ac.uk/collection/P06/current...  \n",
       "810  http://vocab.nerc.ac.uk/collection/P06/current...  \n",
       "811  http://vocab.nerc.ac.uk/collection/P06/current...  \n",
       "812  http://vocab.nerc.ac.uk/collection/P06/current...  "
      ]
     },
     "execution_count": 32,
     "metadata": {},
     "output_type": "execute_result"
    }
   ],
   "source": [
    "emof_df.tail(10)"
   ]
  },
  {
   "cell_type": "markdown",
   "id": "418c84bc-c41d-478e-bd35-070e15183897",
   "metadata": {},
   "source": [
    "## MoF's associated with exactly one occurrence\n",
    "\n",
    "These will have an `occcurrenceID` entry.\n",
    "\n",
    "We'll have to preserve the original `life_history_stage` strings in the occurrence csv table, in order to be able to properly merge the occurrence table with `emofsource_df`. Do this maybe by adding a `occurrenceRemarks` column, or by keeping a `life_history_stage` column that will be dropped in a later stage"
   ]
  },
  {
   "cell_type": "code",
   "execution_count": 33,
   "id": "8294799e-273b-438e-b403-f03a6697ef90",
   "metadata": {},
   "outputs": [],
   "source": [
    "emofsource_samplesoccur_df = (\n",
    "    dwcevent_df\n",
    "    .merge(\n",
    "        emofsource_df[['sample_code', 'species', 'life_history_stage', 'density']], \n",
    "        how='inner',\n",
    "        left_on='eventID',\n",
    "        right_on='sample_code'\n",
    "    )\n",
    "    .merge(\n",
    "        dwcoccurrence_df,\n",
    "        how='inner',\n",
    "        left_on=['eventID', 'species', 'life_history_stage'],\n",
    "        right_on=['eventID', 'verbatimIdentification', 'life_history_stage']\n",
    "    )\n",
    ")\n",
    "\n",
    "emofsource_samplesoccur_df = (\n",
    "    emofsource_samplesoccur_df\n",
    "    .drop_duplicates()\n",
    "    .drop(columns=['sample_code', 'parentEventID', 'species'])\n",
    "    .sort_values(by='eventID')\n",
    "    .reset_index(drop=True)\n",
    ")"
   ]
  },
  {
   "cell_type": "code",
   "execution_count": 34,
   "id": "bbf38777-2fbd-4c4a-ba0e-70f2851e5cfb",
   "metadata": {},
   "outputs": [
    {
     "data": {
      "text/plain": [
       "6854"
      ]
     },
     "execution_count": 34,
     "metadata": {},
     "output_type": "execute_result"
    }
   ],
   "source": [
    "len(emofsource_samplesoccur_df)"
   ]
  },
  {
   "cell_type": "code",
   "execution_count": 35,
   "id": "d82f7375-3d0e-450d-8dcf-c8b4dda37eb3",
   "metadata": {},
   "outputs": [
    {
     "data": {
      "text/html": [
       "<div>\n",
       "<style scoped>\n",
       "    .dataframe tbody tr th:only-of-type {\n",
       "        vertical-align: middle;\n",
       "    }\n",
       "\n",
       "    .dataframe tbody tr th {\n",
       "        vertical-align: top;\n",
       "    }\n",
       "\n",
       "    .dataframe thead th {\n",
       "        text-align: right;\n",
       "    }\n",
       "</style>\n",
       "<table border=\"1\" class=\"dataframe\">\n",
       "  <thead>\n",
       "    <tr style=\"text-align: right;\">\n",
       "      <th></th>\n",
       "      <th>eventID</th>\n",
       "      <th>eventDate</th>\n",
       "      <th>life_history_stage</th>\n",
       "      <th>density</th>\n",
       "      <th>occurrenceID</th>\n",
       "      <th>verbatimIdentification</th>\n",
       "    </tr>\n",
       "  </thead>\n",
       "  <tbody>\n",
       "    <tr>\n",
       "      <th>0</th>\n",
       "      <td>20120611UNDm1_200</td>\n",
       "      <td>2012-06-11 14:10:00-07:00</td>\n",
       "      <td>Female;_Adult</td>\n",
       "      <td>47.567568</td>\n",
       "      <td>3dc09f04-260b-470c-bb8b-21a56df3b326</td>\n",
       "      <td>ACARTIA_CLAUSI</td>\n",
       "    </tr>\n",
       "    <tr>\n",
       "      <th>1</th>\n",
       "      <td>20120611UNDm1_200</td>\n",
       "      <td>2012-06-11 14:10:00-07:00</td>\n",
       "      <td>1;_CI</td>\n",
       "      <td>17.830630</td>\n",
       "      <td>15ff027b-4c05-4741-a2e2-8cfb8ee6d914</td>\n",
       "      <td>METRIDIA_PACIFICA</td>\n",
       "    </tr>\n",
       "    <tr>\n",
       "      <th>2</th>\n",
       "      <td>20120611UNDm1_200</td>\n",
       "      <td>2012-06-11 14:10:00-07:00</td>\n",
       "      <td>3;_CIII</td>\n",
       "      <td>79.279279</td>\n",
       "      <td>3dfa54c6-31ba-4142-996d-72a7469f1009</td>\n",
       "      <td>METRIDIA_PACIFICA</td>\n",
       "    </tr>\n",
       "    <tr>\n",
       "      <th>3</th>\n",
       "      <td>20120611UNDm1_200</td>\n",
       "      <td>2012-06-11 14:10:00-07:00</td>\n",
       "      <td>4;_CIV</td>\n",
       "      <td>71.668470</td>\n",
       "      <td>f3d71f04-e053-41f1-95b8-18ec55432969</td>\n",
       "      <td>METRIDIA_PACIFICA</td>\n",
       "    </tr>\n",
       "    <tr>\n",
       "      <th>4</th>\n",
       "      <td>20120611UNDm1_200</td>\n",
       "      <td>2012-06-11 14:10:00-07:00</td>\n",
       "      <td>5;_CV</td>\n",
       "      <td>53.953154</td>\n",
       "      <td>84409f0c-4834-42a7-a39e-d934afd1ede6</td>\n",
       "      <td>METRIDIA_PACIFICA</td>\n",
       "    </tr>\n",
       "  </tbody>\n",
       "</table>\n",
       "</div>"
      ],
      "text/plain": [
       "             eventID                 eventDate life_history_stage    density  \\\n",
       "0  20120611UNDm1_200 2012-06-11 14:10:00-07:00      Female;_Adult  47.567568   \n",
       "1  20120611UNDm1_200 2012-06-11 14:10:00-07:00              1;_CI  17.830630   \n",
       "2  20120611UNDm1_200 2012-06-11 14:10:00-07:00            3;_CIII  79.279279   \n",
       "3  20120611UNDm1_200 2012-06-11 14:10:00-07:00             4;_CIV  71.668470   \n",
       "4  20120611UNDm1_200 2012-06-11 14:10:00-07:00              5;_CV  53.953154   \n",
       "\n",
       "                           occurrenceID verbatimIdentification  \n",
       "0  3dc09f04-260b-470c-bb8b-21a56df3b326         ACARTIA_CLAUSI  \n",
       "1  15ff027b-4c05-4741-a2e2-8cfb8ee6d914      METRIDIA_PACIFICA  \n",
       "2  3dfa54c6-31ba-4142-996d-72a7469f1009      METRIDIA_PACIFICA  \n",
       "3  f3d71f04-e053-41f1-95b8-18ec55432969      METRIDIA_PACIFICA  \n",
       "4  84409f0c-4834-42a7-a39e-d934afd1ede6      METRIDIA_PACIFICA  "
      ]
     },
     "execution_count": 35,
     "metadata": {},
     "output_type": "execute_result"
    }
   ],
   "source": [
    "emofsource_samplesoccur_df.head()"
   ]
  },
  {
   "cell_type": "markdown",
   "id": "fcf2f771-6bc3-4631-914c-dd217426e3a0",
   "metadata": {},
   "source": [
    "### density / abundance"
   ]
  },
  {
   "cell_type": "code",
   "execution_count": 36,
   "id": "ac1f5904-77d5-4468-ae7a-b5bd1e725b3e",
   "metadata": {},
   "outputs": [],
   "source": [
    "abundance_emof_df = emofsource_samplesoccur_df.copy()"
   ]
  },
  {
   "cell_type": "code",
   "execution_count": 37,
   "id": "9bdec3d4-553a-4b70-a4ac-ca2823013317",
   "metadata": {},
   "outputs": [],
   "source": [
    "abundance_emof_df['measurementType'] = \"Abundance of biological entity specified elsewhere per unit volume of the water body\"\n",
    "abundance_emof_df['measurementTypeID'] = \"http://vocab.nerc.ac.uk/collection/P01/current/SDBIOL01/\"\n",
    "abundance_emof_df['measurementUnit'] = \"Number per cubic metre\"\n",
    "abundance_emof_df['measurementUnitID'] = \"http://vocab.nerc.ac.uk/collection/P06/current/UPMM\"\n",
    "\n",
    "abundance_emof_df.rename(columns={'density':'measurementValue'}, inplace=True)"
   ]
  },
  {
   "cell_type": "markdown",
   "id": "9d9f781f-5c84-4a64-a3b1-17ced2aed81a",
   "metadata": {},
   "source": [
    "Populate (append to) the `emof_df` table with the emof records."
   ]
  },
  {
   "cell_type": "code",
   "execution_count": 38,
   "id": "51dfcd81-b30b-41a5-8e73-ef1d4baa14bb",
   "metadata": {},
   "outputs": [],
   "source": [
    "emof_df = pd.concat(\n",
    "    [\n",
    "        emof_df,\n",
    "        abundance_emof_df[[\n",
    "            'eventID', 'occurrenceID',\n",
    "            # 'life_history_stage', 'verbatimIdentification', # --- temporary, for validation\n",
    "            'measurementType', 'measurementTypeID', 'measurementValue', \n",
    "            'measurementUnit', 'measurementUnitID'\n",
    "        ]]\n",
    "    ],\n",
    "    ignore_index=True\n",
    ")"
   ]
  },
  {
   "cell_type": "code",
   "execution_count": 39,
   "id": "ad45fb21-5bfa-426a-8f87-709db99201e7",
   "metadata": {},
   "outputs": [
    {
     "data": {
      "text/plain": [
       "7667"
      ]
     },
     "execution_count": 39,
     "metadata": {},
     "output_type": "execute_result"
    }
   ],
   "source": [
    "len(emof_df)"
   ]
  },
  {
   "cell_type": "code",
   "execution_count": 40,
   "id": "a78cd501-fe5a-43fa-b762-ce4c2f68857e",
   "metadata": {},
   "outputs": [
    {
     "data": {
      "text/html": [
       "<div>\n",
       "<style scoped>\n",
       "    .dataframe tbody tr th:only-of-type {\n",
       "        vertical-align: middle;\n",
       "    }\n",
       "\n",
       "    .dataframe tbody tr th {\n",
       "        vertical-align: top;\n",
       "    }\n",
       "\n",
       "    .dataframe thead th {\n",
       "        text-align: right;\n",
       "    }\n",
       "</style>\n",
       "<table border=\"1\" class=\"dataframe\">\n",
       "  <thead>\n",
       "    <tr style=\"text-align: right;\">\n",
       "      <th></th>\n",
       "      <th>eventID</th>\n",
       "      <th>occurrenceID</th>\n",
       "      <th>measurementType</th>\n",
       "      <th>measurementTypeID</th>\n",
       "      <th>measurementValue</th>\n",
       "      <th>measurementValueID</th>\n",
       "      <th>measurementUnit</th>\n",
       "      <th>measurementUnitID</th>\n",
       "    </tr>\n",
       "  </thead>\n",
       "  <tbody>\n",
       "    <tr>\n",
       "      <th>7657</th>\n",
       "      <td>20131003DBNm4_335</td>\n",
       "      <td>6db48ca3-6aa8-4559-9084-91395c4aa60f</td>\n",
       "      <td>Abundance of biological entity specified elsew...</td>\n",
       "      <td>http://vocab.nerc.ac.uk/collection/P01/current...</td>\n",
       "      <td>0.190476</td>\n",
       "      <td>NaN</td>\n",
       "      <td>Number per cubic metre</td>\n",
       "      <td>http://vocab.nerc.ac.uk/collection/P06/current...</td>\n",
       "    </tr>\n",
       "    <tr>\n",
       "      <th>7658</th>\n",
       "      <td>20131003DBNm4_335</td>\n",
       "      <td>722c9cd0-39ca-491e-927f-0e6e079167e8</td>\n",
       "      <td>Abundance of biological entity specified elsew...</td>\n",
       "      <td>http://vocab.nerc.ac.uk/collection/P01/current...</td>\n",
       "      <td>0.190476</td>\n",
       "      <td>NaN</td>\n",
       "      <td>Number per cubic metre</td>\n",
       "      <td>http://vocab.nerc.ac.uk/collection/P06/current...</td>\n",
       "    </tr>\n",
       "    <tr>\n",
       "      <th>7659</th>\n",
       "      <td>20131003DBNm4_335</td>\n",
       "      <td>92924515-b22c-4b12-9477-bf06d0f69f93</td>\n",
       "      <td>Abundance of biological entity specified elsew...</td>\n",
       "      <td>http://vocab.nerc.ac.uk/collection/P01/current...</td>\n",
       "      <td>0.190476</td>\n",
       "      <td>NaN</td>\n",
       "      <td>Number per cubic metre</td>\n",
       "      <td>http://vocab.nerc.ac.uk/collection/P06/current...</td>\n",
       "    </tr>\n",
       "    <tr>\n",
       "      <th>7660</th>\n",
       "      <td>20131003DBNm4_335</td>\n",
       "      <td>891777e0-914e-4f2d-836b-8a8f0a7c8d3c</td>\n",
       "      <td>Abundance of biological entity specified elsew...</td>\n",
       "      <td>http://vocab.nerc.ac.uk/collection/P01/current...</td>\n",
       "      <td>0.190476</td>\n",
       "      <td>NaN</td>\n",
       "      <td>Number per cubic metre</td>\n",
       "      <td>http://vocab.nerc.ac.uk/collection/P06/current...</td>\n",
       "    </tr>\n",
       "    <tr>\n",
       "      <th>7661</th>\n",
       "      <td>20131003DBNm4_335</td>\n",
       "      <td>2d7893a0-0a1f-469e-a69f-e6bb8abfd991</td>\n",
       "      <td>Abundance of biological entity specified elsew...</td>\n",
       "      <td>http://vocab.nerc.ac.uk/collection/P01/current...</td>\n",
       "      <td>2.095238</td>\n",
       "      <td>NaN</td>\n",
       "      <td>Number per cubic metre</td>\n",
       "      <td>http://vocab.nerc.ac.uk/collection/P06/current...</td>\n",
       "    </tr>\n",
       "    <tr>\n",
       "      <th>7662</th>\n",
       "      <td>20131003DBNm4_335</td>\n",
       "      <td>01cbc051-6ac0-4a5c-99d3-d8ab229feae2</td>\n",
       "      <td>Abundance of biological entity specified elsew...</td>\n",
       "      <td>http://vocab.nerc.ac.uk/collection/P01/current...</td>\n",
       "      <td>0.380952</td>\n",
       "      <td>NaN</td>\n",
       "      <td>Number per cubic metre</td>\n",
       "      <td>http://vocab.nerc.ac.uk/collection/P06/current...</td>\n",
       "    </tr>\n",
       "    <tr>\n",
       "      <th>7663</th>\n",
       "      <td>20131003DBNm4_335</td>\n",
       "      <td>30bfbffc-44d5-4ba0-9d47-8c6eca8ac909</td>\n",
       "      <td>Abundance of biological entity specified elsew...</td>\n",
       "      <td>http://vocab.nerc.ac.uk/collection/P01/current...</td>\n",
       "      <td>4.190476</td>\n",
       "      <td>NaN</td>\n",
       "      <td>Number per cubic metre</td>\n",
       "      <td>http://vocab.nerc.ac.uk/collection/P06/current...</td>\n",
       "    </tr>\n",
       "    <tr>\n",
       "      <th>7664</th>\n",
       "      <td>20131003DBNm4_335</td>\n",
       "      <td>6d381a52-daf2-42ee-9abe-e9a611a39c7c</td>\n",
       "      <td>Abundance of biological entity specified elsew...</td>\n",
       "      <td>http://vocab.nerc.ac.uk/collection/P01/current...</td>\n",
       "      <td>4.952381</td>\n",
       "      <td>NaN</td>\n",
       "      <td>Number per cubic metre</td>\n",
       "      <td>http://vocab.nerc.ac.uk/collection/P06/current...</td>\n",
       "    </tr>\n",
       "    <tr>\n",
       "      <th>7665</th>\n",
       "      <td>20131003DBNm4_335</td>\n",
       "      <td>7c3352e0-045b-4ebc-a8ca-eac5db1115a9</td>\n",
       "      <td>Abundance of biological entity specified elsew...</td>\n",
       "      <td>http://vocab.nerc.ac.uk/collection/P01/current...</td>\n",
       "      <td>1.904762</td>\n",
       "      <td>NaN</td>\n",
       "      <td>Number per cubic metre</td>\n",
       "      <td>http://vocab.nerc.ac.uk/collection/P06/current...</td>\n",
       "    </tr>\n",
       "    <tr>\n",
       "      <th>7666</th>\n",
       "      <td>20131003DBNm4_335</td>\n",
       "      <td>e38f37ae-2997-4ca2-8ed8-f48c0947c6f0</td>\n",
       "      <td>Abundance of biological entity specified elsew...</td>\n",
       "      <td>http://vocab.nerc.ac.uk/collection/P01/current...</td>\n",
       "      <td>0.190476</td>\n",
       "      <td>NaN</td>\n",
       "      <td>Number per cubic metre</td>\n",
       "      <td>http://vocab.nerc.ac.uk/collection/P06/current...</td>\n",
       "    </tr>\n",
       "  </tbody>\n",
       "</table>\n",
       "</div>"
      ],
      "text/plain": [
       "                eventID                          occurrenceID  \\\n",
       "7657  20131003DBNm4_335  6db48ca3-6aa8-4559-9084-91395c4aa60f   \n",
       "7658  20131003DBNm4_335  722c9cd0-39ca-491e-927f-0e6e079167e8   \n",
       "7659  20131003DBNm4_335  92924515-b22c-4b12-9477-bf06d0f69f93   \n",
       "7660  20131003DBNm4_335  891777e0-914e-4f2d-836b-8a8f0a7c8d3c   \n",
       "7661  20131003DBNm4_335  2d7893a0-0a1f-469e-a69f-e6bb8abfd991   \n",
       "7662  20131003DBNm4_335  01cbc051-6ac0-4a5c-99d3-d8ab229feae2   \n",
       "7663  20131003DBNm4_335  30bfbffc-44d5-4ba0-9d47-8c6eca8ac909   \n",
       "7664  20131003DBNm4_335  6d381a52-daf2-42ee-9abe-e9a611a39c7c   \n",
       "7665  20131003DBNm4_335  7c3352e0-045b-4ebc-a8ca-eac5db1115a9   \n",
       "7666  20131003DBNm4_335  e38f37ae-2997-4ca2-8ed8-f48c0947c6f0   \n",
       "\n",
       "                                        measurementType  \\\n",
       "7657  Abundance of biological entity specified elsew...   \n",
       "7658  Abundance of biological entity specified elsew...   \n",
       "7659  Abundance of biological entity specified elsew...   \n",
       "7660  Abundance of biological entity specified elsew...   \n",
       "7661  Abundance of biological entity specified elsew...   \n",
       "7662  Abundance of biological entity specified elsew...   \n",
       "7663  Abundance of biological entity specified elsew...   \n",
       "7664  Abundance of biological entity specified elsew...   \n",
       "7665  Abundance of biological entity specified elsew...   \n",
       "7666  Abundance of biological entity specified elsew...   \n",
       "\n",
       "                                      measurementTypeID measurementValue  \\\n",
       "7657  http://vocab.nerc.ac.uk/collection/P01/current...         0.190476   \n",
       "7658  http://vocab.nerc.ac.uk/collection/P01/current...         0.190476   \n",
       "7659  http://vocab.nerc.ac.uk/collection/P01/current...         0.190476   \n",
       "7660  http://vocab.nerc.ac.uk/collection/P01/current...         0.190476   \n",
       "7661  http://vocab.nerc.ac.uk/collection/P01/current...         2.095238   \n",
       "7662  http://vocab.nerc.ac.uk/collection/P01/current...         0.380952   \n",
       "7663  http://vocab.nerc.ac.uk/collection/P01/current...         4.190476   \n",
       "7664  http://vocab.nerc.ac.uk/collection/P01/current...         4.952381   \n",
       "7665  http://vocab.nerc.ac.uk/collection/P01/current...         1.904762   \n",
       "7666  http://vocab.nerc.ac.uk/collection/P01/current...         0.190476   \n",
       "\n",
       "     measurementValueID         measurementUnit  \\\n",
       "7657                NaN  Number per cubic metre   \n",
       "7658                NaN  Number per cubic metre   \n",
       "7659                NaN  Number per cubic metre   \n",
       "7660                NaN  Number per cubic metre   \n",
       "7661                NaN  Number per cubic metre   \n",
       "7662                NaN  Number per cubic metre   \n",
       "7663                NaN  Number per cubic metre   \n",
       "7664                NaN  Number per cubic metre   \n",
       "7665                NaN  Number per cubic metre   \n",
       "7666                NaN  Number per cubic metre   \n",
       "\n",
       "                                      measurementUnitID  \n",
       "7657  http://vocab.nerc.ac.uk/collection/P06/current...  \n",
       "7658  http://vocab.nerc.ac.uk/collection/P06/current...  \n",
       "7659  http://vocab.nerc.ac.uk/collection/P06/current...  \n",
       "7660  http://vocab.nerc.ac.uk/collection/P06/current...  \n",
       "7661  http://vocab.nerc.ac.uk/collection/P06/current...  \n",
       "7662  http://vocab.nerc.ac.uk/collection/P06/current...  \n",
       "7663  http://vocab.nerc.ac.uk/collection/P06/current...  \n",
       "7664  http://vocab.nerc.ac.uk/collection/P06/current...  \n",
       "7665  http://vocab.nerc.ac.uk/collection/P06/current...  \n",
       "7666  http://vocab.nerc.ac.uk/collection/P06/current...  "
      ]
     },
     "execution_count": 40,
     "metadata": {},
     "output_type": "execute_result"
    }
   ],
   "source": [
    "emof_df.tail(10)"
   ]
  },
  {
   "cell_type": "markdown",
   "id": "8b375f70-6590-4392-a786-73c06eeb60ce",
   "metadata": {},
   "source": [
    "## Export `emof_df` to csv"
   ]
  },
  {
   "cell_type": "code",
   "execution_count": 41,
   "id": "70674193-4e84-4b23-bd53-c80e926e2463",
   "metadata": {},
   "outputs": [
    {
     "data": {
      "text/plain": [
       "Abundance of biological entity specified elsewhere per unit volume of the water body    6854\n",
       "multinet                                                                                 271\n",
       "Sampling method                                                                          271\n",
       "Sampling net mesh size                                                                   271\n",
       "Name: measurementType, dtype: int64"
      ]
     },
     "execution_count": 41,
     "metadata": {},
     "output_type": "execute_result"
    }
   ],
   "source": [
    "emof_df.measurementType.value_counts()"
   ]
  },
  {
   "cell_type": "code",
   "execution_count": 42,
   "id": "cda40074-95e7-465b-a81b-e35387d4f715",
   "metadata": {},
   "outputs": [],
   "source": [
    "if not debug_no_csvexport:\n",
    "    emof_df.to_csv(data_pth / 'aligned_csvs' / 'DwC_emof.csv', index=False)"
   ]
  },
  {
   "cell_type": "markdown",
   "id": "2c309aac-9033-4aa9-8864-84b26ea530c6",
   "metadata": {},
   "source": [
    "## Package versions"
   ]
  },
  {
   "cell_type": "code",
   "execution_count": 43,
   "id": "a78b77d4-afa6-4103-b940-5ee73846b80b",
   "metadata": {},
   "outputs": [
    {
     "name": "stdout",
     "output_type": "stream",
     "text": [
      "2023-11-01 04:06:08.661759 +00:00\n",
      "pandas: 1.5.3\n"
     ]
    }
   ],
   "source": [
    "print(\n",
    "    f\"{datetime.utcnow()} +00:00\\n\"\n",
    "    f\"pandas: {pd.__version__}\"\n",
    ")"
   ]
  }
 ],
 "metadata": {
  "kernelspec": {
   "display_name": "Python [conda env:nanoos_bio]",
   "language": "python",
   "name": "conda-env-nanoos_bio-py"
  },
  "language_info": {
   "codemirror_mode": {
    "name": "ipython",
    "version": 3
   },
   "file_extension": ".py",
   "mimetype": "text/x-python",
   "name": "python",
   "nbconvert_exporter": "python",
   "pygments_lexer": "ipython3",
   "version": "3.9.16"
  }
 },
 "nbformat": 4,
 "nbformat_minor": 5
}
