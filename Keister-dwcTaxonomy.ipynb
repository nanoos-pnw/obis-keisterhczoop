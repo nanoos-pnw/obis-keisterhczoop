{
 "cells": [
  {
   "cell_type": "markdown",
   "id": "3cea07da-ea43-4a06-ae58-7c084934cd85",
   "metadata": {},
   "source": [
    "# DwC Taxonomoy Mappings. Keister Zooplankton Hood Canal 2012-13 data\n",
    "\n",
    "University of Washington Pelagic Hypoxia Hood Canal project, Zooplankton dataset.\n",
    "\n",
    "5-3, 4-25, 3-28, 2023. 2022-3-14, 1-12"
   ]
  },
  {
   "cell_type": "markdown",
   "id": "d19146e2-3e22-44ba-add0-4dab4037e28b",
   "metadata": {},
   "source": [
    "**BRIEFLY DESCRIBE WHAT THIS NOTEBOOK DOES**"
   ]
  },
  {
   "cell_type": "code",
   "execution_count": 1,
   "id": "9b77a976-0f57-4a5e-b3e9-86183c8ec23a",
   "metadata": {},
   "outputs": [],
   "source": [
    "from datetime import datetime\n",
    "from pathlib import Path\n",
    "\n",
    "import numpy as np\n",
    "import pandas as pd\n",
    "import pyworms\n",
    "\n",
    "from data_preprocess import read_and_parse_sourcedata"
   ]
  },
  {
   "cell_type": "markdown",
   "id": "3b124244-437b-481e-b96a-1dee1394f0a6",
   "metadata": {},
   "source": [
    "## Settings"
   ]
  },
  {
   "cell_type": "markdown",
   "id": "edfe4a58-3365-43e6-9bc9-2aa92f3afd9a",
   "metadata": {},
   "source": [
    "Set to `True` when debugging. `csv` ﬁles will not be exported when `debug_no_csvexport = True`"
   ]
  },
  {
   "cell_type": "code",
   "execution_count": 2,
   "id": "331ff934-de31-43ee-954a-85b94c0a64dd",
   "metadata": {},
   "outputs": [],
   "source": [
    "debug_no_csvexport = False"
   ]
  },
  {
   "cell_type": "markdown",
   "id": "6f4b0667-0680-4fec-ab94-21c51b280138",
   "metadata": {},
   "source": [
    "## Read the data"
   ]
  },
  {
   "cell_type": "code",
   "execution_count": 3,
   "id": "7d705db8-333b-4462-8683-5bd29b4f9217",
   "metadata": {},
   "outputs": [],
   "source": [
    "data_pth = Path(\".\")"
   ]
  },
  {
   "cell_type": "markdown",
   "id": "1ae1a50d-a1d9-42c3-92ca-5d5eb71eaa04",
   "metadata": {},
   "source": [
    "## Pre-process data from csv for Taxonomy table"
   ]
  },
  {
   "cell_type": "markdown",
   "id": "72670871-ef72-4d7a-9f86-90709c8029b9",
   "metadata": {
    "tags": []
   },
   "source": [
    "### Read the pre-processed csv file"
   ]
  },
  {
   "cell_type": "markdown",
   "id": "c0a251f8-1a64-44c7-8e26-6a6e6ce6dfc0",
   "metadata": {},
   "source": [
    "`usecols` defines the columns that will be kept and the order in which they'll be organized"
   ]
  },
  {
   "cell_type": "code",
   "execution_count": 4,
   "id": "23e87eb5-03f9-45ef-aa0a-34e413b9f2c7",
   "metadata": {},
   "outputs": [],
   "source": [
    "usecols = ['sample_code', 'species']\n",
    "taxonsource_df = read_and_parse_sourcedata()[usecols]"
   ]
  },
  {
   "cell_type": "code",
   "execution_count": 5,
   "id": "c6e7a9a7-0838-4d17-8b6b-a371f71bca8c",
   "metadata": {},
   "outputs": [
    {
     "data": {
      "text/plain": [
       "6884"
      ]
     },
     "execution_count": 5,
     "metadata": {},
     "output_type": "execute_result"
    }
   ],
   "source": [
    "len(taxonsource_df)"
   ]
  },
  {
   "cell_type": "code",
   "execution_count": 6,
   "id": "c92fd729-9a28-4454-a67b-faa3ae1484ac",
   "metadata": {},
   "outputs": [
    {
     "data": {
      "text/html": [
       "<div>\n",
       "<style scoped>\n",
       "    .dataframe tbody tr th:only-of-type {\n",
       "        vertical-align: middle;\n",
       "    }\n",
       "\n",
       "    .dataframe tbody tr th {\n",
       "        vertical-align: top;\n",
       "    }\n",
       "\n",
       "    .dataframe thead th {\n",
       "        text-align: right;\n",
       "    }\n",
       "</style>\n",
       "<table border=\"1\" class=\"dataframe\">\n",
       "  <thead>\n",
       "    <tr style=\"text-align: right;\">\n",
       "      <th></th>\n",
       "      <th>sample_code</th>\n",
       "      <th>species</th>\n",
       "    </tr>\n",
       "  </thead>\n",
       "  <tbody>\n",
       "    <tr>\n",
       "      <th>0</th>\n",
       "      <td>20131003DBDm2_200</td>\n",
       "      <td>ACARTIA</td>\n",
       "    </tr>\n",
       "    <tr>\n",
       "      <th>1</th>\n",
       "      <td>20130906DBiDm1_200</td>\n",
       "      <td>ACARTIA</td>\n",
       "    </tr>\n",
       "    <tr>\n",
       "      <th>2</th>\n",
       "      <td>20131003DBDm1_200</td>\n",
       "      <td>ACARTIA</td>\n",
       "    </tr>\n",
       "    <tr>\n",
       "      <th>3</th>\n",
       "      <td>20131003DBDm1_200</td>\n",
       "      <td>ACARTIA</td>\n",
       "    </tr>\n",
       "    <tr>\n",
       "      <th>4</th>\n",
       "      <td>20120614DBDm3_200</td>\n",
       "      <td>ACARTIA_CLAUSI</td>\n",
       "    </tr>\n",
       "  </tbody>\n",
       "</table>\n",
       "</div>"
      ],
      "text/plain": [
       "          sample_code         species\n",
       "0   20131003DBDm2_200         ACARTIA\n",
       "1  20130906DBiDm1_200         ACARTIA\n",
       "2   20131003DBDm1_200         ACARTIA\n",
       "3   20131003DBDm1_200         ACARTIA\n",
       "4   20120614DBDm3_200  ACARTIA_CLAUSI"
      ]
     },
     "execution_count": 6,
     "metadata": {},
     "output_type": "execute_result"
    }
   ],
   "source": [
    "taxonsource_df.head()"
   ]
  },
  {
   "cell_type": "markdown",
   "id": "81d8f505-35f7-4a9e-bad8-6812e666f6fb",
   "metadata": {},
   "source": [
    "## Perform taxon matching with pyworms"
   ]
  },
  {
   "cell_type": "markdown",
   "id": "1b0ea49e-1871-4263-a7e5-88e87458caa2",
   "metadata": {},
   "source": [
    "Next, we perform a taxonomic lookup using the library [pyworms](https://pyworms.readthedocs.io/en/latest/). Using the function `pyworms.aphiaRecordsByMatchNames()` to collect the information and populate the look up table."
   ]
  },
  {
   "cell_type": "code",
   "execution_count": 7,
   "id": "efb40156-c262-497d-a62d-733088929a77",
   "metadata": {},
   "outputs": [
    {
     "data": {
      "text/plain": [
       "EUPHAUSIA_PACIFICA      647\n",
       "CALANUS_PACIFICUS       603\n",
       "PARACALANUS_PARVUS      561\n",
       "METRIDIA_PACIFICA       450\n",
       "PSEUDOCALANUS           404\n",
       "                       ... \n",
       "NEOCALANUS_PLUMCHRUS      1\n",
       "PINNOTHERIDAE             1\n",
       "OPHIUROIDEA               1\n",
       "FRITILLARIA               1\n",
       "TANAIDACEA                1\n",
       "Name: species, Length: 137, dtype: int64"
      ]
     },
     "execution_count": 7,
     "metadata": {},
     "output_type": "execute_result"
    }
   ],
   "source": [
    "species_valuecnt = taxonsource_df.species.value_counts()\n",
    "species_valuecnt"
   ]
  },
  {
   "cell_type": "markdown",
   "id": "714904af-466b-429a-b7d3-447df8beb523",
   "metadata": {},
   "source": [
    "`species_list` will be a sorted list"
   ]
  },
  {
   "cell_type": "code",
   "execution_count": 8,
   "id": "eef8f193-ff4e-4a79-8b12-0b0d232cfb76",
   "metadata": {},
   "outputs": [],
   "source": [
    "species_list = sorted(list(taxonsource_df.species.unique()))"
   ]
  },
  {
   "cell_type": "code",
   "execution_count": 9,
   "id": "e397bf17-3a46-4355-a4b9-971e05f8d935",
   "metadata": {},
   "outputs": [
    {
     "name": "stdout",
     "output_type": "stream",
     "text": [
      "CPU times: user 119 ms, sys: 1.41 ms, total: 121 ms\n",
      "Wall time: 22.7 s\n"
     ]
    }
   ],
   "source": [
    "%%time\n",
    "resp = pyworms.aphiaRecordsByMatchNames(\n",
    "    [s.replace('_', ' ') for s in species_list]\n",
    ")"
   ]
  },
  {
   "cell_type": "code",
   "execution_count": 10,
   "id": "326a8321-0755-42ce-93e4-906f8c23417d",
   "metadata": {},
   "outputs": [
    {
     "data": {
      "text/plain": [
       "137"
      ]
     },
     "execution_count": 10,
     "metadata": {},
     "output_type": "execute_result"
    }
   ],
   "source": [
    "len(resp)"
   ]
  },
  {
   "cell_type": "code",
   "execution_count": 11,
   "id": "b08eec28-156a-4a4b-89b5-e4ce7c39c416",
   "metadata": {},
   "outputs": [
    {
     "data": {
      "text/plain": [
       "{'AphiaID': 104251,\n",
       " 'url': 'https://www.marinespecies.org/aphia.php?p=taxdetails&id=104251',\n",
       " 'scientificname': 'Acartia clausi',\n",
       " 'authority': 'Giesbrecht, 1889',\n",
       " 'status': 'alternate representation',\n",
       " 'unacceptreason': None,\n",
       " 'taxonRankID': 220,\n",
       " 'rank': 'Species',\n",
       " 'valid_AphiaID': 149755,\n",
       " 'valid_name': 'Acartia (Acartiura) clausi',\n",
       " 'valid_authority': 'Giesbrecht, 1889',\n",
       " 'parentNameUsageID': 104108,\n",
       " 'kingdom': 'Animalia',\n",
       " 'phylum': 'Arthropoda',\n",
       " 'class': 'Copepoda',\n",
       " 'order': 'Calanoida',\n",
       " 'family': 'Acartiidae',\n",
       " 'genus': 'Acartia',\n",
       " 'citation': 'Walter, T.C.; Boxshall, G. (2023). World of Copepods Database. Acartia clausi Giesbrecht, 1889. Accessed through: World Register of Marine Species at: https://www.marinespecies.org/aphia.php?p=taxdetails&id=104251 on 2023-05-04',\n",
       " 'lsid': 'urn:lsid:marinespecies.org:taxname:104251',\n",
       " 'isMarine': 1,\n",
       " 'isBrackish': 0,\n",
       " 'isFreshwater': 0,\n",
       " 'isTerrestrial': 0,\n",
       " 'isExtinct': None,\n",
       " 'match_type': 'exact',\n",
       " 'modified': '2020-05-28T16:04:57.163Z'}"
      ]
     },
     "execution_count": 11,
     "metadata": {},
     "output_type": "execute_result"
    }
   ],
   "source": [
    "resp[1][0]"
   ]
  },
  {
   "cell_type": "markdown",
   "id": "b32ed74b-f981-4479-ab51-4bcedfb7064b",
   "metadata": {},
   "source": [
    "Create dictionary of successfuly matches by `AphiaID`, to pull out information conveniently"
   ]
  },
  {
   "cell_type": "code",
   "execution_count": 12,
   "id": "33f74272-24de-4270-8afd-af1005acaffa",
   "metadata": {},
   "outputs": [
    {
     "data": {
      "text/plain": [
       "124"
      ]
     },
     "execution_count": 12,
     "metadata": {},
     "output_type": "execute_result"
    }
   ],
   "source": [
    "resp_matched_byaphiaid = {r[0]['AphiaID']:r[0] for r in resp if len(r) > 0}\n",
    "len(resp_matched_byaphiaid)"
   ]
  },
  {
   "cell_type": "markdown",
   "id": "00b498fe-0985-4fd3-9b08-44ecd246be72",
   "metadata": {},
   "source": [
    "13 (137 - 124) of the 137 unique \"species\" names in the original dataset were not matched by `pyworms`"
   ]
  },
  {
   "cell_type": "markdown",
   "id": "374237f4-02d9-4cfb-80aa-4d2431f1f6aa",
   "metadata": {},
   "source": [
    "Create simple dictionary of `species` (original dataset species name) vs `AphiaID`"
   ]
  },
  {
   "cell_type": "code",
   "execution_count": 13,
   "id": "96ef1161-cfef-497f-ad28-eaf861dc3a5c",
   "metadata": {},
   "outputs": [],
   "source": [
    "species_worms_all = {}\n",
    "for spec,r in zip(species_list, resp):\n",
    "    aphiaID = r[0]['AphiaID'] if len(r) > 0 else None\n",
    "    species_worms_all[spec] = aphiaID"
   ]
  },
  {
   "cell_type": "markdown",
   "id": "eadda705-6c44-4093-8aee-342ad2e95ffd",
   "metadata": {},
   "source": [
    "Print a few of the *successful* matches, with corresponding `AphiaID`, followed by an example of the use of `resp_matched_byaphiaid` to bring in all the taxonomic information returned by `pyworms` (eg, for species name, 'CANCER_GRACILIS' > 'Metacarcinus gracilis')"
   ]
  },
  {
   "cell_type": "code",
   "execution_count": 14,
   "id": "ebae63c9-210f-4df0-9daf-bc8f30d43ef7",
   "metadata": {},
   "outputs": [
    {
     "name": "stdout",
     "output_type": "stream",
     "text": [
      "ACARTIA: 104108\n",
      "ACARTIA_CLAUSI: 104251\n",
      "ACARTIA_LONGIREMIS: 104257\n",
      "AEQUOREA: 116998\n",
      "AETIDEIDAE: 104075\n",
      "AETIDEUS: 104112\n",
      "AETIDEUS_ARMATUS: 104275\n",
      "AETIDEUS_PACIFICUS: 254648\n",
      "AETIDEUS_divergens: 346076\n",
      "AGLANTHA: 117212\n"
     ]
    }
   ],
   "source": [
    "for k,v in list(species_worms_all.items())[:10]:\n",
    "    print(f\"{k}: {v}\")"
   ]
  },
  {
   "cell_type": "code",
   "execution_count": 15,
   "id": "1edb1123-b34f-414e-b439-d0152743fe04",
   "metadata": {},
   "outputs": [
    {
     "data": {
      "text/plain": [
       "{'AphiaID': 104257,\n",
       " 'url': 'https://www.marinespecies.org/aphia.php?p=taxdetails&id=104257',\n",
       " 'scientificname': 'Acartia longiremis',\n",
       " 'authority': '(Lilljeborg, 1853)',\n",
       " 'status': 'alternate representation',\n",
       " 'unacceptreason': None,\n",
       " 'taxonRankID': 220,\n",
       " 'rank': 'Species',\n",
       " 'valid_AphiaID': 346037,\n",
       " 'valid_name': 'Acartia (Acartiura) longiremis',\n",
       " 'valid_authority': '(Lilljeborg, 1853)',\n",
       " 'parentNameUsageID': 104108,\n",
       " 'kingdom': 'Animalia',\n",
       " 'phylum': 'Arthropoda',\n",
       " 'class': 'Copepoda',\n",
       " 'order': 'Calanoida',\n",
       " 'family': 'Acartiidae',\n",
       " 'genus': 'Acartia',\n",
       " 'citation': 'Walter, T.C.; Boxshall, G. (2023). World of Copepods Database. Acartia longiremis (Lilljeborg, 1853). Accessed through: World Register of Marine Species at: https://www.marinespecies.org/aphia.php?p=taxdetails&id=104257 on 2023-05-04',\n",
       " 'lsid': 'urn:lsid:marinespecies.org:taxname:104257',\n",
       " 'isMarine': 1,\n",
       " 'isBrackish': 0,\n",
       " 'isFreshwater': 0,\n",
       " 'isTerrestrial': 0,\n",
       " 'isExtinct': None,\n",
       " 'match_type': 'exact',\n",
       " 'modified': '2008-06-27T08:45:14.087Z'}"
      ]
     },
     "execution_count": 15,
     "metadata": {},
     "output_type": "execute_result"
    }
   ],
   "source": [
    "resp_matched_byaphiaid[species_worms_all['ACARTIA_LONGIREMIS']]"
   ]
  },
  {
   "cell_type": "markdown",
   "id": "96a02048-1e1b-4797-9026-bf8244a0f391",
   "metadata": {},
   "source": [
    "In the future, could try to identify cases where `valid_AphiaID != AphiaID`, select `valid_AphiaID`, reissue a query based on those aphia ID's, then use those results instead of the original results."
   ]
  },
  {
   "cell_type": "markdown",
   "id": "2aedb629-1a19-419e-950e-c0efad1a4f05",
   "metadata": {},
   "source": [
    "## Replace unmatched species with the known matched taxon"
   ]
  },
  {
   "cell_type": "code",
   "execution_count": 16,
   "id": "796c4960-c216-4986-871e-19466b4b283f",
   "metadata": {},
   "outputs": [],
   "source": [
    "species_worms_no_match = [\n",
    "    (k,species_valuecnt[k]) for k,v in species_worms_all.items()\n",
    "    if v is None\n",
    "]"
   ]
  },
  {
   "cell_type": "markdown",
   "id": "06ab5240-ddb1-4299-bd31-d98b729c5c18",
   "metadata": {},
   "source": [
    "Entries not matched by `pyworms`, followed by their occurrence count"
   ]
  },
  {
   "cell_type": "code",
   "execution_count": 17,
   "id": "bd90d51b-3208-408c-9c66-3cd8d737ea70",
   "metadata": {},
   "outputs": [
    {
     "data": {
      "text/plain": [
       "[('BARNACLES', 116),\n",
       " ('BRYOZOAN', 80),\n",
       " ('CANCER_ANTENNARIUS', 2),\n",
       " ('CRABS', 11),\n",
       " ('FISH', 45),\n",
       " ('JELLYFISHES', 9),\n",
       " ('MITES', 1),\n",
       " ('PLAINFIN_MIDSHIPMAN', 1),\n",
       " ('PORCELAIN_CRABS', 1),\n",
       " ('SHRIMP', 100),\n",
       " ('UNKNOWN_EGG_JK', 13),\n",
       " ('WORM', 3),\n",
       " ('monstrilloid', 2)]"
      ]
     },
     "execution_count": 17,
     "metadata": {},
     "output_type": "execute_result"
    }
   ],
   "source": [
    "species_worms_no_match"
   ]
  },
  {
   "cell_type": "markdown",
   "id": "605dbe45-686c-4cd1-b946-37dc92f80b73",
   "metadata": {},
   "source": [
    "**Several of these have matches to different taxonomic databases other than WoRMS when using the [Global Names Resolver](http://resolver.globalnames.org/api).** Others can be identified with a bit of digging, to varying degrees of taxonomic resolution/rank (eg, BRYOZOAN, PLAINFIN_MIDSHIPMAN, PORCELAIN_CRABS, monstrilloid). Used these resources to find matching scientific names."
   ]
  },
  {
   "cell_type": "markdown",
   "id": "bbf0d830-8f58-46a7-833b-be95ebc74b01",
   "metadata": {},
   "source": [
    "**We'll use the following \"manual\" matches. Only 3 matches will not be attempted: 'MITES', 'UNKNOWN_EGG_JK', 'WORM'**"
   ]
  },
  {
   "cell_type": "code",
   "execution_count": 18,
   "id": "4c919d24-dabb-4416-80c4-7d2bd0a38963",
   "metadata": {},
   "outputs": [],
   "source": [
    "species_replacements = {\n",
    "    'BARNACLES': 'Cirripedia',\n",
    "    'BRYOZOAN': 'Bryozoa',\n",
    "    'CANCER_ANTENNARIUS': 'Romaleon antennarium',\n",
    "    'PLAINFIN_MIDSHIPMAN': 'Porichthys notatus',\n",
    "    'PORCELAIN_CRABS': 'Porcellanidae',\n",
    "    'monstrilloid': 'Monstrillidae',\n",
    "    'CRABS': 'Brachyura',\n",
    "    'FISH': 'Actinopterygii',\n",
    "    'JELLYFISHES': 'Cnidaria',\n",
    "    'SHRIMP': 'Dendrobranchiata',\n",
    "}\n",
    "\n",
    "species_replacements_rev = {v:k for k,v in species_replacements.items()}"
   ]
  },
  {
   "cell_type": "markdown",
   "id": "11d9099f-a103-44de-868f-4c7b02ca8c25",
   "metadata": {},
   "source": [
    "Taxa that will remain unmatched, unprocessed:"
   ]
  },
  {
   "cell_type": "code",
   "execution_count": 19,
   "id": "47216c5f-272f-40fc-a9dc-1a2c3688f9de",
   "metadata": {},
   "outputs": [
    {
     "data": {
      "text/plain": [
       "{'MITES', 'UNKNOWN_EGG_JK', 'WORM'}"
      ]
     },
     "execution_count": 19,
     "metadata": {},
     "output_type": "execute_result"
    }
   ],
   "source": [
    "{spec[0] for spec in species_worms_no_match} - species_replacements.keys()"
   ]
  },
  {
   "cell_type": "code",
   "execution_count": 20,
   "id": "52786fa4-cb84-4335-95ce-863bf6ef1dee",
   "metadata": {},
   "outputs": [],
   "source": [
    "species_list2 = species_replacements.values()"
   ]
  },
  {
   "cell_type": "code",
   "execution_count": 21,
   "id": "9d0bb476-0b87-4169-b18c-0cf5fcf6bd36",
   "metadata": {},
   "outputs": [],
   "source": [
    "resp2 = pyworms.aphiaRecordsByMatchNames(\n",
    "    [s.replace('_', ' ') for s in species_list2]\n",
    ")"
   ]
  },
  {
   "cell_type": "code",
   "execution_count": 22,
   "id": "ccbd8faf-87aa-41ec-b168-8be1c73465cd",
   "metadata": {},
   "outputs": [
    {
     "data": {
      "text/plain": [
       "10"
      ]
     },
     "execution_count": 22,
     "metadata": {},
     "output_type": "execute_result"
    }
   ],
   "source": [
    "resp_matched_byaphiaid2 = {r[0]['AphiaID']:r[0] for r in resp2 if len(r) > 0}\n",
    "len(resp_matched_byaphiaid2)"
   ]
  },
  {
   "cell_type": "code",
   "execution_count": 23,
   "id": "190b6a69-2030-4902-ad48-ec823424f9fd",
   "metadata": {},
   "outputs": [],
   "source": [
    "species_worms_2 = {}\n",
    "for spec,r in zip(species_list2, resp2):\n",
    "    aphiaID = r[0]['AphiaID'] if len(r) > 0 else None\n",
    "    species_worms_2[species_replacements_rev[spec]] = aphiaID"
   ]
  },
  {
   "cell_type": "markdown",
   "id": "e1bcc050-a097-4ac1-a197-aebeffc815b3",
   "metadata": {},
   "source": [
    "## Final taxon look-up table\n",
    "\n",
    "`aphiaid` will be `None` if there was no match."
   ]
  },
  {
   "cell_type": "code",
   "execution_count": 24,
   "id": "4984215b-ec41-4748-b887-7e33b33bf65f",
   "metadata": {},
   "outputs": [
    {
     "data": {
      "text/plain": [
       "137"
      ]
     },
     "execution_count": 24,
     "metadata": {},
     "output_type": "execute_result"
    }
   ],
   "source": [
    "species_worms_lut_df = pd.DataFrame.from_dict(species_worms_all, orient='index', columns=['aphiaid'])\n",
    "species_worms_lut_df['species'] = species_worms_lut_df.index\n",
    "\n",
    "len(species_worms_lut_df)"
   ]
  },
  {
   "cell_type": "code",
   "execution_count": 25,
   "id": "a93d1d04-7d00-48b2-b0d8-92eb32dfef17",
   "metadata": {},
   "outputs": [
    {
     "data": {
      "text/html": [
       "<div>\n",
       "<style scoped>\n",
       "    .dataframe tbody tr th:only-of-type {\n",
       "        vertical-align: middle;\n",
       "    }\n",
       "\n",
       "    .dataframe tbody tr th {\n",
       "        vertical-align: top;\n",
       "    }\n",
       "\n",
       "    .dataframe thead th {\n",
       "        text-align: right;\n",
       "    }\n",
       "</style>\n",
       "<table border=\"1\" class=\"dataframe\">\n",
       "  <thead>\n",
       "    <tr style=\"text-align: right;\">\n",
       "      <th></th>\n",
       "      <th>aphiaid</th>\n",
       "      <th>species</th>\n",
       "    </tr>\n",
       "  </thead>\n",
       "  <tbody>\n",
       "    <tr>\n",
       "      <th>ACARTIA</th>\n",
       "      <td>104108.0</td>\n",
       "      <td>ACARTIA</td>\n",
       "    </tr>\n",
       "    <tr>\n",
       "      <th>ACARTIA_CLAUSI</th>\n",
       "      <td>104251.0</td>\n",
       "      <td>ACARTIA_CLAUSI</td>\n",
       "    </tr>\n",
       "    <tr>\n",
       "      <th>ACARTIA_LONGIREMIS</th>\n",
       "      <td>104257.0</td>\n",
       "      <td>ACARTIA_LONGIREMIS</td>\n",
       "    </tr>\n",
       "    <tr>\n",
       "      <th>AEQUOREA</th>\n",
       "      <td>116998.0</td>\n",
       "      <td>AEQUOREA</td>\n",
       "    </tr>\n",
       "    <tr>\n",
       "      <th>AETIDEIDAE</th>\n",
       "      <td>104075.0</td>\n",
       "      <td>AETIDEIDAE</td>\n",
       "    </tr>\n",
       "  </tbody>\n",
       "</table>\n",
       "</div>"
      ],
      "text/plain": [
       "                     aphiaid             species\n",
       "ACARTIA             104108.0             ACARTIA\n",
       "ACARTIA_CLAUSI      104251.0      ACARTIA_CLAUSI\n",
       "ACARTIA_LONGIREMIS  104257.0  ACARTIA_LONGIREMIS\n",
       "AEQUOREA            116998.0            AEQUOREA\n",
       "AETIDEIDAE          104075.0          AETIDEIDAE"
      ]
     },
     "execution_count": 25,
     "metadata": {},
     "output_type": "execute_result"
    }
   ],
   "source": [
    "species_worms_lut_df.head()"
   ]
  },
  {
   "cell_type": "markdown",
   "id": "7d29f5d4-b89e-4712-923c-8065f3c73bd8",
   "metadata": {},
   "source": [
    "`aphiaid` is cast to float because it contains some nulls. Cast them to int after removing null rows."
   ]
  },
  {
   "cell_type": "code",
   "execution_count": 26,
   "id": "bc889958-458f-498b-a423-f834954d888c",
   "metadata": {},
   "outputs": [
    {
     "data": {
      "text/plain": [
       "134"
      ]
     },
     "execution_count": 26,
     "metadata": {},
     "output_type": "execute_result"
    }
   ],
   "source": [
    "sel = species_worms_lut_df['species'].isin(species_worms_2.keys())\n",
    "species_worms_lut_df.loc[sel, 'aphiaid'] = species_worms_lut_df[sel]['species'].apply(\n",
    "    lambda s: species_worms_2[s]\n",
    ")\n",
    "\n",
    "species_worms_lut_df.dropna(axis='rows', inplace=True)\n",
    "species_worms_lut_df['aphiaid'] = species_worms_lut_df.aphiaid.astype(int)\n",
    "\n",
    "len(species_worms_lut_df)"
   ]
  },
  {
   "cell_type": "code",
   "execution_count": 27,
   "id": "0588f350-5bd9-44c0-8c28-43a40ae5146f",
   "metadata": {},
   "outputs": [
    {
     "data": {
      "text/html": [
       "<div>\n",
       "<style scoped>\n",
       "    .dataframe tbody tr th:only-of-type {\n",
       "        vertical-align: middle;\n",
       "    }\n",
       "\n",
       "    .dataframe tbody tr th {\n",
       "        vertical-align: top;\n",
       "    }\n",
       "\n",
       "    .dataframe thead th {\n",
       "        text-align: right;\n",
       "    }\n",
       "</style>\n",
       "<table border=\"1\" class=\"dataframe\">\n",
       "  <thead>\n",
       "    <tr style=\"text-align: right;\">\n",
       "      <th></th>\n",
       "      <th>aphiaid</th>\n",
       "      <th>species</th>\n",
       "    </tr>\n",
       "  </thead>\n",
       "  <tbody>\n",
       "    <tr>\n",
       "      <th>ACARTIA</th>\n",
       "      <td>104108</td>\n",
       "      <td>ACARTIA</td>\n",
       "    </tr>\n",
       "    <tr>\n",
       "      <th>ACARTIA_CLAUSI</th>\n",
       "      <td>104251</td>\n",
       "      <td>ACARTIA_CLAUSI</td>\n",
       "    </tr>\n",
       "    <tr>\n",
       "      <th>ACARTIA_LONGIREMIS</th>\n",
       "      <td>104257</td>\n",
       "      <td>ACARTIA_LONGIREMIS</td>\n",
       "    </tr>\n",
       "    <tr>\n",
       "      <th>AEQUOREA</th>\n",
       "      <td>116998</td>\n",
       "      <td>AEQUOREA</td>\n",
       "    </tr>\n",
       "    <tr>\n",
       "      <th>AETIDEIDAE</th>\n",
       "      <td>104075</td>\n",
       "      <td>AETIDEIDAE</td>\n",
       "    </tr>\n",
       "  </tbody>\n",
       "</table>\n",
       "</div>"
      ],
      "text/plain": [
       "                    aphiaid             species\n",
       "ACARTIA              104108             ACARTIA\n",
       "ACARTIA_CLAUSI       104251      ACARTIA_CLAUSI\n",
       "ACARTIA_LONGIREMIS   104257  ACARTIA_LONGIREMIS\n",
       "AEQUOREA             116998            AEQUOREA\n",
       "AETIDEIDAE           104075          AETIDEIDAE"
      ]
     },
     "execution_count": 27,
     "metadata": {},
     "output_type": "execute_result"
    }
   ],
   "source": [
    "species_worms_lut_df.head()"
   ]
  },
  {
   "cell_type": "code",
   "execution_count": 28,
   "id": "80f8d1f9-816b-4ed4-a78a-4e6a177914f2",
   "metadata": {},
   "outputs": [
    {
     "data": {
      "text/plain": [
       "(124, 10)"
      ]
     },
     "execution_count": 28,
     "metadata": {},
     "output_type": "execute_result"
    }
   ],
   "source": [
    "len(resp_matched_byaphiaid), len(resp_matched_byaphiaid2)"
   ]
  },
  {
   "cell_type": "markdown",
   "id": "a50487b6-821c-4e42-8c42-d7b6870c0985",
   "metadata": {},
   "source": [
    "Based on `len(resp_matched_byaphiaid)`, one entry from `resp_matched_byaphiaid2` is present in `resp_matched_byaphiaid`. It's 'Brachyura' (see below). So, this is the sames as the manual assignment of 'CRABS'."
   ]
  },
  {
   "cell_type": "code",
   "execution_count": 29,
   "id": "ebc2aa42-a068-4129-8d62-9d9a1dd25e47",
   "metadata": {},
   "outputs": [
    {
     "data": {
      "text/plain": [
       "'Brachyura'"
      ]
     },
     "execution_count": 29,
     "metadata": {},
     "output_type": "execute_result"
    }
   ],
   "source": [
    "resp_matched_byaphiaid2[\n",
    "    list(set(resp_matched_byaphiaid.keys()) &  set(resp_matched_byaphiaid2.keys()))[0]\n",
    "]['scientificname']"
   ]
  },
  {
   "cell_type": "markdown",
   "id": "222dfbf2-142e-452b-8a28-56c6e0c6f058",
   "metadata": {},
   "source": [
    "`|=` is an or / assignment operator (https://blog.finxter.com/python-inplace-or-operator-meaning/). `dict_1 |= dict_2` updates the first dictionary `dict_1` with the same merged dictionary elements."
   ]
  },
  {
   "cell_type": "code",
   "execution_count": 30,
   "id": "6ab006d9-4335-40a6-9025-03cf24444e0d",
   "metadata": {},
   "outputs": [],
   "source": [
    "resp_matched_byaphiaid |= resp_matched_byaphiaid2"
   ]
  },
  {
   "cell_type": "code",
   "execution_count": 31,
   "id": "9ed1803b-ebdd-4f7e-854b-e935aa3f6b25",
   "metadata": {},
   "outputs": [
    {
     "data": {
      "text/plain": [
       "133"
      ]
     },
     "execution_count": 31,
     "metadata": {},
     "output_type": "execute_result"
    }
   ],
   "source": [
    "len(resp_matched_byaphiaid)"
   ]
  },
  {
   "cell_type": "code",
   "execution_count": 32,
   "id": "cea943a9-580d-45dd-bc00-48c67cbfab97",
   "metadata": {},
   "outputs": [],
   "source": [
    "col_mapping = [\n",
    "    ('scientificName', 'scientificname'),\n",
    "    ('scientificNameID', 'lsid'),\n",
    "    ('taxonRank', 'rank'),\n",
    "    ('kingdom', 'kingdom'),\n",
    "    ('phylum', 'phylum'),\n",
    "    ('class', 'class'),\n",
    "    ('order', 'order'),\n",
    "    ('family', 'family'),\n",
    "    ('genus', 'genus'),\n",
    "    ('scientificNameAuthorship', 'authority')\n",
    "]\n",
    "\n",
    "for cm in col_mapping:\n",
    "    species_worms_lut_df[cm[0]] = species_worms_lut_df['aphiaid'].apply(\n",
    "        lambda aid: resp_matched_byaphiaid[aid][cm[1]]\n",
    "    )"
   ]
  },
  {
   "cell_type": "code",
   "execution_count": 33,
   "id": "72fabb47-860c-4de0-8ce5-0a9457d176ce",
   "metadata": {},
   "outputs": [
    {
     "data": {
      "text/html": [
       "<div>\n",
       "<style scoped>\n",
       "    .dataframe tbody tr th:only-of-type {\n",
       "        vertical-align: middle;\n",
       "    }\n",
       "\n",
       "    .dataframe tbody tr th {\n",
       "        vertical-align: top;\n",
       "    }\n",
       "\n",
       "    .dataframe thead th {\n",
       "        text-align: right;\n",
       "    }\n",
       "</style>\n",
       "<table border=\"1\" class=\"dataframe\">\n",
       "  <thead>\n",
       "    <tr style=\"text-align: right;\">\n",
       "      <th></th>\n",
       "      <th>aphiaid</th>\n",
       "      <th>species</th>\n",
       "      <th>scientificName</th>\n",
       "      <th>scientificNameID</th>\n",
       "      <th>taxonRank</th>\n",
       "      <th>kingdom</th>\n",
       "      <th>phylum</th>\n",
       "      <th>class</th>\n",
       "      <th>order</th>\n",
       "      <th>family</th>\n",
       "      <th>genus</th>\n",
       "      <th>scientificNameAuthorship</th>\n",
       "    </tr>\n",
       "  </thead>\n",
       "  <tbody>\n",
       "    <tr>\n",
       "      <th>ACARTIA</th>\n",
       "      <td>104108</td>\n",
       "      <td>ACARTIA</td>\n",
       "      <td>Acartia</td>\n",
       "      <td>urn:lsid:marinespecies.org:taxname:104108</td>\n",
       "      <td>Genus</td>\n",
       "      <td>Animalia</td>\n",
       "      <td>Arthropoda</td>\n",
       "      <td>Copepoda</td>\n",
       "      <td>Calanoida</td>\n",
       "      <td>Acartiidae</td>\n",
       "      <td>Acartia</td>\n",
       "      <td>Dana, 1846</td>\n",
       "    </tr>\n",
       "    <tr>\n",
       "      <th>ACARTIA_CLAUSI</th>\n",
       "      <td>104251</td>\n",
       "      <td>ACARTIA_CLAUSI</td>\n",
       "      <td>Acartia clausi</td>\n",
       "      <td>urn:lsid:marinespecies.org:taxname:104251</td>\n",
       "      <td>Species</td>\n",
       "      <td>Animalia</td>\n",
       "      <td>Arthropoda</td>\n",
       "      <td>Copepoda</td>\n",
       "      <td>Calanoida</td>\n",
       "      <td>Acartiidae</td>\n",
       "      <td>Acartia</td>\n",
       "      <td>Giesbrecht, 1889</td>\n",
       "    </tr>\n",
       "    <tr>\n",
       "      <th>ACARTIA_LONGIREMIS</th>\n",
       "      <td>104257</td>\n",
       "      <td>ACARTIA_LONGIREMIS</td>\n",
       "      <td>Acartia longiremis</td>\n",
       "      <td>urn:lsid:marinespecies.org:taxname:104257</td>\n",
       "      <td>Species</td>\n",
       "      <td>Animalia</td>\n",
       "      <td>Arthropoda</td>\n",
       "      <td>Copepoda</td>\n",
       "      <td>Calanoida</td>\n",
       "      <td>Acartiidae</td>\n",
       "      <td>Acartia</td>\n",
       "      <td>(Lilljeborg, 1853)</td>\n",
       "    </tr>\n",
       "    <tr>\n",
       "      <th>AEQUOREA</th>\n",
       "      <td>116998</td>\n",
       "      <td>AEQUOREA</td>\n",
       "      <td>Aequorea</td>\n",
       "      <td>urn:lsid:marinespecies.org:taxname:116998</td>\n",
       "      <td>Genus</td>\n",
       "      <td>Animalia</td>\n",
       "      <td>Cnidaria</td>\n",
       "      <td>Hydrozoa</td>\n",
       "      <td>Leptothecata</td>\n",
       "      <td>Aequoreidae</td>\n",
       "      <td>Aequorea</td>\n",
       "      <td>Péron &amp; Lesueur, 1810</td>\n",
       "    </tr>\n",
       "    <tr>\n",
       "      <th>AETIDEIDAE</th>\n",
       "      <td>104075</td>\n",
       "      <td>AETIDEIDAE</td>\n",
       "      <td>Aetideidae</td>\n",
       "      <td>urn:lsid:marinespecies.org:taxname:104075</td>\n",
       "      <td>Family</td>\n",
       "      <td>Animalia</td>\n",
       "      <td>Arthropoda</td>\n",
       "      <td>Copepoda</td>\n",
       "      <td>Calanoida</td>\n",
       "      <td>Aetideidae</td>\n",
       "      <td>None</td>\n",
       "      <td>Giesbrecht, 1892</td>\n",
       "    </tr>\n",
       "    <tr>\n",
       "      <th>AETIDEUS</th>\n",
       "      <td>104112</td>\n",
       "      <td>AETIDEUS</td>\n",
       "      <td>Aetideus</td>\n",
       "      <td>urn:lsid:marinespecies.org:taxname:104112</td>\n",
       "      <td>Genus</td>\n",
       "      <td>Animalia</td>\n",
       "      <td>Arthropoda</td>\n",
       "      <td>Copepoda</td>\n",
       "      <td>Calanoida</td>\n",
       "      <td>Aetideidae</td>\n",
       "      <td>Aetideus</td>\n",
       "      <td>Brady, 1883</td>\n",
       "    </tr>\n",
       "    <tr>\n",
       "      <th>AETIDEUS_ARMATUS</th>\n",
       "      <td>104275</td>\n",
       "      <td>AETIDEUS_ARMATUS</td>\n",
       "      <td>Aetideus armatus</td>\n",
       "      <td>urn:lsid:marinespecies.org:taxname:104275</td>\n",
       "      <td>Species</td>\n",
       "      <td>Animalia</td>\n",
       "      <td>Arthropoda</td>\n",
       "      <td>Copepoda</td>\n",
       "      <td>Calanoida</td>\n",
       "      <td>Aetideidae</td>\n",
       "      <td>Aetideus</td>\n",
       "      <td>(Boeck, 1872)</td>\n",
       "    </tr>\n",
       "    <tr>\n",
       "      <th>AETIDEUS_PACIFICUS</th>\n",
       "      <td>254648</td>\n",
       "      <td>AETIDEUS_PACIFICUS</td>\n",
       "      <td>Aetideus pacificus</td>\n",
       "      <td>urn:lsid:marinespecies.org:taxname:254648</td>\n",
       "      <td>Species</td>\n",
       "      <td>Animalia</td>\n",
       "      <td>Arthropoda</td>\n",
       "      <td>Copepoda</td>\n",
       "      <td>Calanoida</td>\n",
       "      <td>Aetideidae</td>\n",
       "      <td>Aetideus</td>\n",
       "      <td>Brodsky, 1950</td>\n",
       "    </tr>\n",
       "    <tr>\n",
       "      <th>AETIDEUS_divergens</th>\n",
       "      <td>346076</td>\n",
       "      <td>AETIDEUS_divergens</td>\n",
       "      <td>Aetideus divergens</td>\n",
       "      <td>urn:lsid:marinespecies.org:taxname:346076</td>\n",
       "      <td>Species</td>\n",
       "      <td>Animalia</td>\n",
       "      <td>Arthropoda</td>\n",
       "      <td>Copepoda</td>\n",
       "      <td>Calanoida</td>\n",
       "      <td>Aetideidae</td>\n",
       "      <td>Aetideus</td>\n",
       "      <td>Bradford, 1971</td>\n",
       "    </tr>\n",
       "    <tr>\n",
       "      <th>AGLANTHA</th>\n",
       "      <td>117212</td>\n",
       "      <td>AGLANTHA</td>\n",
       "      <td>Aglantha</td>\n",
       "      <td>urn:lsid:marinespecies.org:taxname:117212</td>\n",
       "      <td>Genus</td>\n",
       "      <td>Animalia</td>\n",
       "      <td>Cnidaria</td>\n",
       "      <td>Hydrozoa</td>\n",
       "      <td>Trachymedusae</td>\n",
       "      <td>Rhopalonematidae</td>\n",
       "      <td>Aglantha</td>\n",
       "      <td>Haeckel, 1879</td>\n",
       "    </tr>\n",
       "    <tr>\n",
       "      <th>ALIENACANTHOMYSIS_MACROPSIS</th>\n",
       "      <td>226662</td>\n",
       "      <td>ALIENACANTHOMYSIS_MACROPSIS</td>\n",
       "      <td>Alienacanthomysis macropsis</td>\n",
       "      <td>urn:lsid:marinespecies.org:taxname:226662</td>\n",
       "      <td>Species</td>\n",
       "      <td>Animalia</td>\n",
       "      <td>Arthropoda</td>\n",
       "      <td>Malacostraca</td>\n",
       "      <td>Mysida</td>\n",
       "      <td>Mysidae</td>\n",
       "      <td>Alienacanthomysis</td>\n",
       "      <td>(W. Tattersall, 1932)</td>\n",
       "    </tr>\n",
       "    <tr>\n",
       "      <th>AMPHIPODA</th>\n",
       "      <td>1135</td>\n",
       "      <td>AMPHIPODA</td>\n",
       "      <td>Amphipoda</td>\n",
       "      <td>urn:lsid:marinespecies.org:taxname:1135</td>\n",
       "      <td>Order</td>\n",
       "      <td>Animalia</td>\n",
       "      <td>Arthropoda</td>\n",
       "      <td>Malacostraca</td>\n",
       "      <td>Amphipoda</td>\n",
       "      <td>None</td>\n",
       "      <td>None</td>\n",
       "      <td>Latreille, 1816</td>\n",
       "    </tr>\n",
       "    <tr>\n",
       "      <th>ANTHOMEDUSAE</th>\n",
       "      <td>151687</td>\n",
       "      <td>ANTHOMEDUSAE</td>\n",
       "      <td>Anthomedusae</td>\n",
       "      <td>urn:lsid:marinespecies.org:taxname:151687</td>\n",
       "      <td>Order</td>\n",
       "      <td>Animalia</td>\n",
       "      <td>Cnidaria</td>\n",
       "      <td>Hydrozoa</td>\n",
       "      <td>Anthomedusae</td>\n",
       "      <td>None</td>\n",
       "      <td>None</td>\n",
       "      <td>Haeckel, 1879</td>\n",
       "    </tr>\n",
       "    <tr>\n",
       "      <th>AURELIA_LABIATA</th>\n",
       "      <td>287213</td>\n",
       "      <td>AURELIA_LABIATA</td>\n",
       "      <td>Aurelia labiata</td>\n",
       "      <td>urn:lsid:marinespecies.org:taxname:287213</td>\n",
       "      <td>Species</td>\n",
       "      <td>Animalia</td>\n",
       "      <td>Cnidaria</td>\n",
       "      <td>Scyphozoa</td>\n",
       "      <td>Semaeostomeae</td>\n",
       "      <td>Ulmaridae</td>\n",
       "      <td>Aurelia</td>\n",
       "      <td>Chamisso &amp; Eysenhardt, 1821</td>\n",
       "    </tr>\n",
       "    <tr>\n",
       "      <th>BARNACLES</th>\n",
       "      <td>1082</td>\n",
       "      <td>BARNACLES</td>\n",
       "      <td>Cirripedia</td>\n",
       "      <td>urn:lsid:marinespecies.org:taxname:1082</td>\n",
       "      <td>Subclass</td>\n",
       "      <td>Animalia</td>\n",
       "      <td>Arthropoda</td>\n",
       "      <td>Thecostraca</td>\n",
       "      <td>None</td>\n",
       "      <td>None</td>\n",
       "      <td>None</td>\n",
       "      <td>Burmeister, 1834</td>\n",
       "    </tr>\n",
       "  </tbody>\n",
       "</table>\n",
       "</div>"
      ],
      "text/plain": [
       "                             aphiaid                      species  \\\n",
       "ACARTIA                       104108                      ACARTIA   \n",
       "ACARTIA_CLAUSI                104251               ACARTIA_CLAUSI   \n",
       "ACARTIA_LONGIREMIS            104257           ACARTIA_LONGIREMIS   \n",
       "AEQUOREA                      116998                     AEQUOREA   \n",
       "AETIDEIDAE                    104075                   AETIDEIDAE   \n",
       "AETIDEUS                      104112                     AETIDEUS   \n",
       "AETIDEUS_ARMATUS              104275             AETIDEUS_ARMATUS   \n",
       "AETIDEUS_PACIFICUS            254648           AETIDEUS_PACIFICUS   \n",
       "AETIDEUS_divergens            346076           AETIDEUS_divergens   \n",
       "AGLANTHA                      117212                     AGLANTHA   \n",
       "ALIENACANTHOMYSIS_MACROPSIS   226662  ALIENACANTHOMYSIS_MACROPSIS   \n",
       "AMPHIPODA                       1135                    AMPHIPODA   \n",
       "ANTHOMEDUSAE                  151687                 ANTHOMEDUSAE   \n",
       "AURELIA_LABIATA               287213              AURELIA_LABIATA   \n",
       "BARNACLES                       1082                    BARNACLES   \n",
       "\n",
       "                                          scientificName  \\\n",
       "ACARTIA                                          Acartia   \n",
       "ACARTIA_CLAUSI                            Acartia clausi   \n",
       "ACARTIA_LONGIREMIS                    Acartia longiremis   \n",
       "AEQUOREA                                        Aequorea   \n",
       "AETIDEIDAE                                    Aetideidae   \n",
       "AETIDEUS                                        Aetideus   \n",
       "AETIDEUS_ARMATUS                        Aetideus armatus   \n",
       "AETIDEUS_PACIFICUS                    Aetideus pacificus   \n",
       "AETIDEUS_divergens                    Aetideus divergens   \n",
       "AGLANTHA                                        Aglantha   \n",
       "ALIENACANTHOMYSIS_MACROPSIS  Alienacanthomysis macropsis   \n",
       "AMPHIPODA                                      Amphipoda   \n",
       "ANTHOMEDUSAE                                Anthomedusae   \n",
       "AURELIA_LABIATA                          Aurelia labiata   \n",
       "BARNACLES                                     Cirripedia   \n",
       "\n",
       "                                                      scientificNameID  \\\n",
       "ACARTIA                      urn:lsid:marinespecies.org:taxname:104108   \n",
       "ACARTIA_CLAUSI               urn:lsid:marinespecies.org:taxname:104251   \n",
       "ACARTIA_LONGIREMIS           urn:lsid:marinespecies.org:taxname:104257   \n",
       "AEQUOREA                     urn:lsid:marinespecies.org:taxname:116998   \n",
       "AETIDEIDAE                   urn:lsid:marinespecies.org:taxname:104075   \n",
       "AETIDEUS                     urn:lsid:marinespecies.org:taxname:104112   \n",
       "AETIDEUS_ARMATUS             urn:lsid:marinespecies.org:taxname:104275   \n",
       "AETIDEUS_PACIFICUS           urn:lsid:marinespecies.org:taxname:254648   \n",
       "AETIDEUS_divergens           urn:lsid:marinespecies.org:taxname:346076   \n",
       "AGLANTHA                     urn:lsid:marinespecies.org:taxname:117212   \n",
       "ALIENACANTHOMYSIS_MACROPSIS  urn:lsid:marinespecies.org:taxname:226662   \n",
       "AMPHIPODA                      urn:lsid:marinespecies.org:taxname:1135   \n",
       "ANTHOMEDUSAE                 urn:lsid:marinespecies.org:taxname:151687   \n",
       "AURELIA_LABIATA              urn:lsid:marinespecies.org:taxname:287213   \n",
       "BARNACLES                      urn:lsid:marinespecies.org:taxname:1082   \n",
       "\n",
       "                            taxonRank   kingdom      phylum         class  \\\n",
       "ACARTIA                         Genus  Animalia  Arthropoda      Copepoda   \n",
       "ACARTIA_CLAUSI                Species  Animalia  Arthropoda      Copepoda   \n",
       "ACARTIA_LONGIREMIS            Species  Animalia  Arthropoda      Copepoda   \n",
       "AEQUOREA                        Genus  Animalia    Cnidaria      Hydrozoa   \n",
       "AETIDEIDAE                     Family  Animalia  Arthropoda      Copepoda   \n",
       "AETIDEUS                        Genus  Animalia  Arthropoda      Copepoda   \n",
       "AETIDEUS_ARMATUS              Species  Animalia  Arthropoda      Copepoda   \n",
       "AETIDEUS_PACIFICUS            Species  Animalia  Arthropoda      Copepoda   \n",
       "AETIDEUS_divergens            Species  Animalia  Arthropoda      Copepoda   \n",
       "AGLANTHA                        Genus  Animalia    Cnidaria      Hydrozoa   \n",
       "ALIENACANTHOMYSIS_MACROPSIS   Species  Animalia  Arthropoda  Malacostraca   \n",
       "AMPHIPODA                       Order  Animalia  Arthropoda  Malacostraca   \n",
       "ANTHOMEDUSAE                    Order  Animalia    Cnidaria      Hydrozoa   \n",
       "AURELIA_LABIATA               Species  Animalia    Cnidaria     Scyphozoa   \n",
       "BARNACLES                    Subclass  Animalia  Arthropoda   Thecostraca   \n",
       "\n",
       "                                     order            family  \\\n",
       "ACARTIA                          Calanoida        Acartiidae   \n",
       "ACARTIA_CLAUSI                   Calanoida        Acartiidae   \n",
       "ACARTIA_LONGIREMIS               Calanoida        Acartiidae   \n",
       "AEQUOREA                      Leptothecata       Aequoreidae   \n",
       "AETIDEIDAE                       Calanoida        Aetideidae   \n",
       "AETIDEUS                         Calanoida        Aetideidae   \n",
       "AETIDEUS_ARMATUS                 Calanoida        Aetideidae   \n",
       "AETIDEUS_PACIFICUS               Calanoida        Aetideidae   \n",
       "AETIDEUS_divergens               Calanoida        Aetideidae   \n",
       "AGLANTHA                     Trachymedusae  Rhopalonematidae   \n",
       "ALIENACANTHOMYSIS_MACROPSIS         Mysida           Mysidae   \n",
       "AMPHIPODA                        Amphipoda              None   \n",
       "ANTHOMEDUSAE                  Anthomedusae              None   \n",
       "AURELIA_LABIATA              Semaeostomeae         Ulmaridae   \n",
       "BARNACLES                             None              None   \n",
       "\n",
       "                                         genus     scientificNameAuthorship  \n",
       "ACARTIA                                Acartia                   Dana, 1846  \n",
       "ACARTIA_CLAUSI                         Acartia             Giesbrecht, 1889  \n",
       "ACARTIA_LONGIREMIS                     Acartia           (Lilljeborg, 1853)  \n",
       "AEQUOREA                              Aequorea        Péron & Lesueur, 1810  \n",
       "AETIDEIDAE                                None             Giesbrecht, 1892  \n",
       "AETIDEUS                              Aetideus                  Brady, 1883  \n",
       "AETIDEUS_ARMATUS                      Aetideus                (Boeck, 1872)  \n",
       "AETIDEUS_PACIFICUS                    Aetideus                Brodsky, 1950  \n",
       "AETIDEUS_divergens                    Aetideus               Bradford, 1971  \n",
       "AGLANTHA                              Aglantha                Haeckel, 1879  \n",
       "ALIENACANTHOMYSIS_MACROPSIS  Alienacanthomysis        (W. Tattersall, 1932)  \n",
       "AMPHIPODA                                 None              Latreille, 1816  \n",
       "ANTHOMEDUSAE                              None                Haeckel, 1879  \n",
       "AURELIA_LABIATA                        Aurelia  Chamisso & Eysenhardt, 1821  \n",
       "BARNACLES                                 None             Burmeister, 1834  "
      ]
     },
     "execution_count": 33,
     "metadata": {},
     "output_type": "execute_result"
    }
   ],
   "source": [
    "species_worms_lut_df.head(15)"
   ]
  },
  {
   "cell_type": "markdown",
   "id": "a2225eb9-ba2f-4d0b-b22a-40dd1c1d79d9",
   "metadata": {},
   "source": [
    "## Create and populate `taxonomy_df` dataframe"
   ]
  },
  {
   "cell_type": "code",
   "execution_count": 34,
   "id": "f2981645-874f-42a0-aef5-055b730392ce",
   "metadata": {},
   "outputs": [],
   "source": [
    "taxonomy_df = taxonsource_df.merge(\n",
    "    species_worms_lut_df, \n",
    "    how='inner', \n",
    "    on='species'\n",
    ")\n",
    "\n",
    "taxonomy_df['verbatimIdentification'] = taxonomy_df['species']"
   ]
  },
  {
   "cell_type": "markdown",
   "id": "29f537f1-db8f-4cea-8481-9cb42814765d",
   "metadata": {},
   "source": [
    "Some summaries, based on individual records:"
   ]
  },
  {
   "cell_type": "code",
   "execution_count": 35,
   "id": "f121e8e6-d84b-4144-af9f-1a4bd60c25a5",
   "metadata": {},
   "outputs": [
    {
     "data": {
      "text/plain": [
       "Species       4047\n",
       "Genus         1216\n",
       "Class          603\n",
       "Family         327\n",
       "Phylum         214\n",
       "Suborder       146\n",
       "Order          132\n",
       "Subclass       116\n",
       "Gigaclass       45\n",
       "Infraorder      21\n",
       "Name: taxonRank, dtype: int64"
      ]
     },
     "execution_count": 35,
     "metadata": {},
     "output_type": "execute_result"
    }
   ],
   "source": [
    "taxonomy_df.taxonRank.value_counts()"
   ]
  },
  {
   "cell_type": "code",
   "execution_count": 36,
   "id": "19ed5ffb-a2b0-4e66-94d5-f494cab5f3be",
   "metadata": {},
   "outputs": [
    {
     "data": {
      "text/plain": [
       "Chaetognatha     108\n",
       "Bryozoa           80\n",
       "Echinodermata     17\n",
       "Cnidaria           9\n",
       "Name: scientificName, dtype: int64"
      ]
     },
     "execution_count": 36,
     "metadata": {},
     "output_type": "execute_result"
    }
   ],
   "source": [
    "taxonomy_df[taxonomy_df.taxonRank == 'Phylum'].scientificName.value_counts()"
   ]
  },
  {
   "cell_type": "code",
   "execution_count": 37,
   "id": "fca8f0c5-8474-4e7b-96ff-38d68efaa6b1",
   "metadata": {},
   "outputs": [
    {
     "data": {
      "text/plain": [
       "Polychaeta     157\n",
       "Bivalvia       145\n",
       "Gastropoda     145\n",
       "Cirripedia     116\n",
       "Larvacea        91\n",
       "Ostracoda       48\n",
       "Copepoda        14\n",
       "Hydrozoa         2\n",
       "Ophiuroidea      1\n",
       "Name: scientificName, dtype: int64"
      ]
     },
     "execution_count": 37,
     "metadata": {},
     "output_type": "execute_result"
    }
   ],
   "source": [
    "taxonomy_df[taxonomy_df.taxonRank.isin(['Class', 'Subclass'])].scientificName.value_counts()"
   ]
  },
  {
   "cell_type": "markdown",
   "id": "254f00dc-5e7b-4b7f-bc27-4356efce7d9d",
   "metadata": {},
   "source": [
    "Clean up and simplify into a taxonomy table without duplicates"
   ]
  },
  {
   "cell_type": "code",
   "execution_count": 38,
   "id": "3eedbdab-6f4f-4d88-a4a8-f8d89cba90b3",
   "metadata": {},
   "outputs": [],
   "source": [
    "taxonomy_df = (\n",
    "    taxonomy_df\n",
    "    .drop(columns=['sample_code', 'species', 'aphiaid'])\n",
    "    .drop_duplicates()\n",
    "    .sort_values(by='verbatimIdentification')\n",
    "    .reset_index(drop=True)\n",
    ")"
   ]
  },
  {
   "cell_type": "code",
   "execution_count": 39,
   "id": "e1cf69e0-1765-4329-bc22-6e07ff090afa",
   "metadata": {},
   "outputs": [
    {
     "data": {
      "text/plain": [
       "134"
      ]
     },
     "execution_count": 39,
     "metadata": {},
     "output_type": "execute_result"
    }
   ],
   "source": [
    "len(taxonomy_df)"
   ]
  },
  {
   "cell_type": "code",
   "execution_count": 40,
   "id": "641dcac6-b425-44da-8f59-d7144a92ade1",
   "metadata": {},
   "outputs": [
    {
     "data": {
      "text/html": [
       "<div>\n",
       "<style scoped>\n",
       "    .dataframe tbody tr th:only-of-type {\n",
       "        vertical-align: middle;\n",
       "    }\n",
       "\n",
       "    .dataframe tbody tr th {\n",
       "        vertical-align: top;\n",
       "    }\n",
       "\n",
       "    .dataframe thead th {\n",
       "        text-align: right;\n",
       "    }\n",
       "</style>\n",
       "<table border=\"1\" class=\"dataframe\">\n",
       "  <thead>\n",
       "    <tr style=\"text-align: right;\">\n",
       "      <th></th>\n",
       "      <th>scientificName</th>\n",
       "      <th>scientificNameID</th>\n",
       "      <th>taxonRank</th>\n",
       "      <th>kingdom</th>\n",
       "      <th>phylum</th>\n",
       "      <th>class</th>\n",
       "      <th>order</th>\n",
       "      <th>family</th>\n",
       "      <th>genus</th>\n",
       "      <th>scientificNameAuthorship</th>\n",
       "      <th>verbatimIdentification</th>\n",
       "    </tr>\n",
       "  </thead>\n",
       "  <tbody>\n",
       "    <tr>\n",
       "      <th>0</th>\n",
       "      <td>Acartia</td>\n",
       "      <td>urn:lsid:marinespecies.org:taxname:104108</td>\n",
       "      <td>Genus</td>\n",
       "      <td>Animalia</td>\n",
       "      <td>Arthropoda</td>\n",
       "      <td>Copepoda</td>\n",
       "      <td>Calanoida</td>\n",
       "      <td>Acartiidae</td>\n",
       "      <td>Acartia</td>\n",
       "      <td>Dana, 1846</td>\n",
       "      <td>ACARTIA</td>\n",
       "    </tr>\n",
       "    <tr>\n",
       "      <th>1</th>\n",
       "      <td>Acartia clausi</td>\n",
       "      <td>urn:lsid:marinespecies.org:taxname:104251</td>\n",
       "      <td>Species</td>\n",
       "      <td>Animalia</td>\n",
       "      <td>Arthropoda</td>\n",
       "      <td>Copepoda</td>\n",
       "      <td>Calanoida</td>\n",
       "      <td>Acartiidae</td>\n",
       "      <td>Acartia</td>\n",
       "      <td>Giesbrecht, 1889</td>\n",
       "      <td>ACARTIA_CLAUSI</td>\n",
       "    </tr>\n",
       "    <tr>\n",
       "      <th>2</th>\n",
       "      <td>Acartia longiremis</td>\n",
       "      <td>urn:lsid:marinespecies.org:taxname:104257</td>\n",
       "      <td>Species</td>\n",
       "      <td>Animalia</td>\n",
       "      <td>Arthropoda</td>\n",
       "      <td>Copepoda</td>\n",
       "      <td>Calanoida</td>\n",
       "      <td>Acartiidae</td>\n",
       "      <td>Acartia</td>\n",
       "      <td>(Lilljeborg, 1853)</td>\n",
       "      <td>ACARTIA_LONGIREMIS</td>\n",
       "    </tr>\n",
       "    <tr>\n",
       "      <th>3</th>\n",
       "      <td>Aequorea</td>\n",
       "      <td>urn:lsid:marinespecies.org:taxname:116998</td>\n",
       "      <td>Genus</td>\n",
       "      <td>Animalia</td>\n",
       "      <td>Cnidaria</td>\n",
       "      <td>Hydrozoa</td>\n",
       "      <td>Leptothecata</td>\n",
       "      <td>Aequoreidae</td>\n",
       "      <td>Aequorea</td>\n",
       "      <td>Péron &amp; Lesueur, 1810</td>\n",
       "      <td>AEQUOREA</td>\n",
       "    </tr>\n",
       "    <tr>\n",
       "      <th>4</th>\n",
       "      <td>Aetideidae</td>\n",
       "      <td>urn:lsid:marinespecies.org:taxname:104075</td>\n",
       "      <td>Family</td>\n",
       "      <td>Animalia</td>\n",
       "      <td>Arthropoda</td>\n",
       "      <td>Copepoda</td>\n",
       "      <td>Calanoida</td>\n",
       "      <td>Aetideidae</td>\n",
       "      <td>None</td>\n",
       "      <td>Giesbrecht, 1892</td>\n",
       "      <td>AETIDEIDAE</td>\n",
       "    </tr>\n",
       "  </tbody>\n",
       "</table>\n",
       "</div>"
      ],
      "text/plain": [
       "       scientificName                           scientificNameID taxonRank  \\\n",
       "0             Acartia  urn:lsid:marinespecies.org:taxname:104108     Genus   \n",
       "1      Acartia clausi  urn:lsid:marinespecies.org:taxname:104251   Species   \n",
       "2  Acartia longiremis  urn:lsid:marinespecies.org:taxname:104257   Species   \n",
       "3            Aequorea  urn:lsid:marinespecies.org:taxname:116998     Genus   \n",
       "4          Aetideidae  urn:lsid:marinespecies.org:taxname:104075    Family   \n",
       "\n",
       "    kingdom      phylum     class         order       family     genus  \\\n",
       "0  Animalia  Arthropoda  Copepoda     Calanoida   Acartiidae   Acartia   \n",
       "1  Animalia  Arthropoda  Copepoda     Calanoida   Acartiidae   Acartia   \n",
       "2  Animalia  Arthropoda  Copepoda     Calanoida   Acartiidae   Acartia   \n",
       "3  Animalia    Cnidaria  Hydrozoa  Leptothecata  Aequoreidae  Aequorea   \n",
       "4  Animalia  Arthropoda  Copepoda     Calanoida   Aetideidae      None   \n",
       "\n",
       "  scientificNameAuthorship verbatimIdentification  \n",
       "0               Dana, 1846                ACARTIA  \n",
       "1         Giesbrecht, 1889         ACARTIA_CLAUSI  \n",
       "2       (Lilljeborg, 1853)     ACARTIA_LONGIREMIS  \n",
       "3    Péron & Lesueur, 1810               AEQUOREA  \n",
       "4         Giesbrecht, 1892             AETIDEIDAE  "
      ]
     },
     "execution_count": 40,
     "metadata": {},
     "output_type": "execute_result"
    }
   ],
   "source": [
    "taxonomy_df.head()"
   ]
  },
  {
   "cell_type": "markdown",
   "id": "a689f9ba-8607-4901-91d7-3c943ea1fbfc",
   "metadata": {},
   "source": [
    "Some summaries, now based on unique taxon records (no duplicates):"
   ]
  },
  {
   "cell_type": "code",
   "execution_count": 41,
   "id": "dd824f42-7666-4223-b7d4-ff8609c2722d",
   "metadata": {},
   "outputs": [
    {
     "data": {
      "text/plain": [
       "Species       51\n",
       "Genus         35\n",
       "Family        17\n",
       "Order         11\n",
       "Class          8\n",
       "Phylum         4\n",
       "Infraorder     3\n",
       "Suborder       3\n",
       "Subclass       1\n",
       "Gigaclass      1\n",
       "Name: taxonRank, dtype: int64"
      ]
     },
     "execution_count": 41,
     "metadata": {},
     "output_type": "execute_result"
    }
   ],
   "source": [
    "taxonomy_df.taxonRank.value_counts()"
   ]
  },
  {
   "cell_type": "code",
   "execution_count": 42,
   "id": "64596cc0-7ea4-4994-a559-04db9af74186",
   "metadata": {},
   "outputs": [
    {
     "data": {
      "text/plain": [
       "Bryozoa          1\n",
       "Chaetognatha     1\n",
       "Echinodermata    1\n",
       "Cnidaria         1\n",
       "Name: scientificName, dtype: int64"
      ]
     },
     "execution_count": 42,
     "metadata": {},
     "output_type": "execute_result"
    }
   ],
   "source": [
    "taxonomy_df[taxonomy_df.taxonRank == 'Phylum'].scientificName.value_counts()"
   ]
  },
  {
   "cell_type": "code",
   "execution_count": 43,
   "id": "200525af-ca24-4029-91f7-bfd25dfdc72b",
   "metadata": {},
   "outputs": [
    {
     "data": {
      "text/plain": [
       "Cirripedia     1\n",
       "Bivalvia       1\n",
       "Copepoda       1\n",
       "Gastropoda     1\n",
       "Hydrozoa       1\n",
       "Larvacea       1\n",
       "Ophiuroidea    1\n",
       "Ostracoda      1\n",
       "Polychaeta     1\n",
       "Name: scientificName, dtype: int64"
      ]
     },
     "execution_count": 43,
     "metadata": {},
     "output_type": "execute_result"
    }
   ],
   "source": [
    "taxonomy_df[taxonomy_df.taxonRank.isin(['Class', 'Subclass'])].scientificName.value_counts()"
   ]
  },
  {
   "cell_type": "markdown",
   "id": "9e197e48-2c90-4179-93a0-82448a2f83be",
   "metadata": {},
   "source": [
    "## Export `taxonomy_df` to csv"
   ]
  },
  {
   "cell_type": "code",
   "execution_count": 44,
   "id": "44427f62-752c-4ea3-8b6c-c4e86601cbb7",
   "metadata": {},
   "outputs": [],
   "source": [
    "if not debug_no_csvexport:\n",
    "    taxonomy_df.to_csv(data_pth / 'intermediate_DwC_taxonomy.csv', index=False)"
   ]
  },
  {
   "cell_type": "markdown",
   "id": "0e6ad4af-ab4c-45a9-a059-d1c60c6203ea",
   "metadata": {},
   "source": [
    "## Package versions"
   ]
  },
  {
   "cell_type": "code",
   "execution_count": 45,
   "id": "3c2e6dd2-f8f2-435c-86dd-1def87372517",
   "metadata": {},
   "outputs": [
    {
     "name": "stdout",
     "output_type": "stream",
     "text": [
      "2023-05-04 07:17:07.526523 +00:00\n",
      "pandas: 1.5.3\n"
     ]
    }
   ],
   "source": [
    "print(\n",
    "    f\"{datetime.utcnow()} +00:00\\n\"\n",
    "    f\"pandas: {pd.__version__}\"\n",
    ")"
   ]
  },
  {
   "cell_type": "markdown",
   "id": "1b3d9436-9cb3-4063-b71d-b4143a99eb96",
   "metadata": {},
   "source": [
    "The `pyworms` package doesn't have a version attribute. From https://github.com/iobis/pyworms/blob/master/setup.py, the latest version is 0.2.0, as of February 2021. The latest [tagged release](https://github.com/iobis/pyworms/releases/tag/0.2.0) is 0.2.0, from October 2020."
   ]
  },
  {
   "cell_type": "code",
   "execution_count": null,
   "id": "6cebe7a9-9128-418b-8c42-bd1f6bf4c2af",
   "metadata": {},
   "outputs": [],
   "source": []
  }
 ],
 "metadata": {
  "kernelspec": {
   "display_name": "Python [conda env:nanoos_bio]",
   "language": "python",
   "name": "conda-env-nanoos_bio-py"
  },
  "language_info": {
   "codemirror_mode": {
    "name": "ipython",
    "version": 3
   },
   "file_extension": ".py",
   "mimetype": "text/x-python",
   "name": "python",
   "nbconvert_exporter": "python",
   "pygments_lexer": "ipython3",
   "version": "3.9.16"
  }
 },
 "nbformat": 4,
 "nbformat_minor": 5
}
