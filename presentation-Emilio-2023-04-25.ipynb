{
 "cells": [
  {
   "cell_type": "markdown",
   "id": "0b68179a",
   "metadata": {
    "slideshow": {
     "slide_type": "slide"
    }
   },
   "source": [
    "# Hood Canal zooplankton data transformation, NANOOS / OBIS\n",
    "\n",
    "Emilio Mayorga   \n",
    "Applied Physics Laboratory   \n",
    "University of Washington   \n",
    "emiliom@uw.edu   \n",
    "2023-4-25"
   ]
  },
  {
   "cell_type": "markdown",
   "id": "aaca6479",
   "metadata": {
    "slideshow": {
     "slide_type": "slide"
    }
   },
   "source": [
    "## IOOS & NANOOS context\n",
    "\n",
    "- https://ioos.noaa.gov/\n",
    "- https://ioos.noaa.gov/ioos-in-action/marine-life/\n",
    "- https://ioos.github.io/bio_data_guide/\n",
    "- Standardizing Marine Biological Data Working Group (SMBD)"
   ]
  },
  {
   "cell_type": "markdown",
   "id": "7ccb699f",
   "metadata": {
    "slideshow": {
     "slide_type": "slide"
    }
   },
   "source": [
    "## OBIS\n",
    "\n",
    "- What is OBIS? https://obis.org\n",
    "    - *Demo: Quick \"Common name\" search, using \"Pacific krill\". Then navigate from there, to map, stats, individual datasets, etc*\n",
    "    - Example dataset: \"Marine Mammals in Puget Sound\" dataset (limited to individual presence): https://obis.org/dataset/0e80dc63-b47c-423a-8e34-362f3171ea18 and https://mapper.obis.org/?datasetid=0e80dc63-b47c-423a-8e34-362f3171ea18#\n",
    "    - Recent team project in OceanHackWeek in Spanish event: [GitHub repository](https://github.com/Intercoonecta/proy5-regiones-comparacion/) and [Presentation pdf](https://raw.githubusercontent.com/Intercoonecta/proy5-regiones-comparacion/main/Hackaton_proyecto_5_presentacion.pdf)\n",
    "- Greater reach and access to the data: https://obis.org/library/\n",
    "- Feeding data into the Marine Biodiversity Observation Network (MBON), https://marinebon.org\n",
    "- OBIS US Node: Abby Benson, USGS\n",
    "- Data standards requirement. [Darwin Core](https://www.gbif.org/darwin-core), including \"extended measurements or facts\" eMoF extension. https://manual.obis.org. Makes data and metadata more unambiguous, interoperable and \"machine-friendly\""
   ]
  },
  {
   "cell_type": "markdown",
   "id": "ac6ad302",
   "metadata": {
    "slideshow": {
     "slide_type": "slide"
    }
   },
   "source": [
    "## Why the Hood Canal dataset\n",
    "\n",
    "- Dataset previously submitted to and available at BCO-DMO\n",
    "    - BCO-DMO Dataset 682074: [Zooplankton densities collected from a seasonally hypoxic fjord on R/V Clifford A Barnes cruises from 2012-2013 (Pelagic Hypoxia project)](https://www.bco-dmo.org/dataset/682074). ERDDAP dataset: https://erddap.bco-dmo.org/erddap/tabledap/bcodmo_dataset_682074.html. A description of each data column is found in the \"Parameters\" section in https://www.bco-dmo.org/dataset/682074\n",
    "    - BCO-DMO Project 557504: [Consequences of hypoxia on food web linkages in a pelagic marine ecosystem (PelagicHypoxia)](https://www.bco-dmo.org/project/557504)\n",
    "- Focus on an already published and well-organized dataset allowed me to focus this first NANOOS dataset transformation project on the \"Darwin Core data alignment\" and OBIS submission tasks.\n",
    "- Highlight: Advantages / extra capabilities of data in OBIS vs dataset downloaded from BCO-DMO"
   ]
  },
  {
   "cell_type": "markdown",
   "id": "fe35f80c",
   "metadata": {
    "slideshow": {
     "slide_type": "slide"
    }
   },
   "source": [
    "## What I've done (high-level summary)\n",
    "\n",
    "- See **https://github.com/nanoos-pnw/obis-keisterhczoop** (I'll update this by next week)\n",
    "- Downloaded data from BCO-DMO (single csv, supplemented with metadata)\n",
    "- Explored the dataset and familiarized myself with it. Included assessing consistency and reading a paper from the data (Li et al, 2019)\n",
    "- Developed code (Python in Jupyter notebook) to apply transformations (below) to Darwin Core standard\n",
    "- Worked with OBIS (Abby Benson) and the SMBD group to get input on specific strategies, to review initial draft of data alignment, and to get initial overview of the process for submitting the transformed data once finalized"
   ]
  },
  {
   "cell_type": "markdown",
   "id": "915fba58",
   "metadata": {
    "slideshow": {
     "slide_type": "slide"
    }
   },
   "source": [
    "## Transformations (\"data alignment\")\n",
    "\n",
    "Types of transformations:\n",
    "\n",
    "- Reorganize into required tables, with distinct, interrelated information: events, occurrences, and \"measurements or facts\"\n",
    "- Use required column names\n",
    "- Transform values to expected formats (eg, dates and times)\n",
    "- Transform certain types of entries to expected, universal vocabularies. eg, taxonomy mapped to World Register of Marine Species (WoRMS), https://www.marinespecies.org; life stage (incomplete matches), http://vocab.nerc.ac.uk/collection/S11/current/\n",
    "- Enrich information through more explicit (and usually more verbose) presentations (eg, \"cruise\" and \"station visit\" events)\n",
    "- Error checking\n",
    "  - The questions I asked about missing times, timezones, life stages"
   ]
  },
  {
   "cell_type": "markdown",
   "id": "9d6e25fd",
   "metadata": {
    "slideshow": {
     "slide_type": "subslide"
    }
   },
   "source": [
    "## Transformations, continued\n",
    "\n",
    "**Walk through some parts of each notebook and \"mapping\" tables/JSON, then show each resulting table. Provide examples of the transformations.**"
   ]
  },
  {
   "cell_type": "markdown",
   "id": "d803fed2",
   "metadata": {
    "slideshow": {
     "slide_type": "slide"
    }
   },
   "source": [
    "## Next steps\n",
    "\n",
    "- Review (Spot check? Ask questions?): Amanda and BethElLee\n",
    "- Finalize\n",
    "- Submit!\n",
    "- Assess feasability of doing the same for **Puget Sound zooplankton dataset**"
   ]
  }
 ],
 "metadata": {
  "celltoolbar": "Slideshow",
  "kernelspec": {
   "display_name": "Python 3 (ipykernel)",
   "language": "python",
   "name": "python3"
  },
  "language_info": {
   "codemirror_mode": {
    "name": "ipython",
    "version": 3
   },
   "file_extension": ".py",
   "mimetype": "text/x-python",
   "name": "python",
   "nbconvert_exporter": "python",
   "pygments_lexer": "ipython3",
   "version": "3.10.10"
  }
 },
 "nbformat": 4,
 "nbformat_minor": 5
}
